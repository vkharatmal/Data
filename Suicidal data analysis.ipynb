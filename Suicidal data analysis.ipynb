{
 "cells": [
  {
   "cell_type": "markdown",
   "id": "53997b66",
   "metadata": {},
   "source": [
    "## Suicide Data analysis"
   ]
  },
  {
   "cell_type": "code",
   "execution_count": 1,
   "id": "a68687c3",
   "metadata": {},
   "outputs": [],
   "source": [
    "import pandas as pd\n",
    "import seaborn as sns\n",
    "import matplotlib.pyplot as plt\n",
    "sns.set(style='white')"
   ]
  },
  {
   "cell_type": "code",
   "execution_count": 2,
   "id": "542dc879",
   "metadata": {},
   "outputs": [],
   "source": [
    "df=pd.read_csv('GHSH_Pooled_Data1.csv')"
   ]
  },
  {
   "cell_type": "code",
   "execution_count": 3,
   "id": "ec40d7d8",
   "metadata": {},
   "outputs": [
    {
     "data": {
      "text/html": [
       "<div>\n",
       "<style scoped>\n",
       "    .dataframe tbody tr th:only-of-type {\n",
       "        vertical-align: middle;\n",
       "    }\n",
       "\n",
       "    .dataframe tbody tr th {\n",
       "        vertical-align: top;\n",
       "    }\n",
       "\n",
       "    .dataframe thead th {\n",
       "        text-align: right;\n",
       "    }\n",
       "</style>\n",
       "<table border=\"1\" class=\"dataframe\">\n",
       "  <thead>\n",
       "    <tr style=\"text-align: right;\">\n",
       "      <th></th>\n",
       "      <th>Country</th>\n",
       "      <th>Year</th>\n",
       "      <th>Age Group</th>\n",
       "      <th>Sex</th>\n",
       "      <th>Currently_Drink_Alcohol</th>\n",
       "      <th>Really_Get_Drunk</th>\n",
       "      <th>Overwieght</th>\n",
       "      <th>Use_Marijuana</th>\n",
       "      <th>Have_Understanding_Parents</th>\n",
       "      <th>Missed_classes_without_permssion</th>\n",
       "      <th>Had_sexual_relation</th>\n",
       "      <th>Smoke_cig_currently</th>\n",
       "      <th>Had_fights</th>\n",
       "      <th>Bullied</th>\n",
       "      <th>Got_Seriously_injured</th>\n",
       "      <th>No_close_friends</th>\n",
       "      <th>Attempted_suicide</th>\n",
       "    </tr>\n",
       "  </thead>\n",
       "  <tbody>\n",
       "    <tr>\n",
       "      <th>0</th>\n",
       "      <td>Argentina</td>\n",
       "      <td>2018</td>\n",
       "      <td>13-15</td>\n",
       "      <td>Female</td>\n",
       "      <td>50.3</td>\n",
       "      <td>30.7</td>\n",
       "      <td>27.8</td>\n",
       "      <td>7.9</td>\n",
       "      <td>41.5</td>\n",
       "      <td>24.7</td>\n",
       "      <td>25.7</td>\n",
       "      <td>16.8</td>\n",
       "      <td>17.2</td>\n",
       "      <td>NaN</td>\n",
       "      <td>27.5</td>\n",
       "      <td>4.8</td>\n",
       "      <td>19.9</td>\n",
       "    </tr>\n",
       "    <tr>\n",
       "      <th>1</th>\n",
       "      <td>Argentina</td>\n",
       "      <td>2018</td>\n",
       "      <td>13-15</td>\n",
       "      <td>Male</td>\n",
       "      <td>44.9</td>\n",
       "      <td>26.1</td>\n",
       "      <td>39.1</td>\n",
       "      <td>8.4</td>\n",
       "      <td>44.5</td>\n",
       "      <td>27.9</td>\n",
       "      <td>38.4</td>\n",
       "      <td>12.1</td>\n",
       "      <td>33.2</td>\n",
       "      <td>NaN</td>\n",
       "      <td>37.4</td>\n",
       "      <td>5.5</td>\n",
       "      <td>10.4</td>\n",
       "    </tr>\n",
       "    <tr>\n",
       "      <th>2</th>\n",
       "      <td>Argentina</td>\n",
       "      <td>2018</td>\n",
       "      <td>16-17</td>\n",
       "      <td>Female</td>\n",
       "      <td>67.2</td>\n",
       "      <td>56.3</td>\n",
       "      <td>22.5</td>\n",
       "      <td>21.9</td>\n",
       "      <td>37.1</td>\n",
       "      <td>34.0</td>\n",
       "      <td>59.1</td>\n",
       "      <td>28.5</td>\n",
       "      <td>15.1</td>\n",
       "      <td>NaN</td>\n",
       "      <td>30.1</td>\n",
       "      <td>6.3</td>\n",
       "      <td>17.4</td>\n",
       "    </tr>\n",
       "    <tr>\n",
       "      <th>3</th>\n",
       "      <td>Argentina</td>\n",
       "      <td>2018</td>\n",
       "      <td>16-17</td>\n",
       "      <td>Male</td>\n",
       "      <td>68.1</td>\n",
       "      <td>55.8</td>\n",
       "      <td>27.9</td>\n",
       "      <td>27.0</td>\n",
       "      <td>39.8</td>\n",
       "      <td>39.4</td>\n",
       "      <td>68.6</td>\n",
       "      <td>28.0</td>\n",
       "      <td>33.6</td>\n",
       "      <td>NaN</td>\n",
       "      <td>40.3</td>\n",
       "      <td>6.6</td>\n",
       "      <td>11.2</td>\n",
       "    </tr>\n",
       "    <tr>\n",
       "      <th>4</th>\n",
       "      <td>Argentina</td>\n",
       "      <td>2012</td>\n",
       "      <td>13-15</td>\n",
       "      <td>Male</td>\n",
       "      <td>49.3</td>\n",
       "      <td>28.9</td>\n",
       "      <td>35.9</td>\n",
       "      <td>10.6</td>\n",
       "      <td>46.2</td>\n",
       "      <td>32.0</td>\n",
       "      <td>43.5</td>\n",
       "      <td>17.0</td>\n",
       "      <td>44.2</td>\n",
       "      <td>42.1</td>\n",
       "      <td>24.8</td>\n",
       "      <td>6.1</td>\n",
       "      <td>12.9</td>\n",
       "    </tr>\n",
       "    <tr>\n",
       "      <th>5</th>\n",
       "      <td>Argentina</td>\n",
       "      <td>2012</td>\n",
       "      <td>13-15</td>\n",
       "      <td>Female</td>\n",
       "      <td>50.7</td>\n",
       "      <td>26.8</td>\n",
       "      <td>21.8</td>\n",
       "      <td>6.5</td>\n",
       "      <td>49.9</td>\n",
       "      <td>29.4</td>\n",
       "      <td>30.7</td>\n",
       "      <td>20.5</td>\n",
       "      <td>24.7</td>\n",
       "      <td>25.2</td>\n",
       "      <td>24.2</td>\n",
       "      <td>4.3</td>\n",
       "      <td>18.9</td>\n",
       "    </tr>\n",
       "    <tr>\n",
       "      <th>6</th>\n",
       "      <td>Barabados</td>\n",
       "      <td>2011</td>\n",
       "      <td>13-15</td>\n",
       "      <td>Male</td>\n",
       "      <td>29.4</td>\n",
       "      <td>80.2</td>\n",
       "      <td>32.3</td>\n",
       "      <td>15.6</td>\n",
       "      <td>48.1</td>\n",
       "      <td>14.6</td>\n",
       "      <td>32.9</td>\n",
       "      <td>NaN</td>\n",
       "      <td>42.7</td>\n",
       "      <td>30.3</td>\n",
       "      <td>49.1</td>\n",
       "      <td>6.8</td>\n",
       "      <td>10.4</td>\n",
       "    </tr>\n",
       "    <tr>\n",
       "      <th>7</th>\n",
       "      <td>Barabados</td>\n",
       "      <td>2011</td>\n",
       "      <td>13-15</td>\n",
       "      <td>Female</td>\n",
       "      <td>26.6</td>\n",
       "      <td>78.0</td>\n",
       "      <td>39.1</td>\n",
       "      <td>7.4</td>\n",
       "      <td>44.8</td>\n",
       "      <td>11.7</td>\n",
       "      <td>13.5</td>\n",
       "      <td>NaN</td>\n",
       "      <td>29.7</td>\n",
       "      <td>31.1</td>\n",
       "      <td>41.1</td>\n",
       "      <td>8.3</td>\n",
       "      <td>15.4</td>\n",
       "    </tr>\n",
       "    <tr>\n",
       "      <th>8</th>\n",
       "      <td>Benin</td>\n",
       "      <td>2016</td>\n",
       "      <td>13-15</td>\n",
       "      <td>Male</td>\n",
       "      <td>38.0</td>\n",
       "      <td>19.3</td>\n",
       "      <td>12.7</td>\n",
       "      <td>0.8</td>\n",
       "      <td>35.7</td>\n",
       "      <td>18.8</td>\n",
       "      <td>31.8</td>\n",
       "      <td>5.1</td>\n",
       "      <td>32.1</td>\n",
       "      <td>47.4</td>\n",
       "      <td>48.4</td>\n",
       "      <td>10.8</td>\n",
       "      <td>14.4</td>\n",
       "    </tr>\n",
       "    <tr>\n",
       "      <th>9</th>\n",
       "      <td>Benin</td>\n",
       "      <td>2016</td>\n",
       "      <td>13-15</td>\n",
       "      <td>Female</td>\n",
       "      <td>42.4</td>\n",
       "      <td>16.8</td>\n",
       "      <td>18.3</td>\n",
       "      <td>0.2</td>\n",
       "      <td>39.7</td>\n",
       "      <td>6.5</td>\n",
       "      <td>14.2</td>\n",
       "      <td>1.3</td>\n",
       "      <td>27.3</td>\n",
       "      <td>51.5</td>\n",
       "      <td>40.4</td>\n",
       "      <td>14.2</td>\n",
       "      <td>9.6</td>\n",
       "    </tr>\n",
       "    <tr>\n",
       "      <th>10</th>\n",
       "      <td>Benin</td>\n",
       "      <td>2016</td>\n",
       "      <td>16-17</td>\n",
       "      <td>Male</td>\n",
       "      <td>46.5</td>\n",
       "      <td>29.6</td>\n",
       "      <td>3.3</td>\n",
       "      <td>2.1</td>\n",
       "      <td>33.3</td>\n",
       "      <td>17.3</td>\n",
       "      <td>35.7</td>\n",
       "      <td>6.9</td>\n",
       "      <td>28.8</td>\n",
       "      <td>43.3</td>\n",
       "      <td>51.0</td>\n",
       "      <td>9.7</td>\n",
       "      <td>13.4</td>\n",
       "    </tr>\n",
       "    <tr>\n",
       "      <th>11</th>\n",
       "      <td>Benin</td>\n",
       "      <td>2016</td>\n",
       "      <td>16-17</td>\n",
       "      <td>Female</td>\n",
       "      <td>36.1</td>\n",
       "      <td>20.0</td>\n",
       "      <td>14.7</td>\n",
       "      <td>0.6</td>\n",
       "      <td>34.1</td>\n",
       "      <td>20.6</td>\n",
       "      <td>40.1</td>\n",
       "      <td>2.0</td>\n",
       "      <td>17.8</td>\n",
       "      <td>39.8</td>\n",
       "      <td>39.5</td>\n",
       "      <td>15.3</td>\n",
       "      <td>14.1</td>\n",
       "    </tr>\n",
       "    <tr>\n",
       "      <th>12</th>\n",
       "      <td>Bhutan</td>\n",
       "      <td>2016</td>\n",
       "      <td>13-15</td>\n",
       "      <td>Male</td>\n",
       "      <td>26.0</td>\n",
       "      <td>22.8</td>\n",
       "      <td>9.7</td>\n",
       "      <td>21.7</td>\n",
       "      <td>38.7</td>\n",
       "      <td>28.4</td>\n",
       "      <td>18.4</td>\n",
       "      <td>32.5</td>\n",
       "      <td>51.7</td>\n",
       "      <td>31.2</td>\n",
       "      <td>50.8</td>\n",
       "      <td>7.8</td>\n",
       "      <td>10.9</td>\n",
       "    </tr>\n",
       "    <tr>\n",
       "      <th>13</th>\n",
       "      <td>Bhutan</td>\n",
       "      <td>2016</td>\n",
       "      <td>13-15</td>\n",
       "      <td>Female</td>\n",
       "      <td>11.7</td>\n",
       "      <td>9.3</td>\n",
       "      <td>15.7</td>\n",
       "      <td>3.6</td>\n",
       "      <td>45.9</td>\n",
       "      <td>19.3</td>\n",
       "      <td>7.8</td>\n",
       "      <td>9.6</td>\n",
       "      <td>34.3</td>\n",
       "      <td>28.9</td>\n",
       "      <td>38.9</td>\n",
       "      <td>10.3</td>\n",
       "      <td>10.3</td>\n",
       "    </tr>\n",
       "    <tr>\n",
       "      <th>14</th>\n",
       "      <td>Bhutan</td>\n",
       "      <td>2016</td>\n",
       "      <td>16-17</td>\n",
       "      <td>Male</td>\n",
       "      <td>41.2</td>\n",
       "      <td>44.6</td>\n",
       "      <td>5.9</td>\n",
       "      <td>35.5</td>\n",
       "      <td>41.0</td>\n",
       "      <td>31.6</td>\n",
       "      <td>27.0</td>\n",
       "      <td>43.8</td>\n",
       "      <td>46.6</td>\n",
       "      <td>21.2</td>\n",
       "      <td>46.7</td>\n",
       "      <td>6.9</td>\n",
       "      <td>9.7</td>\n",
       "    </tr>\n",
       "    <tr>\n",
       "      <th>15</th>\n",
       "      <td>Bhutan</td>\n",
       "      <td>2016</td>\n",
       "      <td>16-17</td>\n",
       "      <td>Female</td>\n",
       "      <td>21.4</td>\n",
       "      <td>20.9</td>\n",
       "      <td>13.2</td>\n",
       "      <td>7.4</td>\n",
       "      <td>48.1</td>\n",
       "      <td>20.6</td>\n",
       "      <td>10.0</td>\n",
       "      <td>17.1</td>\n",
       "      <td>29.6</td>\n",
       "      <td>23.2</td>\n",
       "      <td>39.1</td>\n",
       "      <td>9.1</td>\n",
       "      <td>14.0</td>\n",
       "    </tr>\n",
       "    <tr>\n",
       "      <th>16</th>\n",
       "      <td>Brunei Darussalam</td>\n",
       "      <td>2014</td>\n",
       "      <td>13-15</td>\n",
       "      <td>Male</td>\n",
       "      <td>4.4</td>\n",
       "      <td>4.5</td>\n",
       "      <td>37.4</td>\n",
       "      <td>0.6</td>\n",
       "      <td>31.4</td>\n",
       "      <td>38.5</td>\n",
       "      <td>11.5</td>\n",
       "      <td>13.9</td>\n",
       "      <td>31.9</td>\n",
       "      <td>25.3</td>\n",
       "      <td>37.1</td>\n",
       "      <td>2.7</td>\n",
       "      <td>4.5</td>\n",
       "    </tr>\n",
       "    <tr>\n",
       "      <th>17</th>\n",
       "      <td>Brunei Darussalam</td>\n",
       "      <td>2014</td>\n",
       "      <td>13-15</td>\n",
       "      <td>Female</td>\n",
       "      <td>3.2</td>\n",
       "      <td>2.3</td>\n",
       "      <td>34.8</td>\n",
       "      <td>0.0</td>\n",
       "      <td>25.7</td>\n",
       "      <td>35.5</td>\n",
       "      <td>8.5</td>\n",
       "      <td>4.3</td>\n",
       "      <td>17.1</td>\n",
       "      <td>21.7</td>\n",
       "      <td>22.8</td>\n",
       "      <td>2.5</td>\n",
       "      <td>5.9</td>\n",
       "    </tr>\n",
       "    <tr>\n",
       "      <th>18</th>\n",
       "      <td>Brunei Darussalam</td>\n",
       "      <td>2014</td>\n",
       "      <td>16-17</td>\n",
       "      <td>Male</td>\n",
       "      <td>9.4</td>\n",
       "      <td>7.5</td>\n",
       "      <td>32.5</td>\n",
       "      <td>0.5</td>\n",
       "      <td>30.8</td>\n",
       "      <td>39.6</td>\n",
       "      <td>16.7</td>\n",
       "      <td>26.5</td>\n",
       "      <td>27.2</td>\n",
       "      <td>15.3</td>\n",
       "      <td>38.9</td>\n",
       "      <td>4.9</td>\n",
       "      <td>4.5</td>\n",
       "    </tr>\n",
       "    <tr>\n",
       "      <th>19</th>\n",
       "      <td>Brunei Darussalam</td>\n",
       "      <td>2014</td>\n",
       "      <td>16-17</td>\n",
       "      <td>Female</td>\n",
       "      <td>2.1</td>\n",
       "      <td>2.4</td>\n",
       "      <td>33.6</td>\n",
       "      <td>1.0</td>\n",
       "      <td>25.4</td>\n",
       "      <td>36.6</td>\n",
       "      <td>11.6</td>\n",
       "      <td>6.3</td>\n",
       "      <td>13.1</td>\n",
       "      <td>14.8</td>\n",
       "      <td>21.1</td>\n",
       "      <td>2.9</td>\n",
       "      <td>9.6</td>\n",
       "    </tr>\n",
       "  </tbody>\n",
       "</table>\n",
       "</div>"
      ],
      "text/plain": [
       "               Country  Year Age Group     Sex  Currently_Drink_Alcohol  \\\n",
       "0            Argentina  2018     13-15  Female                     50.3   \n",
       "1            Argentina  2018     13-15    Male                     44.9   \n",
       "2            Argentina  2018     16-17  Female                     67.2   \n",
       "3            Argentina  2018     16-17    Male                     68.1   \n",
       "4            Argentina  2012     13-15    Male                     49.3   \n",
       "5            Argentina  2012     13-15  Female                     50.7   \n",
       "6            Barabados  2011     13-15    Male                     29.4   \n",
       "7            Barabados  2011     13-15  Female                     26.6   \n",
       "8                Benin  2016     13-15    Male                     38.0   \n",
       "9                Benin  2016     13-15  Female                     42.4   \n",
       "10               Benin  2016     16-17    Male                     46.5   \n",
       "11               Benin  2016     16-17  Female                     36.1   \n",
       "12              Bhutan  2016     13-15    Male                     26.0   \n",
       "13              Bhutan  2016     13-15  Female                     11.7   \n",
       "14              Bhutan  2016     16-17    Male                     41.2   \n",
       "15              Bhutan  2016     16-17  Female                     21.4   \n",
       "16  Brunei Darussalam   2014     13-15    Male                      4.4   \n",
       "17  Brunei Darussalam   2014     13-15  Female                      3.2   \n",
       "18  Brunei Darussalam   2014     16-17    Male                      9.4   \n",
       "19  Brunei Darussalam   2014     16-17  Female                      2.1   \n",
       "\n",
       "    Really_Get_Drunk  Overwieght  Use_Marijuana  Have_Understanding_Parents  \\\n",
       "0               30.7        27.8            7.9                        41.5   \n",
       "1               26.1        39.1            8.4                        44.5   \n",
       "2               56.3        22.5           21.9                        37.1   \n",
       "3               55.8        27.9           27.0                        39.8   \n",
       "4               28.9        35.9           10.6                        46.2   \n",
       "5               26.8        21.8            6.5                        49.9   \n",
       "6               80.2        32.3           15.6                        48.1   \n",
       "7               78.0        39.1            7.4                        44.8   \n",
       "8               19.3        12.7            0.8                        35.7   \n",
       "9               16.8        18.3            0.2                        39.7   \n",
       "10              29.6         3.3            2.1                        33.3   \n",
       "11              20.0        14.7            0.6                        34.1   \n",
       "12              22.8         9.7           21.7                        38.7   \n",
       "13               9.3        15.7            3.6                        45.9   \n",
       "14              44.6         5.9           35.5                        41.0   \n",
       "15              20.9        13.2            7.4                        48.1   \n",
       "16               4.5        37.4            0.6                        31.4   \n",
       "17               2.3        34.8            0.0                        25.7   \n",
       "18               7.5        32.5            0.5                        30.8   \n",
       "19               2.4        33.6            1.0                        25.4   \n",
       "\n",
       "    Missed_classes_without_permssion  Had_sexual_relation  \\\n",
       "0                               24.7                 25.7   \n",
       "1                               27.9                 38.4   \n",
       "2                               34.0                 59.1   \n",
       "3                               39.4                 68.6   \n",
       "4                               32.0                 43.5   \n",
       "5                               29.4                 30.7   \n",
       "6                               14.6                 32.9   \n",
       "7                               11.7                 13.5   \n",
       "8                               18.8                 31.8   \n",
       "9                                6.5                 14.2   \n",
       "10                              17.3                 35.7   \n",
       "11                              20.6                 40.1   \n",
       "12                              28.4                 18.4   \n",
       "13                              19.3                  7.8   \n",
       "14                              31.6                 27.0   \n",
       "15                              20.6                 10.0   \n",
       "16                              38.5                 11.5   \n",
       "17                              35.5                  8.5   \n",
       "18                              39.6                 16.7   \n",
       "19                              36.6                 11.6   \n",
       "\n",
       "    Smoke_cig_currently  Had_fights  Bullied  Got_Seriously_injured  \\\n",
       "0                  16.8        17.2      NaN                   27.5   \n",
       "1                  12.1        33.2      NaN                   37.4   \n",
       "2                  28.5        15.1      NaN                   30.1   \n",
       "3                  28.0        33.6      NaN                   40.3   \n",
       "4                  17.0        44.2     42.1                   24.8   \n",
       "5                  20.5        24.7     25.2                   24.2   \n",
       "6                   NaN        42.7     30.3                   49.1   \n",
       "7                   NaN        29.7     31.1                   41.1   \n",
       "8                   5.1        32.1     47.4                   48.4   \n",
       "9                   1.3        27.3     51.5                   40.4   \n",
       "10                  6.9        28.8     43.3                   51.0   \n",
       "11                  2.0        17.8     39.8                   39.5   \n",
       "12                 32.5        51.7     31.2                   50.8   \n",
       "13                  9.6        34.3     28.9                   38.9   \n",
       "14                 43.8        46.6     21.2                   46.7   \n",
       "15                 17.1        29.6     23.2                   39.1   \n",
       "16                 13.9        31.9     25.3                   37.1   \n",
       "17                  4.3        17.1     21.7                   22.8   \n",
       "18                 26.5        27.2     15.3                   38.9   \n",
       "19                  6.3        13.1     14.8                   21.1   \n",
       "\n",
       "    No_close_friends  Attempted_suicide  \n",
       "0                4.8               19.9  \n",
       "1                5.5               10.4  \n",
       "2                6.3               17.4  \n",
       "3                6.6               11.2  \n",
       "4                6.1               12.9  \n",
       "5                4.3               18.9  \n",
       "6                6.8               10.4  \n",
       "7                8.3               15.4  \n",
       "8               10.8               14.4  \n",
       "9               14.2                9.6  \n",
       "10               9.7               13.4  \n",
       "11              15.3               14.1  \n",
       "12               7.8               10.9  \n",
       "13              10.3               10.3  \n",
       "14               6.9                9.7  \n",
       "15               9.1               14.0  \n",
       "16               2.7                4.5  \n",
       "17               2.5                5.9  \n",
       "18               4.9                4.5  \n",
       "19               2.9                9.6  "
      ]
     },
     "execution_count": 3,
     "metadata": {},
     "output_type": "execute_result"
    }
   ],
   "source": [
    "df.head(20)"
   ]
  },
  {
   "cell_type": "markdown",
   "id": "c1949939",
   "metadata": {},
   "source": [
    "#### Check values and means,ranges, quantiles etc:"
   ]
  },
  {
   "cell_type": "code",
   "execution_count": 4,
   "id": "a02dfa9b",
   "metadata": {},
   "outputs": [
    {
     "data": {
      "text/html": [
       "<div>\n",
       "<style scoped>\n",
       "    .dataframe tbody tr th:only-of-type {\n",
       "        vertical-align: middle;\n",
       "    }\n",
       "\n",
       "    .dataframe tbody tr th {\n",
       "        vertical-align: top;\n",
       "    }\n",
       "\n",
       "    .dataframe thead th {\n",
       "        text-align: right;\n",
       "    }\n",
       "</style>\n",
       "<table border=\"1\" class=\"dataframe\">\n",
       "  <thead>\n",
       "    <tr style=\"text-align: right;\">\n",
       "      <th></th>\n",
       "      <th>Year</th>\n",
       "      <th>Currently_Drink_Alcohol</th>\n",
       "      <th>Really_Get_Drunk</th>\n",
       "      <th>Overwieght</th>\n",
       "      <th>Use_Marijuana</th>\n",
       "      <th>Have_Understanding_Parents</th>\n",
       "      <th>Missed_classes_without_permssion</th>\n",
       "      <th>Had_sexual_relation</th>\n",
       "      <th>Smoke_cig_currently</th>\n",
       "      <th>Had_fights</th>\n",
       "      <th>Bullied</th>\n",
       "      <th>Got_Seriously_injured</th>\n",
       "      <th>No_close_friends</th>\n",
       "      <th>Attempted_suicide</th>\n",
       "    </tr>\n",
       "  </thead>\n",
       "  <tbody>\n",
       "    <tr>\n",
       "      <th>count</th>\n",
       "      <td>106.000000</td>\n",
       "      <td>106.000000</td>\n",
       "      <td>106.000000</td>\n",
       "      <td>106.000000</td>\n",
       "      <td>106.000000</td>\n",
       "      <td>106.000000</td>\n",
       "      <td>106.000000</td>\n",
       "      <td>106.000000</td>\n",
       "      <td>104.000000</td>\n",
       "      <td>106.000000</td>\n",
       "      <td>102.000000</td>\n",
       "      <td>106.000000</td>\n",
       "      <td>106.000000</td>\n",
       "      <td>106.000000</td>\n",
       "    </tr>\n",
       "    <tr>\n",
       "      <th>mean</th>\n",
       "      <td>2014.698113</td>\n",
       "      <td>31.815094</td>\n",
       "      <td>22.496226</td>\n",
       "      <td>23.694340</td>\n",
       "      <td>7.642453</td>\n",
       "      <td>33.190566</td>\n",
       "      <td>29.996226</td>\n",
       "      <td>26.679245</td>\n",
       "      <td>15.546154</td>\n",
       "      <td>32.448113</td>\n",
       "      <td>31.109804</td>\n",
       "      <td>43.723679</td>\n",
       "      <td>7.744340</td>\n",
       "      <td>14.452830</td>\n",
       "    </tr>\n",
       "    <tr>\n",
       "      <th>std</th>\n",
       "      <td>2.089292</td>\n",
       "      <td>53.454089</td>\n",
       "      <td>16.553129</td>\n",
       "      <td>15.764075</td>\n",
       "      <td>8.713536</td>\n",
       "      <td>11.559408</td>\n",
       "      <td>10.786728</td>\n",
       "      <td>17.401318</td>\n",
       "      <td>10.748501</td>\n",
       "      <td>15.297701</td>\n",
       "      <td>14.185479</td>\n",
       "      <td>14.808421</td>\n",
       "      <td>4.365254</td>\n",
       "      <td>9.273621</td>\n",
       "    </tr>\n",
       "    <tr>\n",
       "      <th>min</th>\n",
       "      <td>2010.000000</td>\n",
       "      <td>1.400000</td>\n",
       "      <td>0.800000</td>\n",
       "      <td>3.300000</td>\n",
       "      <td>0.000000</td>\n",
       "      <td>5.600000</td>\n",
       "      <td>6.500000</td>\n",
       "      <td>2.500000</td>\n",
       "      <td>1.200000</td>\n",
       "      <td>3.500000</td>\n",
       "      <td>9.900000</td>\n",
       "      <td>15.200000</td>\n",
       "      <td>1.500000</td>\n",
       "      <td>2.700000</td>\n",
       "    </tr>\n",
       "    <tr>\n",
       "      <th>25%</th>\n",
       "      <td>2013.000000</td>\n",
       "      <td>11.550000</td>\n",
       "      <td>9.000000</td>\n",
       "      <td>11.400000</td>\n",
       "      <td>2.025000</td>\n",
       "      <td>25.825000</td>\n",
       "      <td>22.450000</td>\n",
       "      <td>12.600000</td>\n",
       "      <td>7.050000</td>\n",
       "      <td>20.750000</td>\n",
       "      <td>21.775000</td>\n",
       "      <td>34.800000</td>\n",
       "      <td>4.500000</td>\n",
       "      <td>9.400000</td>\n",
       "    </tr>\n",
       "    <tr>\n",
       "      <th>50%</th>\n",
       "      <td>2015.000000</td>\n",
       "      <td>26.000000</td>\n",
       "      <td>19.650000</td>\n",
       "      <td>21.800000</td>\n",
       "      <td>4.350000</td>\n",
       "      <td>33.400000</td>\n",
       "      <td>28.950000</td>\n",
       "      <td>22.350000</td>\n",
       "      <td>12.600000</td>\n",
       "      <td>29.650000</td>\n",
       "      <td>27.550000</td>\n",
       "      <td>41.400000</td>\n",
       "      <td>6.950000</td>\n",
       "      <td>11.850000</td>\n",
       "    </tr>\n",
       "    <tr>\n",
       "      <th>75%</th>\n",
       "      <td>2016.000000</td>\n",
       "      <td>42.350000</td>\n",
       "      <td>30.475000</td>\n",
       "      <td>31.850000</td>\n",
       "      <td>9.575000</td>\n",
       "      <td>40.850000</td>\n",
       "      <td>36.825000</td>\n",
       "      <td>37.100000</td>\n",
       "      <td>22.000000</td>\n",
       "      <td>42.700000</td>\n",
       "      <td>41.150000</td>\n",
       "      <td>53.150000</td>\n",
       "      <td>9.700000</td>\n",
       "      <td>18.425000</td>\n",
       "    </tr>\n",
       "    <tr>\n",
       "      <th>max</th>\n",
       "      <td>2018.000000</td>\n",
       "      <td>548.000000</td>\n",
       "      <td>80.200000</td>\n",
       "      <td>70.600000</td>\n",
       "      <td>43.200000</td>\n",
       "      <td>63.900000</td>\n",
       "      <td>62.200000</td>\n",
       "      <td>73.900000</td>\n",
       "      <td>43.800000</td>\n",
       "      <td>76.500000</td>\n",
       "      <td>78.600000</td>\n",
       "      <td>87.700000</td>\n",
       "      <td>24.800000</td>\n",
       "      <td>67.200000</td>\n",
       "    </tr>\n",
       "  </tbody>\n",
       "</table>\n",
       "</div>"
      ],
      "text/plain": [
       "              Year  Currently_Drink_Alcohol  Really_Get_Drunk  Overwieght  \\\n",
       "count   106.000000               106.000000        106.000000  106.000000   \n",
       "mean   2014.698113                31.815094         22.496226   23.694340   \n",
       "std       2.089292                53.454089         16.553129   15.764075   \n",
       "min    2010.000000                 1.400000          0.800000    3.300000   \n",
       "25%    2013.000000                11.550000          9.000000   11.400000   \n",
       "50%    2015.000000                26.000000         19.650000   21.800000   \n",
       "75%    2016.000000                42.350000         30.475000   31.850000   \n",
       "max    2018.000000               548.000000         80.200000   70.600000   \n",
       "\n",
       "       Use_Marijuana  Have_Understanding_Parents  \\\n",
       "count     106.000000                  106.000000   \n",
       "mean        7.642453                   33.190566   \n",
       "std         8.713536                   11.559408   \n",
       "min         0.000000                    5.600000   \n",
       "25%         2.025000                   25.825000   \n",
       "50%         4.350000                   33.400000   \n",
       "75%         9.575000                   40.850000   \n",
       "max        43.200000                   63.900000   \n",
       "\n",
       "       Missed_classes_without_permssion  Had_sexual_relation  \\\n",
       "count                        106.000000           106.000000   \n",
       "mean                          29.996226            26.679245   \n",
       "std                           10.786728            17.401318   \n",
       "min                            6.500000             2.500000   \n",
       "25%                           22.450000            12.600000   \n",
       "50%                           28.950000            22.350000   \n",
       "75%                           36.825000            37.100000   \n",
       "max                           62.200000            73.900000   \n",
       "\n",
       "       Smoke_cig_currently  Had_fights     Bullied  Got_Seriously_injured  \\\n",
       "count           104.000000  106.000000  102.000000             106.000000   \n",
       "mean             15.546154   32.448113   31.109804              43.723679   \n",
       "std              10.748501   15.297701   14.185479              14.808421   \n",
       "min               1.200000    3.500000    9.900000              15.200000   \n",
       "25%               7.050000   20.750000   21.775000              34.800000   \n",
       "50%              12.600000   29.650000   27.550000              41.400000   \n",
       "75%              22.000000   42.700000   41.150000              53.150000   \n",
       "max              43.800000   76.500000   78.600000              87.700000   \n",
       "\n",
       "       No_close_friends  Attempted_suicide  \n",
       "count        106.000000         106.000000  \n",
       "mean           7.744340          14.452830  \n",
       "std            4.365254           9.273621  \n",
       "min            1.500000           2.700000  \n",
       "25%            4.500000           9.400000  \n",
       "50%            6.950000          11.850000  \n",
       "75%            9.700000          18.425000  \n",
       "max           24.800000          67.200000  "
      ]
     },
     "execution_count": 4,
     "metadata": {},
     "output_type": "execute_result"
    }
   ],
   "source": [
    "df.describe()"
   ]
  },
  {
   "cell_type": "code",
   "execution_count": 5,
   "id": "80eadcc6",
   "metadata": {},
   "outputs": [],
   "source": [
    "df=df.drop(df[df.Currently_Drink_Alcohol>500].index)"
   ]
  },
  {
   "cell_type": "code",
   "execution_count": 6,
   "id": "c5add680",
   "metadata": {},
   "outputs": [
    {
     "data": {
      "text/html": [
       "<div>\n",
       "<style scoped>\n",
       "    .dataframe tbody tr th:only-of-type {\n",
       "        vertical-align: middle;\n",
       "    }\n",
       "\n",
       "    .dataframe tbody tr th {\n",
       "        vertical-align: top;\n",
       "    }\n",
       "\n",
       "    .dataframe thead th {\n",
       "        text-align: right;\n",
       "    }\n",
       "</style>\n",
       "<table border=\"1\" class=\"dataframe\">\n",
       "  <thead>\n",
       "    <tr style=\"text-align: right;\">\n",
       "      <th></th>\n",
       "      <th>Year</th>\n",
       "      <th>Currently_Drink_Alcohol</th>\n",
       "      <th>Really_Get_Drunk</th>\n",
       "      <th>Overwieght</th>\n",
       "      <th>Use_Marijuana</th>\n",
       "      <th>Have_Understanding_Parents</th>\n",
       "      <th>Missed_classes_without_permssion</th>\n",
       "      <th>Had_sexual_relation</th>\n",
       "      <th>Smoke_cig_currently</th>\n",
       "      <th>Had_fights</th>\n",
       "      <th>Bullied</th>\n",
       "      <th>Got_Seriously_injured</th>\n",
       "      <th>No_close_friends</th>\n",
       "      <th>Attempted_suicide</th>\n",
       "    </tr>\n",
       "  </thead>\n",
       "  <tbody>\n",
       "    <tr>\n",
       "      <th>count</th>\n",
       "      <td>105.000000</td>\n",
       "      <td>105.000000</td>\n",
       "      <td>105.000000</td>\n",
       "      <td>105.000000</td>\n",
       "      <td>105.000000</td>\n",
       "      <td>105.000000</td>\n",
       "      <td>105.000000</td>\n",
       "      <td>105.000000</td>\n",
       "      <td>103.000000</td>\n",
       "      <td>105.000000</td>\n",
       "      <td>101.000000</td>\n",
       "      <td>105.000000</td>\n",
       "      <td>105.000000</td>\n",
       "      <td>105.000000</td>\n",
       "    </tr>\n",
       "    <tr>\n",
       "      <th>mean</th>\n",
       "      <td>2014.676190</td>\n",
       "      <td>26.899048</td>\n",
       "      <td>22.394286</td>\n",
       "      <td>23.702857</td>\n",
       "      <td>7.516190</td>\n",
       "      <td>33.181905</td>\n",
       "      <td>29.994286</td>\n",
       "      <td>26.356190</td>\n",
       "      <td>15.523301</td>\n",
       "      <td>32.335238</td>\n",
       "      <td>31.157426</td>\n",
       "      <td>43.707714</td>\n",
       "      <td>7.726667</td>\n",
       "      <td>14.437143</td>\n",
       "    </tr>\n",
       "    <tr>\n",
       "      <th>std</th>\n",
       "      <td>2.087026</td>\n",
       "      <td>17.274985</td>\n",
       "      <td>16.599055</td>\n",
       "      <td>15.839437</td>\n",
       "      <td>8.657346</td>\n",
       "      <td>11.614503</td>\n",
       "      <td>10.838445</td>\n",
       "      <td>17.162414</td>\n",
       "      <td>10.798522</td>\n",
       "      <td>15.326655</td>\n",
       "      <td>14.248034</td>\n",
       "      <td>14.878528</td>\n",
       "      <td>4.382379</td>\n",
       "      <td>9.316685</td>\n",
       "    </tr>\n",
       "    <tr>\n",
       "      <th>min</th>\n",
       "      <td>2010.000000</td>\n",
       "      <td>1.400000</td>\n",
       "      <td>0.800000</td>\n",
       "      <td>3.300000</td>\n",
       "      <td>0.000000</td>\n",
       "      <td>5.600000</td>\n",
       "      <td>6.500000</td>\n",
       "      <td>2.500000</td>\n",
       "      <td>1.200000</td>\n",
       "      <td>3.500000</td>\n",
       "      <td>9.900000</td>\n",
       "      <td>15.200000</td>\n",
       "      <td>1.500000</td>\n",
       "      <td>2.700000</td>\n",
       "    </tr>\n",
       "    <tr>\n",
       "      <th>25%</th>\n",
       "      <td>2013.000000</td>\n",
       "      <td>11.500000</td>\n",
       "      <td>8.900000</td>\n",
       "      <td>11.300000</td>\n",
       "      <td>2.000000</td>\n",
       "      <td>25.700000</td>\n",
       "      <td>22.300000</td>\n",
       "      <td>12.500000</td>\n",
       "      <td>7.000000</td>\n",
       "      <td>20.500000</td>\n",
       "      <td>21.700000</td>\n",
       "      <td>34.800000</td>\n",
       "      <td>4.500000</td>\n",
       "      <td>9.400000</td>\n",
       "    </tr>\n",
       "    <tr>\n",
       "      <th>50%</th>\n",
       "      <td>2015.000000</td>\n",
       "      <td>26.000000</td>\n",
       "      <td>19.300000</td>\n",
       "      <td>21.800000</td>\n",
       "      <td>4.200000</td>\n",
       "      <td>33.300000</td>\n",
       "      <td>28.900000</td>\n",
       "      <td>22.300000</td>\n",
       "      <td>12.600000</td>\n",
       "      <td>29.600000</td>\n",
       "      <td>27.800000</td>\n",
       "      <td>41.100000</td>\n",
       "      <td>6.900000</td>\n",
       "      <td>11.700000</td>\n",
       "    </tr>\n",
       "    <tr>\n",
       "      <th>75%</th>\n",
       "      <td>2016.000000</td>\n",
       "      <td>42.200000</td>\n",
       "      <td>29.800000</td>\n",
       "      <td>31.900000</td>\n",
       "      <td>9.500000</td>\n",
       "      <td>41.000000</td>\n",
       "      <td>36.900000</td>\n",
       "      <td>36.800000</td>\n",
       "      <td>22.100000</td>\n",
       "      <td>42.700000</td>\n",
       "      <td>41.500000</td>\n",
       "      <td>53.200000</td>\n",
       "      <td>9.700000</td>\n",
       "      <td>18.600000</td>\n",
       "    </tr>\n",
       "    <tr>\n",
       "      <th>max</th>\n",
       "      <td>2018.000000</td>\n",
       "      <td>68.100000</td>\n",
       "      <td>80.200000</td>\n",
       "      <td>70.600000</td>\n",
       "      <td>43.200000</td>\n",
       "      <td>63.900000</td>\n",
       "      <td>62.200000</td>\n",
       "      <td>73.900000</td>\n",
       "      <td>43.800000</td>\n",
       "      <td>76.500000</td>\n",
       "      <td>78.600000</td>\n",
       "      <td>87.700000</td>\n",
       "      <td>24.800000</td>\n",
       "      <td>67.200000</td>\n",
       "    </tr>\n",
       "  </tbody>\n",
       "</table>\n",
       "</div>"
      ],
      "text/plain": [
       "              Year  Currently_Drink_Alcohol  Really_Get_Drunk  Overwieght  \\\n",
       "count   105.000000               105.000000        105.000000  105.000000   \n",
       "mean   2014.676190                26.899048         22.394286   23.702857   \n",
       "std       2.087026                17.274985         16.599055   15.839437   \n",
       "min    2010.000000                 1.400000          0.800000    3.300000   \n",
       "25%    2013.000000                11.500000          8.900000   11.300000   \n",
       "50%    2015.000000                26.000000         19.300000   21.800000   \n",
       "75%    2016.000000                42.200000         29.800000   31.900000   \n",
       "max    2018.000000                68.100000         80.200000   70.600000   \n",
       "\n",
       "       Use_Marijuana  Have_Understanding_Parents  \\\n",
       "count     105.000000                  105.000000   \n",
       "mean        7.516190                   33.181905   \n",
       "std         8.657346                   11.614503   \n",
       "min         0.000000                    5.600000   \n",
       "25%         2.000000                   25.700000   \n",
       "50%         4.200000                   33.300000   \n",
       "75%         9.500000                   41.000000   \n",
       "max        43.200000                   63.900000   \n",
       "\n",
       "       Missed_classes_without_permssion  Had_sexual_relation  \\\n",
       "count                        105.000000           105.000000   \n",
       "mean                          29.994286            26.356190   \n",
       "std                           10.838445            17.162414   \n",
       "min                            6.500000             2.500000   \n",
       "25%                           22.300000            12.500000   \n",
       "50%                           28.900000            22.300000   \n",
       "75%                           36.900000            36.800000   \n",
       "max                           62.200000            73.900000   \n",
       "\n",
       "       Smoke_cig_currently  Had_fights     Bullied  Got_Seriously_injured  \\\n",
       "count           103.000000  105.000000  101.000000             105.000000   \n",
       "mean             15.523301   32.335238   31.157426              43.707714   \n",
       "std              10.798522   15.326655   14.248034              14.878528   \n",
       "min               1.200000    3.500000    9.900000              15.200000   \n",
       "25%               7.000000   20.500000   21.700000              34.800000   \n",
       "50%              12.600000   29.600000   27.800000              41.100000   \n",
       "75%              22.100000   42.700000   41.500000              53.200000   \n",
       "max              43.800000   76.500000   78.600000              87.700000   \n",
       "\n",
       "       No_close_friends  Attempted_suicide  \n",
       "count        105.000000         105.000000  \n",
       "mean           7.726667          14.437143  \n",
       "std            4.382379           9.316685  \n",
       "min            1.500000           2.700000  \n",
       "25%            4.500000           9.400000  \n",
       "50%            6.900000          11.700000  \n",
       "75%            9.700000          18.600000  \n",
       "max           24.800000          67.200000  "
      ]
     },
     "execution_count": 6,
     "metadata": {},
     "output_type": "execute_result"
    }
   ],
   "source": [
    "df.describe()"
   ]
  },
  {
   "cell_type": "code",
   "execution_count": 7,
   "id": "e3497abd",
   "metadata": {},
   "outputs": [
    {
     "name": "stdout",
     "output_type": "stream",
     "text": [
      "<class 'pandas.core.frame.DataFrame'>\n",
      "Int64Index: 105 entries, 0 to 105\n",
      "Data columns (total 17 columns):\n",
      " #   Column                            Non-Null Count  Dtype  \n",
      "---  ------                            --------------  -----  \n",
      " 0   Country                           105 non-null    object \n",
      " 1   Year                              105 non-null    int64  \n",
      " 2   Age Group                         105 non-null    object \n",
      " 3   Sex                               105 non-null    object \n",
      " 4   Currently_Drink_Alcohol           105 non-null    float64\n",
      " 5   Really_Get_Drunk                  105 non-null    float64\n",
      " 6   Overwieght                        105 non-null    float64\n",
      " 7   Use_Marijuana                     105 non-null    float64\n",
      " 8   Have_Understanding_Parents        105 non-null    float64\n",
      " 9   Missed_classes_without_permssion  105 non-null    float64\n",
      " 10  Had_sexual_relation               105 non-null    float64\n",
      " 11  Smoke_cig_currently               103 non-null    float64\n",
      " 12  Had_fights                        105 non-null    float64\n",
      " 13  Bullied                           101 non-null    float64\n",
      " 14  Got_Seriously_injured             105 non-null    float64\n",
      " 15  No_close_friends                  105 non-null    float64\n",
      " 16  Attempted_suicide                 105 non-null    float64\n",
      "dtypes: float64(13), int64(1), object(3)\n",
      "memory usage: 14.8+ KB\n"
     ]
    }
   ],
   "source": [
    "df.info()"
   ]
  },
  {
   "cell_type": "code",
   "execution_count": 8,
   "id": "c47f278e",
   "metadata": {},
   "outputs": [
    {
     "data": {
      "text/html": [
       "<div>\n",
       "<style scoped>\n",
       "    .dataframe tbody tr th:only-of-type {\n",
       "        vertical-align: middle;\n",
       "    }\n",
       "\n",
       "    .dataframe tbody tr th {\n",
       "        vertical-align: top;\n",
       "    }\n",
       "\n",
       "    .dataframe thead th {\n",
       "        text-align: right;\n",
       "    }\n",
       "</style>\n",
       "<table border=\"1\" class=\"dataframe\">\n",
       "  <thead>\n",
       "    <tr style=\"text-align: right;\">\n",
       "      <th></th>\n",
       "      <th>Country</th>\n",
       "      <th>Year</th>\n",
       "      <th>Age Group</th>\n",
       "      <th>Sex</th>\n",
       "      <th>Currently_Drink_Alcohol</th>\n",
       "      <th>Really_Get_Drunk</th>\n",
       "      <th>Overwieght</th>\n",
       "      <th>Use_Marijuana</th>\n",
       "      <th>Have_Understanding_Parents</th>\n",
       "      <th>Missed_classes_without_permssion</th>\n",
       "      <th>Had_sexual_relation</th>\n",
       "      <th>Smoke_cig_currently</th>\n",
       "      <th>Had_fights</th>\n",
       "      <th>Bullied</th>\n",
       "      <th>Got_Seriously_injured</th>\n",
       "      <th>No_close_friends</th>\n",
       "      <th>Attempted_suicide</th>\n",
       "    </tr>\n",
       "  </thead>\n",
       "  <tbody>\n",
       "    <tr>\n",
       "      <th>6</th>\n",
       "      <td>Barabados</td>\n",
       "      <td>2011</td>\n",
       "      <td>13-15</td>\n",
       "      <td>Male</td>\n",
       "      <td>29.4</td>\n",
       "      <td>80.2</td>\n",
       "      <td>32.3</td>\n",
       "      <td>15.6</td>\n",
       "      <td>48.1</td>\n",
       "      <td>14.6</td>\n",
       "      <td>32.9</td>\n",
       "      <td>NaN</td>\n",
       "      <td>42.7</td>\n",
       "      <td>30.3</td>\n",
       "      <td>49.1</td>\n",
       "      <td>6.8</td>\n",
       "      <td>10.4</td>\n",
       "    </tr>\n",
       "    <tr>\n",
       "      <th>7</th>\n",
       "      <td>Barabados</td>\n",
       "      <td>2011</td>\n",
       "      <td>13-15</td>\n",
       "      <td>Female</td>\n",
       "      <td>26.6</td>\n",
       "      <td>78.0</td>\n",
       "      <td>39.1</td>\n",
       "      <td>7.4</td>\n",
       "      <td>44.8</td>\n",
       "      <td>11.7</td>\n",
       "      <td>13.5</td>\n",
       "      <td>NaN</td>\n",
       "      <td>29.7</td>\n",
       "      <td>31.1</td>\n",
       "      <td>41.1</td>\n",
       "      <td>8.3</td>\n",
       "      <td>15.4</td>\n",
       "    </tr>\n",
       "  </tbody>\n",
       "</table>\n",
       "</div>"
      ],
      "text/plain": [
       "     Country  Year Age Group     Sex  Currently_Drink_Alcohol  \\\n",
       "6  Barabados  2011     13-15    Male                     29.4   \n",
       "7  Barabados  2011     13-15  Female                     26.6   \n",
       "\n",
       "   Really_Get_Drunk  Overwieght  Use_Marijuana  Have_Understanding_Parents  \\\n",
       "6              80.2        32.3           15.6                        48.1   \n",
       "7              78.0        39.1            7.4                        44.8   \n",
       "\n",
       "   Missed_classes_without_permssion  Had_sexual_relation  Smoke_cig_currently  \\\n",
       "6                              14.6                 32.9                  NaN   \n",
       "7                              11.7                 13.5                  NaN   \n",
       "\n",
       "   Had_fights  Bullied  Got_Seriously_injured  No_close_friends  \\\n",
       "6        42.7     30.3                   49.1               6.8   \n",
       "7        29.7     31.1                   41.1               8.3   \n",
       "\n",
       "   Attempted_suicide  \n",
       "6               10.4  \n",
       "7               15.4  "
      ]
     },
     "execution_count": 8,
     "metadata": {},
     "output_type": "execute_result"
    }
   ],
   "source": [
    "df[df.Smoke_cig_currently.isnull()]"
   ]
  },
  {
   "cell_type": "code",
   "execution_count": 9,
   "id": "288fd6b8",
   "metadata": {},
   "outputs": [
    {
     "data": {
      "text/html": [
       "<div>\n",
       "<style scoped>\n",
       "    .dataframe tbody tr th:only-of-type {\n",
       "        vertical-align: middle;\n",
       "    }\n",
       "\n",
       "    .dataframe tbody tr th {\n",
       "        vertical-align: top;\n",
       "    }\n",
       "\n",
       "    .dataframe thead th {\n",
       "        text-align: right;\n",
       "    }\n",
       "</style>\n",
       "<table border=\"1\" class=\"dataframe\">\n",
       "  <thead>\n",
       "    <tr style=\"text-align: right;\">\n",
       "      <th></th>\n",
       "      <th>Country</th>\n",
       "      <th>Year</th>\n",
       "      <th>Age Group</th>\n",
       "      <th>Sex</th>\n",
       "      <th>Currently_Drink_Alcohol</th>\n",
       "      <th>Really_Get_Drunk</th>\n",
       "      <th>Overwieght</th>\n",
       "      <th>Use_Marijuana</th>\n",
       "      <th>Have_Understanding_Parents</th>\n",
       "      <th>Missed_classes_without_permssion</th>\n",
       "      <th>Had_sexual_relation</th>\n",
       "      <th>Smoke_cig_currently</th>\n",
       "      <th>Had_fights</th>\n",
       "      <th>Bullied</th>\n",
       "      <th>Got_Seriously_injured</th>\n",
       "      <th>No_close_friends</th>\n",
       "      <th>Attempted_suicide</th>\n",
       "    </tr>\n",
       "  </thead>\n",
       "  <tbody>\n",
       "    <tr>\n",
       "      <th>0</th>\n",
       "      <td>Argentina</td>\n",
       "      <td>2018</td>\n",
       "      <td>13-15</td>\n",
       "      <td>Female</td>\n",
       "      <td>50.3</td>\n",
       "      <td>30.7</td>\n",
       "      <td>27.8</td>\n",
       "      <td>7.9</td>\n",
       "      <td>41.5</td>\n",
       "      <td>24.7</td>\n",
       "      <td>25.7</td>\n",
       "      <td>16.8</td>\n",
       "      <td>17.2</td>\n",
       "      <td>NaN</td>\n",
       "      <td>27.5</td>\n",
       "      <td>4.8</td>\n",
       "      <td>19.9</td>\n",
       "    </tr>\n",
       "    <tr>\n",
       "      <th>1</th>\n",
       "      <td>Argentina</td>\n",
       "      <td>2018</td>\n",
       "      <td>13-15</td>\n",
       "      <td>Male</td>\n",
       "      <td>44.9</td>\n",
       "      <td>26.1</td>\n",
       "      <td>39.1</td>\n",
       "      <td>8.4</td>\n",
       "      <td>44.5</td>\n",
       "      <td>27.9</td>\n",
       "      <td>38.4</td>\n",
       "      <td>12.1</td>\n",
       "      <td>33.2</td>\n",
       "      <td>NaN</td>\n",
       "      <td>37.4</td>\n",
       "      <td>5.5</td>\n",
       "      <td>10.4</td>\n",
       "    </tr>\n",
       "    <tr>\n",
       "      <th>2</th>\n",
       "      <td>Argentina</td>\n",
       "      <td>2018</td>\n",
       "      <td>16-17</td>\n",
       "      <td>Female</td>\n",
       "      <td>67.2</td>\n",
       "      <td>56.3</td>\n",
       "      <td>22.5</td>\n",
       "      <td>21.9</td>\n",
       "      <td>37.1</td>\n",
       "      <td>34.0</td>\n",
       "      <td>59.1</td>\n",
       "      <td>28.5</td>\n",
       "      <td>15.1</td>\n",
       "      <td>NaN</td>\n",
       "      <td>30.1</td>\n",
       "      <td>6.3</td>\n",
       "      <td>17.4</td>\n",
       "    </tr>\n",
       "    <tr>\n",
       "      <th>3</th>\n",
       "      <td>Argentina</td>\n",
       "      <td>2018</td>\n",
       "      <td>16-17</td>\n",
       "      <td>Male</td>\n",
       "      <td>68.1</td>\n",
       "      <td>55.8</td>\n",
       "      <td>27.9</td>\n",
       "      <td>27.0</td>\n",
       "      <td>39.8</td>\n",
       "      <td>39.4</td>\n",
       "      <td>68.6</td>\n",
       "      <td>28.0</td>\n",
       "      <td>33.6</td>\n",
       "      <td>NaN</td>\n",
       "      <td>40.3</td>\n",
       "      <td>6.6</td>\n",
       "      <td>11.2</td>\n",
       "    </tr>\n",
       "  </tbody>\n",
       "</table>\n",
       "</div>"
      ],
      "text/plain": [
       "     Country  Year Age Group     Sex  Currently_Drink_Alcohol  \\\n",
       "0  Argentina  2018     13-15  Female                     50.3   \n",
       "1  Argentina  2018     13-15    Male                     44.9   \n",
       "2  Argentina  2018     16-17  Female                     67.2   \n",
       "3  Argentina  2018     16-17    Male                     68.1   \n",
       "\n",
       "   Really_Get_Drunk  Overwieght  Use_Marijuana  Have_Understanding_Parents  \\\n",
       "0              30.7        27.8            7.9                        41.5   \n",
       "1              26.1        39.1            8.4                        44.5   \n",
       "2              56.3        22.5           21.9                        37.1   \n",
       "3              55.8        27.9           27.0                        39.8   \n",
       "\n",
       "   Missed_classes_without_permssion  Had_sexual_relation  Smoke_cig_currently  \\\n",
       "0                              24.7                 25.7                 16.8   \n",
       "1                              27.9                 38.4                 12.1   \n",
       "2                              34.0                 59.1                 28.5   \n",
       "3                              39.4                 68.6                 28.0   \n",
       "\n",
       "   Had_fights  Bullied  Got_Seriously_injured  No_close_friends  \\\n",
       "0        17.2      NaN                   27.5               4.8   \n",
       "1        33.2      NaN                   37.4               5.5   \n",
       "2        15.1      NaN                   30.1               6.3   \n",
       "3        33.6      NaN                   40.3               6.6   \n",
       "\n",
       "   Attempted_suicide  \n",
       "0               19.9  \n",
       "1               10.4  \n",
       "2               17.4  \n",
       "3               11.2  "
      ]
     },
     "execution_count": 9,
     "metadata": {},
     "output_type": "execute_result"
    }
   ],
   "source": [
    "df[df.Bullied.isnull()]"
   ]
  },
  {
   "cell_type": "markdown",
   "id": "4a8293a7",
   "metadata": {},
   "source": [
    "#### Could not fill up the null values as reference data points per country are not present "
   ]
  },
  {
   "cell_type": "code",
   "execution_count": 10,
   "id": "d3f150b2",
   "metadata": {},
   "outputs": [
    {
     "data": {
      "text/plain": [
       "array(['Argentina', 'Barabados', 'Benin', 'Bhutan', 'Brunei Darussalam ',\n",
       "       'Dominican Republic ', 'Fiji Islands', 'Indonesia', 'Jamaica',\n",
       "       'Kiribati', 'Laos', 'Malaysia', 'Mauritus', 'Mongolia', 'Namibia',\n",
       "       'Nepal', 'Peru', 'Samoa', 'Seychelles', 'Suriname', 'Thailand',\n",
       "       'Timor-Leste ', 'Trinidad and Tobago ', 'Tuvalu ', 'Uruguay ',\n",
       "       'Vanuatu ', 'Wallis and Futuna '], dtype=object)"
      ]
     },
     "execution_count": 10,
     "metadata": {},
     "output_type": "execute_result"
    }
   ],
   "source": [
    "df.Country.unique()"
   ]
  },
  {
   "cell_type": "code",
   "execution_count": 11,
   "id": "5f605547",
   "metadata": {},
   "outputs": [
    {
     "data": {
      "text/html": [
       "<div>\n",
       "<style scoped>\n",
       "    .dataframe tbody tr th:only-of-type {\n",
       "        vertical-align: middle;\n",
       "    }\n",
       "\n",
       "    .dataframe tbody tr th {\n",
       "        vertical-align: top;\n",
       "    }\n",
       "\n",
       "    .dataframe thead th {\n",
       "        text-align: right;\n",
       "    }\n",
       "</style>\n",
       "<table border=\"1\" class=\"dataframe\">\n",
       "  <thead>\n",
       "    <tr style=\"text-align: right;\">\n",
       "      <th></th>\n",
       "      <th>Country</th>\n",
       "      <th>Year</th>\n",
       "      <th>Age Group</th>\n",
       "      <th>Sex</th>\n",
       "      <th>Currently_Drink_Alcohol</th>\n",
       "      <th>Really_Get_Drunk</th>\n",
       "      <th>Overwieght</th>\n",
       "      <th>Use_Marijuana</th>\n",
       "      <th>Have_Understanding_Parents</th>\n",
       "      <th>Missed_classes_without_permssion</th>\n",
       "      <th>Had_sexual_relation</th>\n",
       "      <th>Smoke_cig_currently</th>\n",
       "      <th>Had_fights</th>\n",
       "      <th>Bullied</th>\n",
       "      <th>Got_Seriously_injured</th>\n",
       "      <th>No_close_friends</th>\n",
       "      <th>Attempted_suicide</th>\n",
       "    </tr>\n",
       "  </thead>\n",
       "  <tbody>\n",
       "    <tr>\n",
       "      <th>0</th>\n",
       "      <td>Argentina</td>\n",
       "      <td>2018</td>\n",
       "      <td>13-15</td>\n",
       "      <td>Female</td>\n",
       "      <td>50.3</td>\n",
       "      <td>30.7</td>\n",
       "      <td>27.8</td>\n",
       "      <td>7.9</td>\n",
       "      <td>41.5</td>\n",
       "      <td>24.7</td>\n",
       "      <td>25.7</td>\n",
       "      <td>16.8</td>\n",
       "      <td>17.2</td>\n",
       "      <td>NaN</td>\n",
       "      <td>27.5</td>\n",
       "      <td>4.8</td>\n",
       "      <td>19.9</td>\n",
       "    </tr>\n",
       "    <tr>\n",
       "      <th>1</th>\n",
       "      <td>Argentina</td>\n",
       "      <td>2018</td>\n",
       "      <td>13-15</td>\n",
       "      <td>Male</td>\n",
       "      <td>44.9</td>\n",
       "      <td>26.1</td>\n",
       "      <td>39.1</td>\n",
       "      <td>8.4</td>\n",
       "      <td>44.5</td>\n",
       "      <td>27.9</td>\n",
       "      <td>38.4</td>\n",
       "      <td>12.1</td>\n",
       "      <td>33.2</td>\n",
       "      <td>NaN</td>\n",
       "      <td>37.4</td>\n",
       "      <td>5.5</td>\n",
       "      <td>10.4</td>\n",
       "    </tr>\n",
       "    <tr>\n",
       "      <th>2</th>\n",
       "      <td>Argentina</td>\n",
       "      <td>2018</td>\n",
       "      <td>16-17</td>\n",
       "      <td>Female</td>\n",
       "      <td>67.2</td>\n",
       "      <td>56.3</td>\n",
       "      <td>22.5</td>\n",
       "      <td>21.9</td>\n",
       "      <td>37.1</td>\n",
       "      <td>34.0</td>\n",
       "      <td>59.1</td>\n",
       "      <td>28.5</td>\n",
       "      <td>15.1</td>\n",
       "      <td>NaN</td>\n",
       "      <td>30.1</td>\n",
       "      <td>6.3</td>\n",
       "      <td>17.4</td>\n",
       "    </tr>\n",
       "    <tr>\n",
       "      <th>3</th>\n",
       "      <td>Argentina</td>\n",
       "      <td>2018</td>\n",
       "      <td>16-17</td>\n",
       "      <td>Male</td>\n",
       "      <td>68.1</td>\n",
       "      <td>55.8</td>\n",
       "      <td>27.9</td>\n",
       "      <td>27.0</td>\n",
       "      <td>39.8</td>\n",
       "      <td>39.4</td>\n",
       "      <td>68.6</td>\n",
       "      <td>28.0</td>\n",
       "      <td>33.6</td>\n",
       "      <td>NaN</td>\n",
       "      <td>40.3</td>\n",
       "      <td>6.6</td>\n",
       "      <td>11.2</td>\n",
       "    </tr>\n",
       "    <tr>\n",
       "      <th>4</th>\n",
       "      <td>Argentina</td>\n",
       "      <td>2012</td>\n",
       "      <td>13-15</td>\n",
       "      <td>Male</td>\n",
       "      <td>49.3</td>\n",
       "      <td>28.9</td>\n",
       "      <td>35.9</td>\n",
       "      <td>10.6</td>\n",
       "      <td>46.2</td>\n",
       "      <td>32.0</td>\n",
       "      <td>43.5</td>\n",
       "      <td>17.0</td>\n",
       "      <td>44.2</td>\n",
       "      <td>42.1</td>\n",
       "      <td>24.8</td>\n",
       "      <td>6.1</td>\n",
       "      <td>12.9</td>\n",
       "    </tr>\n",
       "    <tr>\n",
       "      <th>5</th>\n",
       "      <td>Argentina</td>\n",
       "      <td>2012</td>\n",
       "      <td>13-15</td>\n",
       "      <td>Female</td>\n",
       "      <td>50.7</td>\n",
       "      <td>26.8</td>\n",
       "      <td>21.8</td>\n",
       "      <td>6.5</td>\n",
       "      <td>49.9</td>\n",
       "      <td>29.4</td>\n",
       "      <td>30.7</td>\n",
       "      <td>20.5</td>\n",
       "      <td>24.7</td>\n",
       "      <td>25.2</td>\n",
       "      <td>24.2</td>\n",
       "      <td>4.3</td>\n",
       "      <td>18.9</td>\n",
       "    </tr>\n",
       "  </tbody>\n",
       "</table>\n",
       "</div>"
      ],
      "text/plain": [
       "     Country  Year Age Group     Sex  Currently_Drink_Alcohol  \\\n",
       "0  Argentina  2018     13-15  Female                     50.3   \n",
       "1  Argentina  2018     13-15    Male                     44.9   \n",
       "2  Argentina  2018     16-17  Female                     67.2   \n",
       "3  Argentina  2018     16-17    Male                     68.1   \n",
       "4  Argentina  2012     13-15    Male                     49.3   \n",
       "5  Argentina  2012     13-15  Female                     50.7   \n",
       "\n",
       "   Really_Get_Drunk  Overwieght  Use_Marijuana  Have_Understanding_Parents  \\\n",
       "0              30.7        27.8            7.9                        41.5   \n",
       "1              26.1        39.1            8.4                        44.5   \n",
       "2              56.3        22.5           21.9                        37.1   \n",
       "3              55.8        27.9           27.0                        39.8   \n",
       "4              28.9        35.9           10.6                        46.2   \n",
       "5              26.8        21.8            6.5                        49.9   \n",
       "\n",
       "   Missed_classes_without_permssion  Had_sexual_relation  Smoke_cig_currently  \\\n",
       "0                              24.7                 25.7                 16.8   \n",
       "1                              27.9                 38.4                 12.1   \n",
       "2                              34.0                 59.1                 28.5   \n",
       "3                              39.4                 68.6                 28.0   \n",
       "4                              32.0                 43.5                 17.0   \n",
       "5                              29.4                 30.7                 20.5   \n",
       "\n",
       "   Had_fights  Bullied  Got_Seriously_injured  No_close_friends  \\\n",
       "0        17.2      NaN                   27.5               4.8   \n",
       "1        33.2      NaN                   37.4               5.5   \n",
       "2        15.1      NaN                   30.1               6.3   \n",
       "3        33.6      NaN                   40.3               6.6   \n",
       "4        44.2     42.1                   24.8               6.1   \n",
       "5        24.7     25.2                   24.2               4.3   \n",
       "\n",
       "   Attempted_suicide  \n",
       "0               19.9  \n",
       "1               10.4  \n",
       "2               17.4  \n",
       "3               11.2  \n",
       "4               12.9  \n",
       "5               18.9  "
      ]
     },
     "execution_count": 11,
     "metadata": {},
     "output_type": "execute_result"
    }
   ],
   "source": [
    "df[df.Country=='Argentina']"
   ]
  },
  {
   "cell_type": "markdown",
   "id": "ce321e89",
   "metadata": {},
   "source": [
    "#### Bullied and had fights might have some correlation as values looks similar in table"
   ]
  },
  {
   "cell_type": "code",
   "execution_count": 12,
   "id": "d3013484",
   "metadata": {},
   "outputs": [
    {
     "data": {
      "text/html": [
       "<div>\n",
       "<style scoped>\n",
       "    .dataframe tbody tr th:only-of-type {\n",
       "        vertical-align: middle;\n",
       "    }\n",
       "\n",
       "    .dataframe tbody tr th {\n",
       "        vertical-align: top;\n",
       "    }\n",
       "\n",
       "    .dataframe thead th {\n",
       "        text-align: right;\n",
       "    }\n",
       "</style>\n",
       "<table border=\"1\" class=\"dataframe\">\n",
       "  <thead>\n",
       "    <tr style=\"text-align: right;\">\n",
       "      <th></th>\n",
       "      <th>Had_fights</th>\n",
       "      <th>Bullied</th>\n",
       "    </tr>\n",
       "  </thead>\n",
       "  <tbody>\n",
       "    <tr>\n",
       "      <th>Had_fights</th>\n",
       "      <td>1.000000</td>\n",
       "      <td>0.539979</td>\n",
       "    </tr>\n",
       "    <tr>\n",
       "      <th>Bullied</th>\n",
       "      <td>0.539979</td>\n",
       "      <td>1.000000</td>\n",
       "    </tr>\n",
       "  </tbody>\n",
       "</table>\n",
       "</div>"
      ],
      "text/plain": [
       "            Had_fights   Bullied\n",
       "Had_fights    1.000000  0.539979\n",
       "Bullied       0.539979  1.000000"
      ]
     },
     "execution_count": 12,
     "metadata": {},
     "output_type": "execute_result"
    }
   ],
   "source": [
    "df.iloc[:,12:14].corr()"
   ]
  },
  {
   "cell_type": "code",
   "execution_count": 13,
   "id": "40bf7778",
   "metadata": {},
   "outputs": [
    {
     "data": {
      "text/plain": [
       "<AxesSubplot:>"
      ]
     },
     "execution_count": 13,
     "metadata": {},
     "output_type": "execute_result"
    },
    {
     "data": {
      "image/png": "[encoded data removed]",
      "text/plain": [
       "<Figure size 432x288 with 2 Axes>"
      ]
     },
     "metadata": {},
     "output_type": "display_data"
    }
   ],
   "source": [
    "sns.heatmap(df.corr())"
   ]
  },
  {
   "cell_type": "code",
   "execution_count": 14,
   "id": "0c09f696",
   "metadata": {},
   "outputs": [
    {
     "data": {
      "text/html": [
       "<style type=\"text/css\">\n",
       "#T_c6c6e_row0_col0, #T_c6c6e_row1_col1, #T_c6c6e_row2_col2, #T_c6c6e_row3_col3, #T_c6c6e_row4_col4, #T_c6c6e_row5_col5, #T_c6c6e_row6_col6, #T_c6c6e_row7_col7, #T_c6c6e_row8_col8, #T_c6c6e_row9_col9, #T_c6c6e_row10_col10, #T_c6c6e_row11_col11, #T_c6c6e_row12_col12, #T_c6c6e_row13_col13 {\n",
       "  background-color: #b40426;\n",
       "  color: #f1f1f1;\n",
       "}\n",
       "#T_c6c6e_row0_col1, #T_c6c6e_row0_col5 {\n",
       "  background-color: #adc9fd;\n",
       "  color: #000000;\n",
       "}\n",
       "#T_c6c6e_row0_col2, #T_c6c6e_row0_col4, #T_c6c6e_row3_col12 {\n",
       "  background-color: #4b64d5;\n",
       "  color: #f1f1f1;\n",
       "}\n",
       "#T_c6c6e_row0_col3, #T_c6c6e_row0_col7, #T_c6c6e_row0_col12, #T_c6c6e_row7_col3 {\n",
       "  background-color: #6384eb;\n",
       "  color: #f1f1f1;\n",
       "}\n",
       "#T_c6c6e_row0_col6 {\n",
       "  background-color: #8badfd;\n",
       "  color: #000000;\n",
       "}\n",
       "#T_c6c6e_row0_col8, #T_c6c6e_row11_col0, #T_c6c6e_row12_col3 {\n",
       "  background-color: #5977e3;\n",
       "  color: #f1f1f1;\n",
       "}\n",
       "#T_c6c6e_row0_col9, #T_c6c6e_row0_col10, #T_c6c6e_row0_col13, #T_c6c6e_row5_col4, #T_c6c6e_row5_col6, #T_c6c6e_row5_col7, #T_c6c6e_row5_col8, #T_c6c6e_row5_col11, #T_c6c6e_row5_col12, #T_c6c6e_row6_col2, #T_c6c6e_row6_col5, #T_c6c6e_row9_col1, #T_c6c6e_row10_col0, #T_c6c6e_row10_col2, #T_c6c6e_row11_col3 {\n",
       "  background-color: #3b4cc0;\n",
       "  color: #f1f1f1;\n",
       "}\n",
       "#T_c6c6e_row0_col11, #T_c6c6e_row5_col13 {\n",
       "  background-color: #516ddb;\n",
       "  color: #f1f1f1;\n",
       "}\n",
       "#T_c6c6e_row1_col0 {\n",
       "  background-color: #c5d6f2;\n",
       "  color: #000000;\n",
       "}\n",
       "#T_c6c6e_row1_col2 {\n",
       "  background-color: #f18d6f;\n",
       "  color: #f1f1f1;\n",
       "}\n",
       "#T_c6c6e_row1_col3, #T_c6c6e_row5_col2 {\n",
       "  background-color: #7295f4;\n",
       "  color: #f1f1f1;\n",
       "}\n",
       "#T_c6c6e_row1_col4, #T_c6c6e_row8_col4 {\n",
       "  background-color: #dedcdb;\n",
       "  color: #000000;\n",
       "}\n",
       "#T_c6c6e_row1_col5, #T_c6c6e_row4_col13 {\n",
       "  background-color: #dadce0;\n",
       "  color: #000000;\n",
       "}\n",
       "#T_c6c6e_row1_col6, #T_c6c6e_row13_col1 {\n",
       "  background-color: #a9c6fd;\n",
       "  color: #000000;\n",
       "}\n",
       "#T_c6c6e_row1_col7, #T_c6c6e_row9_col11 {\n",
       "  background-color: #f6a283;\n",
       "  color: #000000;\n",
       "}\n",
       "#T_c6c6e_row1_col8, #T_c6c6e_row12_col9, #T_c6c6e_row12_col11 {\n",
       "  background-color: #ccd9ed;\n",
       "  color: #000000;\n",
       "}\n",
       "#T_c6c6e_row1_col9, #T_c6c6e_row6_col0, #T_c6c6e_row6_col3 {\n",
       "  background-color: #5b7ae5;\n",
       "  color: #f1f1f1;\n",
       "}\n",
       "#T_c6c6e_row1_col10, #T_c6c6e_row13_col2 {\n",
       "  background-color: #80a3fa;\n",
       "  color: #f1f1f1;\n",
       "}\n",
       "#T_c6c6e_row1_col11 {\n",
       "  background-color: #6180e9;\n",
       "  color: #f1f1f1;\n",
       "}\n",
       "#T_c6c6e_row1_col12 {\n",
       "  background-color: #9abbff;\n",
       "  color: #000000;\n",
       "}\n",
       "#T_c6c6e_row1_col13, #T_c6c6e_row7_col0 {\n",
       "  background-color: #b3cdfb;\n",
       "  color: #000000;\n",
       "}\n",
       "#T_c6c6e_row2_col0 {\n",
       "  background-color: #93b5fe;\n",
       "  color: #000000;\n",
       "}\n",
       "#T_c6c6e_row2_col1 {\n",
       "  background-color: #ec8165;\n",
       "  color: #f1f1f1;\n",
       "}\n",
       "#T_c6c6e_row2_col3, #T_c6c6e_row11_col4 {\n",
       "  background-color: #86a9fc;\n",
       "  color: #f1f1f1;\n",
       "}\n",
       "#T_c6c6e_row2_col4, #T_c6c6e_row13_col6 {\n",
       "  background-color: #ead4c8;\n",
       "  color: #000000;\n",
       "}\n",
       "#T_c6c6e_row2_col5 {\n",
       "  background-color: #d2dbe8;\n",
       "  color: #000000;\n",
       "}\n",
       "#T_c6c6e_row2_col6, #T_c6c6e_row2_col13, #T_c6c6e_row4_col10, #T_c6c6e_row13_col8 {\n",
       "  background-color: #aec9fc;\n",
       "  color: #000000;\n",
       "}\n",
       "#T_c6c6e_row2_col7 {\n",
       "  background-color: #f6bea4;\n",
       "  color: #000000;\n",
       "}\n",
       "#T_c6c6e_row2_col8, #T_c6c6e_row7_col4 {\n",
       "  background-color: #f5c4ac;\n",
       "  color: #000000;\n",
       "}\n",
       "#T_c6c6e_row2_col9, #T_c6c6e_row2_col11 {\n",
       "  background-color: #88abfd;\n",
       "  color: #000000;\n",
       "}\n",
       "#T_c6c6e_row2_col10 {\n",
       "  background-color: #84a7fc;\n",
       "  color: #f1f1f1;\n",
       "}\n",
       "#T_c6c6e_row2_col12 {\n",
       "  background-color: #7da0f9;\n",
       "  color: #f1f1f1;\n",
       "}\n",
       "#T_c6c6e_row3_col0, #T_c6c6e_row9_col5, #T_c6c6e_row13_col5 {\n",
       "  background-color: #94b6ff;\n",
       "  color: #000000;\n",
       "}\n",
       "#T_c6c6e_row3_col1 {\n",
       "  background-color: #81a4fb;\n",
       "  color: #f1f1f1;\n",
       "}\n",
       "#T_c6c6e_row3_col2, #T_c6c6e_row4_col3 {\n",
       "  background-color: #6f92f3;\n",
       "  color: #f1f1f1;\n",
       "}\n",
       "#T_c6c6e_row3_col4 {\n",
       "  background-color: #4055c8;\n",
       "  color: #f1f1f1;\n",
       "}\n",
       "#T_c6c6e_row3_col5 {\n",
       "  background-color: #bcd2f7;\n",
       "  color: #000000;\n",
       "}\n",
       "#T_c6c6e_row3_col6 {\n",
       "  background-color: #b6cefa;\n",
       "  color: #000000;\n",
       "}\n",
       "#T_c6c6e_row3_col7, #T_c6c6e_row9_col0 {\n",
       "  background-color: #3c4ec2;\n",
       "  color: #f1f1f1;\n",
       "}\n",
       "#T_c6c6e_row3_col8, #T_c6c6e_row11_col12 {\n",
       "  background-color: #a5c3fe;\n",
       "  color: #000000;\n",
       "}\n",
       "#T_c6c6e_row3_col9 {\n",
       "  background-color: #afcafc;\n",
       "  color: #000000;\n",
       "}\n",
       "#T_c6c6e_row3_col10 {\n",
       "  background-color: #799cf8;\n",
       "  color: #f1f1f1;\n",
       "}\n",
       "#T_c6c6e_row3_col11 {\n",
       "  background-color: #6687ed;\n",
       "  color: #f1f1f1;\n",
       "}\n",
       "#T_c6c6e_row3_col13 {\n",
       "  background-color: #bed2f6;\n",
       "  color: #000000;\n",
       "}\n",
       "#T_c6c6e_row4_col0, #T_c6c6e_row12_col5 {\n",
       "  background-color: #a7c5fe;\n",
       "  color: #000000;\n",
       "}\n",
       "#T_c6c6e_row4_col1 {\n",
       "  background-color: #f2cbb7;\n",
       "  color: #000000;\n",
       "}\n",
       "#T_c6c6e_row4_col2, #T_c6c6e_row9_col6 {\n",
       "  background-color: #f1cdba;\n",
       "  color: #000000;\n",
       "}\n",
       "#T_c6c6e_row4_col5, #T_c6c6e_row8_col7 {\n",
       "  background-color: #bfd3f6;\n",
       "  color: #000000;\n",
       "}\n",
       "#T_c6c6e_row4_col6, #T_c6c6e_row7_col8 {\n",
       "  background-color: #dddcdc;\n",
       "  color: #000000;\n",
       "}\n",
       "#T_c6c6e_row4_col7 {\n",
       "  background-color: #f5c0a7;\n",
       "  color: #000000;\n",
       "}\n",
       "#T_c6c6e_row4_col8 {\n",
       "  background-color: #f2cab5;\n",
       "  color: #000000;\n",
       "}\n",
       "#T_c6c6e_row4_col9, #T_c6c6e_row7_col11 {\n",
       "  background-color: #d5dbe5;\n",
       "  color: #000000;\n",
       "}\n",
       "#T_c6c6e_row4_col11, #T_c6c6e_row6_col13, #T_c6c6e_row8_col1 {\n",
       "  background-color: #cbd8ee;\n",
       "  color: #000000;\n",
       "}\n",
       "#T_c6c6e_row4_col12, #T_c6c6e_row9_col4 {\n",
       "  background-color: #92b4fe;\n",
       "  color: #000000;\n",
       "}\n",
       "#T_c6c6e_row5_col0, #T_c6c6e_row9_col7, #T_c6c6e_row10_col7 {\n",
       "  background-color: #82a6fb;\n",
       "  color: #f1f1f1;\n",
       "}\n",
       "#T_c6c6e_row5_col1 {\n",
       "  background-color: #a3c2fe;\n",
       "  color: #000000;\n",
       "}\n",
       "#T_c6c6e_row5_col3, #T_c6c6e_row5_col9 {\n",
       "  background-color: #6485ec;\n",
       "  color: #f1f1f1;\n",
       "}\n",
       "#T_c6c6e_row5_col10 {\n",
       "  background-color: #7093f3;\n",
       "  color: #f1f1f1;\n",
       "}\n",
       "#T_c6c6e_row6_col1 {\n",
       "  background-color: #5a78e4;\n",
       "  color: #f1f1f1;\n",
       "}\n",
       "#T_c6c6e_row6_col4, #T_c6c6e_row11_col5, #T_c6c6e_row12_col4 {\n",
       "  background-color: #7396f5;\n",
       "  color: #f1f1f1;\n",
       "}\n",
       "#T_c6c6e_row6_col7 {\n",
       "  background-color: #89acfd;\n",
       "  color: #000000;\n",
       "}\n",
       "#T_c6c6e_row6_col8 {\n",
       "  background-color: #ecd3c5;\n",
       "  color: #000000;\n",
       "}\n",
       "#T_c6c6e_row6_col9 {\n",
       "  background-color: #e0dbd8;\n",
       "  color: #000000;\n",
       "}\n",
       "#T_c6c6e_row6_col10 {\n",
       "  background-color: #d9dce1;\n",
       "  color: #000000;\n",
       "}\n",
       "#T_c6c6e_row6_col11 {\n",
       "  background-color: #d8dce2;\n",
       "  color: #000000;\n",
       "}\n",
       "#T_c6c6e_row6_col12 {\n",
       "  background-color: #5572df;\n",
       "  color: #f1f1f1;\n",
       "}\n",
       "#T_c6c6e_row7_col1 {\n",
       "  background-color: #f18f71;\n",
       "  color: #f1f1f1;\n",
       "}\n",
       "#T_c6c6e_row7_col2 {\n",
       "  background-color: #f7b89c;\n",
       "  color: #000000;\n",
       "}\n",
       "#T_c6c6e_row7_col5 {\n",
       "  background-color: #bad0f8;\n",
       "  color: #000000;\n",
       "}\n",
       "#T_c6c6e_row7_col6, #T_c6c6e_row8_col9, #T_c6c6e_row12_col10, #T_c6c6e_row12_col13 {\n",
       "  background-color: #e4d9d2;\n",
       "  color: #000000;\n",
       "}\n",
       "#T_c6c6e_row7_col9 {\n",
       "  background-color: #c7d7f0;\n",
       "  color: #000000;\n",
       "}\n",
       "#T_c6c6e_row7_col10 {\n",
       "  background-color: #c9d7f0;\n",
       "  color: #000000;\n",
       "}\n",
       "#T_c6c6e_row7_col12 {\n",
       "  background-color: #c3d5f4;\n",
       "  color: #000000;\n",
       "}\n",
       "#T_c6c6e_row7_col13, #T_c6c6e_row8_col11 {\n",
       "  background-color: #dbdcde;\n",
       "  color: #000000;\n",
       "}\n",
       "#T_c6c6e_row8_col0 {\n",
       "  background-color: #7a9df8;\n",
       "  color: #f1f1f1;\n",
       "}\n",
       "#T_c6c6e_row8_col2, #T_c6c6e_row11_col6 {\n",
       "  background-color: #edd1c2;\n",
       "  color: #000000;\n",
       "}\n",
       "#T_c6c6e_row8_col3 {\n",
       "  background-color: #97b8ff;\n",
       "  color: #000000;\n",
       "}\n",
       "#T_c6c6e_row8_col5 {\n",
       "  background-color: #8caffe;\n",
       "  color: #000000;\n",
       "}\n",
       "#T_c6c6e_row8_col6 {\n",
       "  background-color: #f7b599;\n",
       "  color: #000000;\n",
       "}\n",
       "#T_c6c6e_row8_col10, #T_c6c6e_row13_col4 {\n",
       "  background-color: #aac7fd;\n",
       "  color: #000000;\n",
       "}\n",
       "#T_c6c6e_row8_col12, #T_c6c6e_row13_col0 {\n",
       "  background-color: #4e68d8;\n",
       "  color: #f1f1f1;\n",
       "}\n",
       "#T_c6c6e_row8_col13 {\n",
       "  background-color: #b9d0f9;\n",
       "  color: #000000;\n",
       "}\n",
       "#T_c6c6e_row9_col2 {\n",
       "  background-color: #3f53c6;\n",
       "  color: #f1f1f1;\n",
       "}\n",
       "#T_c6c6e_row9_col3 {\n",
       "  background-color: #85a8fc;\n",
       "  color: #f1f1f1;\n",
       "}\n",
       "#T_c6c6e_row9_col8 {\n",
       "  background-color: #d6dce4;\n",
       "  color: #000000;\n",
       "}\n",
       "#T_c6c6e_row9_col10, #T_c6c6e_row10_col9 {\n",
       "  background-color: #f5c2aa;\n",
       "  color: #000000;\n",
       "}\n",
       "#T_c6c6e_row9_col12, #T_c6c6e_row10_col5, #T_c6c6e_row12_col0 {\n",
       "  background-color: #9fbfff;\n",
       "  color: #000000;\n",
       "}\n",
       "#T_c6c6e_row9_col13 {\n",
       "  background-color: #cad8ef;\n",
       "  color: #000000;\n",
       "}\n",
       "#T_c6c6e_row10_col1 {\n",
       "  background-color: #5d7ce6;\n",
       "  color: #f1f1f1;\n",
       "}\n",
       "#T_c6c6e_row10_col3 {\n",
       "  background-color: #465ecf;\n",
       "  color: #f1f1f1;\n",
       "}\n",
       "#T_c6c6e_row10_col4 {\n",
       "  background-color: #5470de;\n",
       "  color: #f1f1f1;\n",
       "}\n",
       "#T_c6c6e_row10_col6, #T_c6c6e_row11_col13 {\n",
       "  background-color: #edd2c3;\n",
       "  color: #000000;\n",
       "}\n",
       "#T_c6c6e_row10_col8 {\n",
       "  background-color: #8db0fe;\n",
       "  color: #000000;\n",
       "}\n",
       "#T_c6c6e_row10_col11 {\n",
       "  background-color: #f59f80;\n",
       "  color: #000000;\n",
       "}\n",
       "#T_c6c6e_row10_col12 {\n",
       "  background-color: #c4d5f3;\n",
       "  color: #000000;\n",
       "}\n",
       "#T_c6c6e_row10_col13 {\n",
       "  background-color: #f7a889;\n",
       "  color: #000000;\n",
       "}\n",
       "#T_c6c6e_row11_col1 {\n",
       "  background-color: #445acc;\n",
       "  color: #f1f1f1;\n",
       "}\n",
       "#T_c6c6e_row11_col2 {\n",
       "  background-color: #455cce;\n",
       "  color: #f1f1f1;\n",
       "}\n",
       "#T_c6c6e_row11_col7 {\n",
       "  background-color: #9ebeff;\n",
       "  color: #000000;\n",
       "}\n",
       "#T_c6c6e_row11_col8 {\n",
       "  background-color: #cdd9ec;\n",
       "  color: #000000;\n",
       "}\n",
       "#T_c6c6e_row11_col9, #T_c6c6e_row13_col10 {\n",
       "  background-color: #f5a081;\n",
       "  color: #000000;\n",
       "}\n",
       "#T_c6c6e_row11_col10 {\n",
       "  background-color: #f59c7d;\n",
       "  color: #000000;\n",
       "}\n",
       "#T_c6c6e_row12_col1, #T_c6c6e_row13_col7 {\n",
       "  background-color: #b2ccfb;\n",
       "  color: #000000;\n",
       "}\n",
       "#T_c6c6e_row12_col2 {\n",
       "  background-color: #7597f6;\n",
       "  color: #f1f1f1;\n",
       "}\n",
       "#T_c6c6e_row12_col6 {\n",
       "  background-color: #bbd1f8;\n",
       "  color: #000000;\n",
       "}\n",
       "#T_c6c6e_row12_col7 {\n",
       "  background-color: #b1cbfc;\n",
       "  color: #000000;\n",
       "}\n",
       "#T_c6c6e_row12_col8 {\n",
       "  background-color: #6c8ff1;\n",
       "  color: #f1f1f1;\n",
       "}\n",
       "#T_c6c6e_row13_col3 {\n",
       "  background-color: #a6c4fe;\n",
       "  color: #000000;\n",
       "}\n",
       "#T_c6c6e_row13_col9 {\n",
       "  background-color: #d4dbe6;\n",
       "  color: #000000;\n",
       "}\n",
       "#T_c6c6e_row13_col11 {\n",
       "  background-color: #efcebd;\n",
       "  color: #000000;\n",
       "}\n",
       "#T_c6c6e_row13_col12 {\n",
       "  background-color: #cfdaea;\n",
       "  color: #000000;\n",
       "}\n",
       "</style>\n",
       "<table id=\"T_c6c6e_\">\n",
       "  <thead>\n",
       "    <tr>\n",
       "      <th class=\"blank level0\" >&nbsp;</th>\n",
       "      <th class=\"col_heading level0 col0\" >Year</th>\n",
       "      <th class=\"col_heading level0 col1\" >Currently_Drink_Alcohol</th>\n",
       "      <th class=\"col_heading level0 col2\" >Really_Get_Drunk</th>\n",
       "      <th class=\"col_heading level0 col3\" >Overwieght</th>\n",
       "      <th class=\"col_heading level0 col4\" >Use_Marijuana</th>\n",
       "      <th class=\"col_heading level0 col5\" >Have_Understanding_Parents</th>\n",
       "      <th class=\"col_heading level0 col6\" >Missed_classes_without_permssion</th>\n",
       "      <th class=\"col_heading level0 col7\" >Had_sexual_relation</th>\n",
       "      <th class=\"col_heading level0 col8\" >Smoke_cig_currently</th>\n",
       "      <th class=\"col_heading level0 col9\" >Had_fights</th>\n",
       "      <th class=\"col_heading level0 col10\" >Bullied</th>\n",
       "      <th class=\"col_heading level0 col11\" >Got_Seriously_injured</th>\n",
       "      <th class=\"col_heading level0 col12\" >No_close_friends</th>\n",
       "      <th class=\"col_heading level0 col13\" >Attempted_suicide</th>\n",
       "    </tr>\n",
       "  </thead>\n",
       "  <tbody>\n",
       "    <tr>\n",
       "      <th id=\"T_c6c6e_level0_row0\" class=\"row_heading level0 row0\" >Year</th>\n",
       "      <td id=\"T_c6c6e_row0_col0\" class=\"data row0 col0\" >1.000000</td>\n",
       "      <td id=\"T_c6c6e_row0_col1\" class=\"data row0 col1\" >0.270371</td>\n",
       "      <td id=\"T_c6c6e_row0_col2\" class=\"data row0 col2\" >0.085129</td>\n",
       "      <td id=\"T_c6c6e_row0_col3\" class=\"data row0 col3\" >0.088715</td>\n",
       "      <td id=\"T_c6c6e_row0_col4\" class=\"data row0 col4\" >0.155156</td>\n",
       "      <td id=\"T_c6c6e_row0_col5\" class=\"data row0 col5\" >0.023517</td>\n",
       "      <td id=\"T_c6c6e_row0_col6\" class=\"data row0 col6\" >-0.118680</td>\n",
       "      <td id=\"T_c6c6e_row0_col7\" class=\"data row0 col7\" >0.200856</td>\n",
       "      <td id=\"T_c6c6e_row0_col8\" class=\"data row0 col8\" >-0.004532</td>\n",
       "      <td id=\"T_c6c6e_row0_col9\" class=\"data row0 col9\" >-0.244029</td>\n",
       "      <td id=\"T_c6c6e_row0_col10\" class=\"data row0 col10\" >-0.251533</td>\n",
       "      <td id=\"T_c6c6e_row0_col11\" class=\"data row0 col11\" >-0.127565</td>\n",
       "      <td id=\"T_c6c6e_row0_col12\" class=\"data row0 col12\" >0.129318</td>\n",
       "      <td id=\"T_c6c6e_row0_col13\" class=\"data row0 col13\" >-0.168499</td>\n",
       "    </tr>\n",
       "    <tr>\n",
       "      <th id=\"T_c6c6e_level0_row1\" class=\"row_heading level0 row1\" >Currently_Drink_Alcohol</th>\n",
       "      <td id=\"T_c6c6e_row1_col0\" class=\"data row1 col0\" >0.270371</td>\n",
       "      <td id=\"T_c6c6e_row1_col1\" class=\"data row1 col1\" >1.000000</td>\n",
       "      <td id=\"T_c6c6e_row1_col2\" class=\"data row1 col2\" >0.784884</td>\n",
       "      <td id=\"T_c6c6e_row1_col3\" class=\"data row1 col3\" >0.132078</td>\n",
       "      <td id=\"T_c6c6e_row1_col4\" class=\"data row1 col4\" >0.557835</td>\n",
       "      <td id=\"T_c6c6e_row1_col5\" class=\"data row1 col5\" >0.241818</td>\n",
       "      <td id=\"T_c6c6e_row1_col6\" class=\"data row1 col6\" >0.003659</td>\n",
       "      <td id=\"T_c6c6e_row1_col7\" class=\"data row1 col7\" >0.752029</td>\n",
       "      <td id=\"T_c6c6e_row1_col8\" class=\"data row1 col8\" >0.375031</td>\n",
       "      <td id=\"T_c6c6e_row1_col9\" class=\"data row1 col9\" >-0.109092</td>\n",
       "      <td id=\"T_c6c6e_row1_col10\" class=\"data row1 col10\" >0.014214</td>\n",
       "      <td id=\"T_c6c6e_row1_col11\" class=\"data row1 col11\" >-0.073012</td>\n",
       "      <td id=\"T_c6c6e_row1_col12\" class=\"data row1 col12\" >0.285758</td>\n",
       "      <td id=\"T_c6c6e_row1_col13\" class=\"data row1 col13\" >0.255736</td>\n",
       "    </tr>\n",
       "    <tr>\n",
       "      <th id=\"T_c6c6e_level0_row2\" class=\"row_heading level0 row2\" >Really_Get_Drunk</th>\n",
       "      <td id=\"T_c6c6e_row2_col0\" class=\"data row2 col0\" >0.085129</td>\n",
       "      <td id=\"T_c6c6e_row2_col1\" class=\"data row2 col1\" >0.784884</td>\n",
       "      <td id=\"T_c6c6e_row2_col2\" class=\"data row2 col2\" >1.000000</td>\n",
       "      <td id=\"T_c6c6e_row2_col3\" class=\"data row2 col3\" >0.191823</td>\n",
       "      <td id=\"T_c6c6e_row2_col4\" class=\"data row2 col4\" >0.602711</td>\n",
       "      <td id=\"T_c6c6e_row2_col5\" class=\"data row2 col5\" >0.198981</td>\n",
       "      <td id=\"T_c6c6e_row2_col6\" class=\"data row2 col6\" >0.029073</td>\n",
       "      <td id=\"T_c6c6e_row2_col7\" class=\"data row2 col7\" >0.676258</td>\n",
       "      <td id=\"T_c6c6e_row2_col8\" class=\"data row2 col8\" >0.584371</td>\n",
       "      <td id=\"T_c6c6e_row2_col9\" class=\"data row2 col9\" >0.047826</td>\n",
       "      <td id=\"T_c6c6e_row2_col10\" class=\"data row2 col10\" >0.029023</td>\n",
       "      <td id=\"T_c6c6e_row2_col11\" class=\"data row2 col11\" >0.065994</td>\n",
       "      <td id=\"T_c6c6e_row2_col12\" class=\"data row2 col12\" >0.204237</td>\n",
       "      <td id=\"T_c6c6e_row2_col13\" class=\"data row2 col13\" >0.235050</td>\n",
       "    </tr>\n",
       "    <tr>\n",
       "      <th id=\"T_c6c6e_level0_row3\" class=\"row_heading level0 row3\" >Overwieght</th>\n",
       "      <td id=\"T_c6c6e_row3_col0\" class=\"data row3 col0\" >0.088715</td>\n",
       "      <td id=\"T_c6c6e_row3_col1\" class=\"data row3 col1\" >0.132078</td>\n",
       "      <td id=\"T_c6c6e_row3_col2\" class=\"data row3 col2\" >0.191823</td>\n",
       "      <td id=\"T_c6c6e_row3_col3\" class=\"data row3 col3\" >1.000000</td>\n",
       "      <td id=\"T_c6c6e_row3_col4\" class=\"data row3 col4\" >0.123251</td>\n",
       "      <td id=\"T_c6c6e_row3_col5\" class=\"data row3 col5\" >0.092783</td>\n",
       "      <td id=\"T_c6c6e_row3_col6\" class=\"data row3 col6\" >0.063800</td>\n",
       "      <td id=\"T_c6c6e_row3_col7\" class=\"data row3 col7\" >0.085871</td>\n",
       "      <td id=\"T_c6c6e_row3_col8\" class=\"data row3 col8\" >0.241596</td>\n",
       "      <td id=\"T_c6c6e_row3_col9\" class=\"data row3 col9\" >0.190753</td>\n",
       "      <td id=\"T_c6c6e_row3_col10\" class=\"data row3 col10\" >-0.008431</td>\n",
       "      <td id=\"T_c6c6e_row3_col11\" class=\"data row3 col11\" >-0.050252</td>\n",
       "      <td id=\"T_c6c6e_row3_col12\" class=\"data row3 col12\" >0.053806</td>\n",
       "      <td id=\"T_c6c6e_row3_col13\" class=\"data row3 col13\" >0.288259</td>\n",
       "    </tr>\n",
       "    <tr>\n",
       "      <th id=\"T_c6c6e_level0_row4\" class=\"row_heading level0 row4\" >Use_Marijuana</th>\n",
       "      <td id=\"T_c6c6e_row4_col0\" class=\"data row4 col0\" >0.155156</td>\n",
       "      <td id=\"T_c6c6e_row4_col1\" class=\"data row4 col1\" >0.557835</td>\n",
       "      <td id=\"T_c6c6e_row4_col2\" class=\"data row4 col2\" >0.602711</td>\n",
       "      <td id=\"T_c6c6e_row4_col3\" class=\"data row4 col3\" >0.123251</td>\n",
       "      <td id=\"T_c6c6e_row4_col4\" class=\"data row4 col4\" >1.000000</td>\n",
       "      <td id=\"T_c6c6e_row4_col5\" class=\"data row4 col5\" >0.105255</td>\n",
       "      <td id=\"T_c6c6e_row4_col6\" class=\"data row4 col6\" >0.263919</td>\n",
       "      <td id=\"T_c6c6e_row4_col7\" class=\"data row4 col7\" >0.666693</td>\n",
       "      <td id=\"T_c6c6e_row4_col8\" class=\"data row4 col8\" >0.557401</td>\n",
       "      <td id=\"T_c6c6e_row4_col9\" class=\"data row4 col9\" >0.340437</td>\n",
       "      <td id=\"T_c6c6e_row4_col10\" class=\"data row4 col10\" >0.179268</td>\n",
       "      <td id=\"T_c6c6e_row4_col11\" class=\"data row4 col11\" >0.312790</td>\n",
       "      <td id=\"T_c6c6e_row4_col12\" class=\"data row4 col12\" >0.263838</td>\n",
       "      <td id=\"T_c6c6e_row4_col13\" class=\"data row4 col13\" >0.405057</td>\n",
       "    </tr>\n",
       "    <tr>\n",
       "      <th id=\"T_c6c6e_level0_row5\" class=\"row_heading level0 row5\" >Have_Understanding_Parents</th>\n",
       "      <td id=\"T_c6c6e_row5_col0\" class=\"data row5 col0\" >0.023517</td>\n",
       "      <td id=\"T_c6c6e_row5_col1\" class=\"data row5 col1\" >0.241818</td>\n",
       "      <td id=\"T_c6c6e_row5_col2\" class=\"data row5 col2\" >0.198981</td>\n",
       "      <td id=\"T_c6c6e_row5_col3\" class=\"data row5 col3\" >0.092783</td>\n",
       "      <td id=\"T_c6c6e_row5_col4\" class=\"data row5 col4\" >0.105255</td>\n",
       "      <td id=\"T_c6c6e_row5_col5\" class=\"data row5 col5\" >1.000000</td>\n",
       "      <td id=\"T_c6c6e_row5_col6\" class=\"data row5 col6\" >-0.483386</td>\n",
       "      <td id=\"T_c6c6e_row5_col7\" class=\"data row5 col7\" >0.080779</td>\n",
       "      <td id=\"T_c6c6e_row5_col8\" class=\"data row5 col8\" >-0.114621</td>\n",
       "      <td id=\"T_c6c6e_row5_col9\" class=\"data row5 col9\" >-0.077885</td>\n",
       "      <td id=\"T_c6c6e_row5_col10\" class=\"data row5 col10\" >-0.037116</td>\n",
       "      <td id=\"T_c6c6e_row5_col11\" class=\"data row5 col11\" >-0.221631</td>\n",
       "      <td id=\"T_c6c6e_row5_col12\" class=\"data row5 col12\" >-0.001026</td>\n",
       "      <td id=\"T_c6c6e_row5_col13\" class=\"data row5 col13\" >-0.081150</td>\n",
       "    </tr>\n",
       "    <tr>\n",
       "      <th id=\"T_c6c6e_level0_row6\" class=\"row_heading level0 row6\" >Missed_classes_without_permssion</th>\n",
       "      <td id=\"T_c6c6e_row6_col0\" class=\"data row6 col0\" >-0.118680</td>\n",
       "      <td id=\"T_c6c6e_row6_col1\" class=\"data row6 col1\" >0.003659</td>\n",
       "      <td id=\"T_c6c6e_row6_col2\" class=\"data row6 col2\" >0.029073</td>\n",
       "      <td id=\"T_c6c6e_row6_col3\" class=\"data row6 col3\" >0.063800</td>\n",
       "      <td id=\"T_c6c6e_row6_col4\" class=\"data row6 col4\" >0.263919</td>\n",
       "      <td id=\"T_c6c6e_row6_col5\" class=\"data row6 col5\" >-0.483386</td>\n",
       "      <td id=\"T_c6c6e_row6_col6\" class=\"data row6 col6\" >1.000000</td>\n",
       "      <td id=\"T_c6c6e_row6_col7\" class=\"data row6 col7\" >0.302113</td>\n",
       "      <td id=\"T_c6c6e_row6_col8\" class=\"data row6 col8\" >0.513323</td>\n",
       "      <td id=\"T_c6c6e_row6_col9\" class=\"data row6 col9\" >0.396456</td>\n",
       "      <td id=\"T_c6c6e_row6_col10\" class=\"data row6 col10\" >0.357886</td>\n",
       "      <td id=\"T_c6c6e_row6_col11\" class=\"data row6 col11\" >0.368261</td>\n",
       "      <td id=\"T_c6c6e_row6_col12\" class=\"data row6 col12\" >0.086719</td>\n",
       "      <td id=\"T_c6c6e_row6_col13\" class=\"data row6 col13\" >0.341610</td>\n",
       "    </tr>\n",
       "    <tr>\n",
       "      <th id=\"T_c6c6e_level0_row7\" class=\"row_heading level0 row7\" >Had_sexual_relation</th>\n",
       "      <td id=\"T_c6c6e_row7_col0\" class=\"data row7 col0\" >0.200856</td>\n",
       "      <td id=\"T_c6c6e_row7_col1\" class=\"data row7 col1\" >0.752029</td>\n",
       "      <td id=\"T_c6c6e_row7_col2\" class=\"data row7 col2\" >0.676258</td>\n",
       "      <td id=\"T_c6c6e_row7_col3\" class=\"data row7 col3\" >0.085871</td>\n",
       "      <td id=\"T_c6c6e_row7_col4\" class=\"data row7 col4\" >0.666693</td>\n",
       "      <td id=\"T_c6c6e_row7_col5\" class=\"data row7 col5\" >0.080779</td>\n",
       "      <td id=\"T_c6c6e_row7_col6\" class=\"data row7 col6\" >0.302113</td>\n",
       "      <td id=\"T_c6c6e_row7_col7\" class=\"data row7 col7\" >1.000000</td>\n",
       "      <td id=\"T_c6c6e_row7_col8\" class=\"data row7 col8\" >0.445870</td>\n",
       "      <td id=\"T_c6c6e_row7_col9\" class=\"data row7 col9\" >0.284894</td>\n",
       "      <td id=\"T_c6c6e_row7_col10\" class=\"data row7 col10\" >0.282750</td>\n",
       "      <td id=\"T_c6c6e_row7_col11\" class=\"data row7 col11\" >0.355739</td>\n",
       "      <td id=\"T_c6c6e_row7_col12\" class=\"data row7 col12\" >0.405855</td>\n",
       "      <td id=\"T_c6c6e_row7_col13\" class=\"data row7 col13\" >0.410094</td>\n",
       "    </tr>\n",
       "    <tr>\n",
       "      <th id=\"T_c6c6e_level0_row8\" class=\"row_heading level0 row8\" >Smoke_cig_currently</th>\n",
       "      <td id=\"T_c6c6e_row8_col0\" class=\"data row8 col0\" >-0.004532</td>\n",
       "      <td id=\"T_c6c6e_row8_col1\" class=\"data row8 col1\" >0.375031</td>\n",
       "      <td id=\"T_c6c6e_row8_col2\" class=\"data row8 col2\" >0.584371</td>\n",
       "      <td id=\"T_c6c6e_row8_col3\" class=\"data row8 col3\" >0.241596</td>\n",
       "      <td id=\"T_c6c6e_row8_col4\" class=\"data row8 col4\" >0.557401</td>\n",
       "      <td id=\"T_c6c6e_row8_col5\" class=\"data row8 col5\" >-0.114621</td>\n",
       "      <td id=\"T_c6c6e_row8_col6\" class=\"data row8 col6\" >0.513323</td>\n",
       "      <td id=\"T_c6c6e_row8_col7\" class=\"data row8 col7\" >0.445870</td>\n",
       "      <td id=\"T_c6c6e_row8_col8\" class=\"data row8 col8\" >1.000000</td>\n",
       "      <td id=\"T_c6c6e_row8_col9\" class=\"data row8 col9\" >0.414415</td>\n",
       "      <td id=\"T_c6c6e_row8_col10\" class=\"data row8 col10\" >0.167752</td>\n",
       "      <td id=\"T_c6c6e_row8_col11\" class=\"data row8 col11\" >0.379823</td>\n",
       "      <td id=\"T_c6c6e_row8_col12\" class=\"data row8 col12\" >0.062990</td>\n",
       "      <td id=\"T_c6c6e_row8_col13\" class=\"data row8 col13\" >0.270292</td>\n",
       "    </tr>\n",
       "    <tr>\n",
       "      <th id=\"T_c6c6e_level0_row9\" class=\"row_heading level0 row9\" >Had_fights</th>\n",
       "      <td id=\"T_c6c6e_row9_col0\" class=\"data row9 col0\" >-0.244029</td>\n",
       "      <td id=\"T_c6c6e_row9_col1\" class=\"data row9 col1\" >-0.109092</td>\n",
       "      <td id=\"T_c6c6e_row9_col2\" class=\"data row9 col2\" >0.047826</td>\n",
       "      <td id=\"T_c6c6e_row9_col3\" class=\"data row9 col3\" >0.190753</td>\n",
       "      <td id=\"T_c6c6e_row9_col4\" class=\"data row9 col4\" >0.340437</td>\n",
       "      <td id=\"T_c6c6e_row9_col5\" class=\"data row9 col5\" >-0.077885</td>\n",
       "      <td id=\"T_c6c6e_row9_col6\" class=\"data row9 col6\" >0.396456</td>\n",
       "      <td id=\"T_c6c6e_row9_col7\" class=\"data row9 col7\" >0.284894</td>\n",
       "      <td id=\"T_c6c6e_row9_col8\" class=\"data row9 col8\" >0.414415</td>\n",
       "      <td id=\"T_c6c6e_row9_col9\" class=\"data row9 col9\" >1.000000</td>\n",
       "      <td id=\"T_c6c6e_row9_col10\" class=\"data row9 col10\" >0.539979</td>\n",
       "      <td id=\"T_c6c6e_row9_col11\" class=\"data row9 col11\" >0.667935</td>\n",
       "      <td id=\"T_c6c6e_row9_col12\" class=\"data row9 col12\" >0.302155</td>\n",
       "      <td id=\"T_c6c6e_row9_col13\" class=\"data row9 col13\" >0.337937</td>\n",
       "    </tr>\n",
       "    <tr>\n",
       "      <th id=\"T_c6c6e_level0_row10\" class=\"row_heading level0 row10\" >Bullied</th>\n",
       "      <td id=\"T_c6c6e_row10_col0\" class=\"data row10 col0\" >-0.251533</td>\n",
       "      <td id=\"T_c6c6e_row10_col1\" class=\"data row10 col1\" >0.014214</td>\n",
       "      <td id=\"T_c6c6e_row10_col2\" class=\"data row10 col2\" >0.029023</td>\n",
       "      <td id=\"T_c6c6e_row10_col3\" class=\"data row10 col3\" >-0.008431</td>\n",
       "      <td id=\"T_c6c6e_row10_col4\" class=\"data row10 col4\" >0.179268</td>\n",
       "      <td id=\"T_c6c6e_row10_col5\" class=\"data row10 col5\" >-0.037116</td>\n",
       "      <td id=\"T_c6c6e_row10_col6\" class=\"data row10 col6\" >0.357886</td>\n",
       "      <td id=\"T_c6c6e_row10_col7\" class=\"data row10 col7\" >0.282750</td>\n",
       "      <td id=\"T_c6c6e_row10_col8\" class=\"data row10 col8\" >0.167752</td>\n",
       "      <td id=\"T_c6c6e_row10_col9\" class=\"data row10 col9\" >0.539979</td>\n",
       "      <td id=\"T_c6c6e_row10_col10\" class=\"data row10 col10\" >1.000000</td>\n",
       "      <td id=\"T_c6c6e_row10_col11\" class=\"data row10 col11\" >0.679640</td>\n",
       "      <td id=\"T_c6c6e_row10_col12\" class=\"data row10 col12\" >0.412604</td>\n",
       "      <td id=\"T_c6c6e_row10_col13\" class=\"data row10 col13\" >0.664563</td>\n",
       "    </tr>\n",
       "    <tr>\n",
       "      <th id=\"T_c6c6e_level0_row11\" class=\"row_heading level0 row11\" >Got_Seriously_injured</th>\n",
       "      <td id=\"T_c6c6e_row11_col0\" class=\"data row11 col0\" >-0.127565</td>\n",
       "      <td id=\"T_c6c6e_row11_col1\" class=\"data row11 col1\" >-0.073012</td>\n",
       "      <td id=\"T_c6c6e_row11_col2\" class=\"data row11 col2\" >0.065994</td>\n",
       "      <td id=\"T_c6c6e_row11_col3\" class=\"data row11 col3\" >-0.050252</td>\n",
       "      <td id=\"T_c6c6e_row11_col4\" class=\"data row11 col4\" >0.312790</td>\n",
       "      <td id=\"T_c6c6e_row11_col5\" class=\"data row11 col5\" >-0.221631</td>\n",
       "      <td id=\"T_c6c6e_row11_col6\" class=\"data row11 col6\" >0.368261</td>\n",
       "      <td id=\"T_c6c6e_row11_col7\" class=\"data row11 col7\" >0.355739</td>\n",
       "      <td id=\"T_c6c6e_row11_col8\" class=\"data row11 col8\" >0.379823</td>\n",
       "      <td id=\"T_c6c6e_row11_col9\" class=\"data row11 col9\" >0.667935</td>\n",
       "      <td id=\"T_c6c6e_row11_col10\" class=\"data row11 col10\" >0.679640</td>\n",
       "      <td id=\"T_c6c6e_row11_col11\" class=\"data row11 col11\" >1.000000</td>\n",
       "      <td id=\"T_c6c6e_row11_col12\" class=\"data row11 col12\" >0.316319</td>\n",
       "      <td id=\"T_c6c6e_row11_col13\" class=\"data row11 col13\" >0.493553</td>\n",
       "    </tr>\n",
       "    <tr>\n",
       "      <th id=\"T_c6c6e_level0_row12\" class=\"row_heading level0 row12\" >No_close_friends</th>\n",
       "      <td id=\"T_c6c6e_row12_col0\" class=\"data row12 col0\" >0.129318</td>\n",
       "      <td id=\"T_c6c6e_row12_col1\" class=\"data row12 col1\" >0.285758</td>\n",
       "      <td id=\"T_c6c6e_row12_col2\" class=\"data row12 col2\" >0.204237</td>\n",
       "      <td id=\"T_c6c6e_row12_col3\" class=\"data row12 col3\" >0.053806</td>\n",
       "      <td id=\"T_c6c6e_row12_col4\" class=\"data row12 col4\" >0.263838</td>\n",
       "      <td id=\"T_c6c6e_row12_col5\" class=\"data row12 col5\" >-0.001026</td>\n",
       "      <td id=\"T_c6c6e_row12_col6\" class=\"data row12 col6\" >0.086719</td>\n",
       "      <td id=\"T_c6c6e_row12_col7\" class=\"data row12 col7\" >0.405855</td>\n",
       "      <td id=\"T_c6c6e_row12_col8\" class=\"data row12 col8\" >0.062990</td>\n",
       "      <td id=\"T_c6c6e_row12_col9\" class=\"data row12 col9\" >0.302155</td>\n",
       "      <td id=\"T_c6c6e_row12_col10\" class=\"data row12 col10\" >0.412604</td>\n",
       "      <td id=\"T_c6c6e_row12_col11\" class=\"data row12 col11\" >0.316319</td>\n",
       "      <td id=\"T_c6c6e_row12_col12\" class=\"data row12 col12\" >1.000000</td>\n",
       "      <td id=\"T_c6c6e_row12_col13\" class=\"data row12 col13\" >0.452251</td>\n",
       "    </tr>\n",
       "    <tr>\n",
       "      <th id=\"T_c6c6e_level0_row13\" class=\"row_heading level0 row13\" >Attempted_suicide</th>\n",
       "      <td id=\"T_c6c6e_row13_col0\" class=\"data row13 col0\" >-0.168499</td>\n",
       "      <td id=\"T_c6c6e_row13_col1\" class=\"data row13 col1\" >0.255736</td>\n",
       "      <td id=\"T_c6c6e_row13_col2\" class=\"data row13 col2\" >0.235050</td>\n",
       "      <td id=\"T_c6c6e_row13_col3\" class=\"data row13 col3\" >0.288259</td>\n",
       "      <td id=\"T_c6c6e_row13_col4\" class=\"data row13 col4\" >0.405057</td>\n",
       "      <td id=\"T_c6c6e_row13_col5\" class=\"data row13 col5\" >-0.081150</td>\n",
       "      <td id=\"T_c6c6e_row13_col6\" class=\"data row13 col6\" >0.341610</td>\n",
       "      <td id=\"T_c6c6e_row13_col7\" class=\"data row13 col7\" >0.410094</td>\n",
       "      <td id=\"T_c6c6e_row13_col8\" class=\"data row13 col8\" >0.270292</td>\n",
       "      <td id=\"T_c6c6e_row13_col9\" class=\"data row13 col9\" >0.337937</td>\n",
       "      <td id=\"T_c6c6e_row13_col10\" class=\"data row13 col10\" >0.664563</td>\n",
       "      <td id=\"T_c6c6e_row13_col11\" class=\"data row13 col11\" >0.493553</td>\n",
       "      <td id=\"T_c6c6e_row13_col12\" class=\"data row13 col12\" >0.452251</td>\n",
       "      <td id=\"T_c6c6e_row13_col13\" class=\"data row13 col13\" >1.000000</td>\n",
       "    </tr>\n",
       "  </tbody>\n",
       "</table>\n"
      ],
      "text/plain": [
       "<pandas.io.formats.style.Styler at 0x7ff96a9cc430>"
      ]
     },
     "execution_count": 14,
     "metadata": {},
     "output_type": "execute_result"
    }
   ],
   "source": [
    "corr=df.corr()\n",
    "corr.style.background_gradient(cmap='coolwarm')"
   ]
  },
  {
   "cell_type": "markdown",
   "id": "43e1aa7e",
   "metadata": {},
   "source": [
    "#### From above Correlation matrix lets make dive into data and check columns from correlations."
   ]
  },
  {
   "cell_type": "code",
   "execution_count": 15,
   "id": "9110a9ae",
   "metadata": {},
   "outputs": [
    {
     "data": {
      "text/plain": [
       "<AxesSubplot:xlabel='variable', ylabel='value'>"
      ]
     },
     "execution_count": 15,
     "metadata": {},
     "output_type": "execute_result"
    },
    {
     "data": {
      "image/png": "[encoded data removed]",
      "text/plain": [
       "<Figure size 2520x720 with 1 Axes>"
      ]
     },
     "metadata": {},
     "output_type": "display_data"
    }
   ],
   "source": [
    "grpbySex=df.groupby('Sex').mean().drop(columns='Year')\n",
    "grpbySex['Sex']=['Female','Male']\n",
    "plt.figure(figsize=(35,10))\n",
    "sns.set(font_scale=0.9)\n",
    "grpbySex=grpbySex.melt(id_vars='Sex')\n",
    "\n",
    "sns.barplot(x='variable',y='value',data=grpbySex,hue='Sex')"
   ]
  },
  {
   "cell_type": "markdown",
   "id": "fe452e4f",
   "metadata": {},
   "source": [
    "#### Despite Males being forward in everything Female have the highest Suicide attempts hence assuming some other factors apart from this data are affecting the suicide attempts."
   ]
  },
  {
   "cell_type": "markdown",
   "id": "6cf21973",
   "metadata": {},
   "source": [
    "#### Data might be imbalanced so lets check counts of Female and male data points:"
   ]
  },
  {
   "cell_type": "code",
   "execution_count": 16,
   "id": "5e94b13f",
   "metadata": {},
   "outputs": [
    {
     "data": {
      "text/plain": [
       "Female    53\n",
       "Male      52\n",
       "Name: Sex, dtype: int64"
      ]
     },
     "execution_count": 16,
     "metadata": {},
     "output_type": "execute_result"
    }
   ],
   "source": [
    "df.Sex.value_counts()"
   ]
  },
  {
   "cell_type": "markdown",
   "id": "51a3b6ae",
   "metadata": {},
   "source": [
    "#### Ratio is 1:1"
   ]
  },
  {
   "cell_type": "code",
   "execution_count": 17,
   "id": "1f3c069b",
   "metadata": {},
   "outputs": [
    {
     "data": {
      "text/html": [
       "<div>\n",
       "<style scoped>\n",
       "    .dataframe tbody tr th:only-of-type {\n",
       "        vertical-align: middle;\n",
       "    }\n",
       "\n",
       "    .dataframe tbody tr th {\n",
       "        vertical-align: top;\n",
       "    }\n",
       "\n",
       "    .dataframe thead th {\n",
       "        text-align: right;\n",
       "    }\n",
       "</style>\n",
       "<table border=\"1\" class=\"dataframe\">\n",
       "  <thead>\n",
       "    <tr style=\"text-align: right;\">\n",
       "      <th></th>\n",
       "      <th>Had_sexual_relation</th>\n",
       "      <th>Currently_Drink_Alcohol</th>\n",
       "      <th>Really_Get_Drunk</th>\n",
       "      <th>Use_Marijuana</th>\n",
       "      <th>Smoke_cig_currently</th>\n",
       "      <th>Have_Understanding_Parents</th>\n",
       "      <th>Attempted_suicide</th>\n",
       "    </tr>\n",
       "    <tr>\n",
       "      <th>Sex</th>\n",
       "      <th></th>\n",
       "      <th></th>\n",
       "      <th></th>\n",
       "      <th></th>\n",
       "      <th></th>\n",
       "      <th></th>\n",
       "      <th></th>\n",
       "    </tr>\n",
       "  </thead>\n",
       "  <tbody>\n",
       "    <tr>\n",
       "      <th>Female</th>\n",
       "      <td>19.030189</td>\n",
       "      <td>24.218868</td>\n",
       "      <td>18.550943</td>\n",
       "      <td>4.784906</td>\n",
       "      <td>10.426923</td>\n",
       "      <td>33.554717</td>\n",
       "      <td>15.122642</td>\n",
       "    </tr>\n",
       "    <tr>\n",
       "      <th>Male</th>\n",
       "      <td>33.823077</td>\n",
       "      <td>29.630769</td>\n",
       "      <td>26.311538</td>\n",
       "      <td>10.300000</td>\n",
       "      <td>20.719608</td>\n",
       "      <td>32.801923</td>\n",
       "      <td>13.738462</td>\n",
       "    </tr>\n",
       "  </tbody>\n",
       "</table>\n",
       "</div>"
      ],
      "text/plain": [
       "        Had_sexual_relation  Currently_Drink_Alcohol  Really_Get_Drunk  \\\n",
       "Sex                                                                      \n",
       "Female            19.030189                24.218868         18.550943   \n",
       "Male              33.823077                29.630769         26.311538   \n",
       "\n",
       "        Use_Marijuana  Smoke_cig_currently  Have_Understanding_Parents  \\\n",
       "Sex                                                                      \n",
       "Female       4.784906            10.426923                   33.554717   \n",
       "Male        10.300000            20.719608                   32.801923   \n",
       "\n",
       "        Attempted_suicide  \n",
       "Sex                        \n",
       "Female          15.122642  \n",
       "Male            13.738462  "
      ]
     },
     "execution_count": 17,
     "metadata": {},
     "output_type": "execute_result"
    }
   ],
   "source": [
    "df[['Had_sexual_relation','Sex','Currently_Drink_Alcohol','Really_Get_Drunk','Use_Marijuana','Smoke_cig_currently','Have_Understanding_Parents','Attempted_suicide']].groupby('Sex').mean()"
   ]
  },
  {
   "cell_type": "markdown",
   "id": "01f674bf",
   "metadata": {},
   "source": [
    "#### Above step to check if sexual relations has any contribution to suicide attempts. Lets check the correlation between this data:"
   ]
  },
  {
   "cell_type": "code",
   "execution_count": 18,
   "id": "627cac10",
   "metadata": {},
   "outputs": [
    {
     "data": {
      "text/html": [
       "<style type=\"text/css\">\n",
       "#T_a85c6_row0_col0, #T_a85c6_row1_col1, #T_a85c6_row2_col2, #T_a85c6_row3_col3, #T_a85c6_row4_col4, #T_a85c6_row5_col5 {\n",
       "  background-color: #b40426;\n",
       "  color: #f1f1f1;\n",
       "}\n",
       "#T_a85c6_row0_col1 {\n",
       "  background-color: #f7b89c;\n",
       "  color: #000000;\n",
       "}\n",
       "#T_a85c6_row0_col2 {\n",
       "  background-color: #eed0c0;\n",
       "  color: #000000;\n",
       "}\n",
       "#T_a85c6_row0_col3 {\n",
       "  background-color: #89acfd;\n",
       "  color: #000000;\n",
       "}\n",
       "#T_a85c6_row0_col4 {\n",
       "  background-color: #ccd9ed;\n",
       "  color: #000000;\n",
       "}\n",
       "#T_a85c6_row0_col5 {\n",
       "  background-color: #85a8fc;\n",
       "  color: #f1f1f1;\n",
       "}\n",
       "#T_a85c6_row1_col0 {\n",
       "  background-color: #efcfbf;\n",
       "  color: #000000;\n",
       "}\n",
       "#T_a85c6_row1_col2 {\n",
       "  background-color: #f6a586;\n",
       "  color: #000000;\n",
       "}\n",
       "#T_a85c6_row1_col3 {\n",
       "  background-color: #6788ee;\n",
       "  color: #f1f1f1;\n",
       "}\n",
       "#T_a85c6_row1_col4, #T_a85c6_row3_col4 {\n",
       "  background-color: #8fb1fe;\n",
       "  color: #000000;\n",
       "}\n",
       "#T_a85c6_row1_col5 {\n",
       "  background-color: #4257c9;\n",
       "  color: #f1f1f1;\n",
       "}\n",
       "#T_a85c6_row2_col0 {\n",
       "  background-color: #cfdaea;\n",
       "  color: #000000;\n",
       "}\n",
       "#T_a85c6_row2_col1 {\n",
       "  background-color: #f7a889;\n",
       "  color: #000000;\n",
       "}\n",
       "#T_a85c6_row2_col3 {\n",
       "  background-color: #cad8ef;\n",
       "  color: #000000;\n",
       "}\n",
       "#T_a85c6_row2_col4 {\n",
       "  background-color: #aac7fd;\n",
       "  color: #000000;\n",
       "}\n",
       "#T_a85c6_row2_col5, #T_a85c6_row5_col0, #T_a85c6_row5_col1, #T_a85c6_row5_col2, #T_a85c6_row5_col3, #T_a85c6_row5_col4 {\n",
       "  background-color: #3b4cc0;\n",
       "  color: #f1f1f1;\n",
       "}\n",
       "#T_a85c6_row3_col0 {\n",
       "  background-color: #4c66d6;\n",
       "  color: #f1f1f1;\n",
       "}\n",
       "#T_a85c6_row3_col1 {\n",
       "  background-color: #6e90f2;\n",
       "  color: #f1f1f1;\n",
       "}\n",
       "#T_a85c6_row3_col2 {\n",
       "  background-color: #d1dae9;\n",
       "  color: #000000;\n",
       "}\n",
       "#T_a85c6_row3_col5 {\n",
       "  background-color: #485fd1;\n",
       "  color: #f1f1f1;\n",
       "}\n",
       "#T_a85c6_row4_col0 {\n",
       "  background-color: #cbd8ee;\n",
       "  color: #000000;\n",
       "}\n",
       "#T_a85c6_row4_col1 {\n",
       "  background-color: #c1d4f4;\n",
       "  color: #000000;\n",
       "}\n",
       "#T_a85c6_row4_col2 {\n",
       "  background-color: #d8dce2;\n",
       "  color: #000000;\n",
       "}\n",
       "#T_a85c6_row4_col3 {\n",
       "  background-color: #bed2f6;\n",
       "  color: #000000;\n",
       "}\n",
       "#T_a85c6_row4_col5 {\n",
       "  background-color: #82a6fb;\n",
       "  color: #f1f1f1;\n",
       "}\n",
       "</style>\n",
       "<table id=\"T_a85c6_\">\n",
       "  <thead>\n",
       "    <tr>\n",
       "      <th class=\"blank level0\" >&nbsp;</th>\n",
       "      <th class=\"col_heading level0 col0\" >Had_sexual_relation</th>\n",
       "      <th class=\"col_heading level0 col1\" >Currently_Drink_Alcohol</th>\n",
       "      <th class=\"col_heading level0 col2\" >Really_Get_Drunk</th>\n",
       "      <th class=\"col_heading level0 col3\" >Smoke_cig_currently</th>\n",
       "      <th class=\"col_heading level0 col4\" >Use_Marijuana</th>\n",
       "      <th class=\"col_heading level0 col5\" >Attempted_suicide</th>\n",
       "    </tr>\n",
       "  </thead>\n",
       "  <tbody>\n",
       "    <tr>\n",
       "      <th id=\"T_a85c6_level0_row0\" class=\"row_heading level0 row0\" >Had_sexual_relation</th>\n",
       "      <td id=\"T_a85c6_row0_col0\" class=\"data row0 col0\" >1.000000</td>\n",
       "      <td id=\"T_a85c6_row0_col1\" class=\"data row0 col1\" >0.752029</td>\n",
       "      <td id=\"T_a85c6_row0_col2\" class=\"data row0 col2\" >0.676258</td>\n",
       "      <td id=\"T_a85c6_row0_col3\" class=\"data row0 col3\" >0.445870</td>\n",
       "      <td id=\"T_a85c6_row0_col4\" class=\"data row0 col4\" >0.666693</td>\n",
       "      <td id=\"T_a85c6_row0_col5\" class=\"data row0 col5\" >0.410094</td>\n",
       "    </tr>\n",
       "    <tr>\n",
       "      <th id=\"T_a85c6_level0_row1\" class=\"row_heading level0 row1\" >Currently_Drink_Alcohol</th>\n",
       "      <td id=\"T_a85c6_row1_col0\" class=\"data row1 col0\" >0.752029</td>\n",
       "      <td id=\"T_a85c6_row1_col1\" class=\"data row1 col1\" >1.000000</td>\n",
       "      <td id=\"T_a85c6_row1_col2\" class=\"data row1 col2\" >0.784884</td>\n",
       "      <td id=\"T_a85c6_row1_col3\" class=\"data row1 col3\" >0.375031</td>\n",
       "      <td id=\"T_a85c6_row1_col4\" class=\"data row1 col4\" >0.557835</td>\n",
       "      <td id=\"T_a85c6_row1_col5\" class=\"data row1 col5\" >0.255736</td>\n",
       "    </tr>\n",
       "    <tr>\n",
       "      <th id=\"T_a85c6_level0_row2\" class=\"row_heading level0 row2\" >Really_Get_Drunk</th>\n",
       "      <td id=\"T_a85c6_row2_col0\" class=\"data row2 col0\" >0.676258</td>\n",
       "      <td id=\"T_a85c6_row2_col1\" class=\"data row2 col1\" >0.784884</td>\n",
       "      <td id=\"T_a85c6_row2_col2\" class=\"data row2 col2\" >1.000000</td>\n",
       "      <td id=\"T_a85c6_row2_col3\" class=\"data row2 col3\" >0.584371</td>\n",
       "      <td id=\"T_a85c6_row2_col4\" class=\"data row2 col4\" >0.602711</td>\n",
       "      <td id=\"T_a85c6_row2_col5\" class=\"data row2 col5\" >0.235050</td>\n",
       "    </tr>\n",
       "    <tr>\n",
       "      <th id=\"T_a85c6_level0_row3\" class=\"row_heading level0 row3\" >Smoke_cig_currently</th>\n",
       "      <td id=\"T_a85c6_row3_col0\" class=\"data row3 col0\" >0.445870</td>\n",
       "      <td id=\"T_a85c6_row3_col1\" class=\"data row3 col1\" >0.375031</td>\n",
       "      <td id=\"T_a85c6_row3_col2\" class=\"data row3 col2\" >0.584371</td>\n",
       "      <td id=\"T_a85c6_row3_col3\" class=\"data row3 col3\" >1.000000</td>\n",
       "      <td id=\"T_a85c6_row3_col4\" class=\"data row3 col4\" >0.557401</td>\n",
       "      <td id=\"T_a85c6_row3_col5\" class=\"data row3 col5\" >0.270292</td>\n",
       "    </tr>\n",
       "    <tr>\n",
       "      <th id=\"T_a85c6_level0_row4\" class=\"row_heading level0 row4\" >Use_Marijuana</th>\n",
       "      <td id=\"T_a85c6_row4_col0\" class=\"data row4 col0\" >0.666693</td>\n",
       "      <td id=\"T_a85c6_row4_col1\" class=\"data row4 col1\" >0.557835</td>\n",
       "      <td id=\"T_a85c6_row4_col2\" class=\"data row4 col2\" >0.602711</td>\n",
       "      <td id=\"T_a85c6_row4_col3\" class=\"data row4 col3\" >0.557401</td>\n",
       "      <td id=\"T_a85c6_row4_col4\" class=\"data row4 col4\" >1.000000</td>\n",
       "      <td id=\"T_a85c6_row4_col5\" class=\"data row4 col5\" >0.405057</td>\n",
       "    </tr>\n",
       "    <tr>\n",
       "      <th id=\"T_a85c6_level0_row5\" class=\"row_heading level0 row5\" >Attempted_suicide</th>\n",
       "      <td id=\"T_a85c6_row5_col0\" class=\"data row5 col0\" >0.410094</td>\n",
       "      <td id=\"T_a85c6_row5_col1\" class=\"data row5 col1\" >0.255736</td>\n",
       "      <td id=\"T_a85c6_row5_col2\" class=\"data row5 col2\" >0.235050</td>\n",
       "      <td id=\"T_a85c6_row5_col3\" class=\"data row5 col3\" >0.270292</td>\n",
       "      <td id=\"T_a85c6_row5_col4\" class=\"data row5 col4\" >0.405057</td>\n",
       "      <td id=\"T_a85c6_row5_col5\" class=\"data row5 col5\" >1.000000</td>\n",
       "    </tr>\n",
       "  </tbody>\n",
       "</table>\n"
      ],
      "text/plain": [
       "<pandas.io.formats.style.Styler at 0x7ff96a51ac40>"
      ]
     },
     "execution_count": 18,
     "metadata": {},
     "output_type": "execute_result"
    }
   ],
   "source": [
    "df[['Had_sexual_relation','Currently_Drink_Alcohol','Really_Get_Drunk','Smoke_cig_currently','Use_Marijuana','Attempted_suicide']].corr().style.background_gradient(cmap='coolwarm')"
   ]
  },
  {
   "cell_type": "markdown",
   "id": "ce6b7fa6",
   "metadata": {},
   "source": [
    "#### From above we can assume that having sexual relations made kids to get into junk habits of drinking and smoking"
   ]
  },
  {
   "cell_type": "code",
   "execution_count": 19,
   "id": "b18f88b9",
   "metadata": {},
   "outputs": [],
   "source": [
    "grp_yoy_addiction=df[['Year','Had_sexual_relation','Currently_Drink_Alcohol','Really_Get_Drunk','Smoke_cig_currently','Use_Marijuana','Attempted_suicide']].groupby('Year')\n",
    "# grp_yoy_addiction=grp_yoy_addiction.mean().sort_values('Attempted_suicide',ascending=False)\n",
    "grp_yoy_addiction=grp_yoy_addiction.mean()\n",
    "grp_yoy_addiction['Year']=grp_yoy_addiction.index\n",
    "grp_yoy_addiction\n",
    "grp_yoy_addiction=grp_yoy_addiction.melt(id_vars='Year')"
   ]
  },
  {
   "cell_type": "code",
   "execution_count": 20,
   "id": "2a67698c",
   "metadata": {},
   "outputs": [
    {
     "data": {
      "text/plain": [
       "<AxesSubplot:xlabel='variable', ylabel='value'>"
      ]
     },
     "execution_count": 20,
     "metadata": {},
     "output_type": "execute_result"
    },
    {
     "data": {
      "image/png": "[encoded data removed]",
      "text/plain": [
       "<Figure size 1440x720 with 1 Axes>"
      ]
     },
     "metadata": {},
     "output_type": "display_data"
    }
   ],
   "source": [
    "plt.figure(figsize=(20,10))\n",
    "sns.barplot(x='variable',y='value',data=grp_yoy_addiction,hue='Year')"
   ]
  },
  {
   "cell_type": "markdown",
   "id": "e452da61",
   "metadata": {},
   "source": [
    "#### Assumption made above has been falsified from above graph as we can see all features are increasing year over year but attempts of suicide are in almost same range as previous years."
   ]
  },
  {
   "cell_type": "code",
   "execution_count": 21,
   "id": "6a3b17b3",
   "metadata": {},
   "outputs": [
    {
     "data": {
      "text/plain": [
       "<AxesSubplot:xlabel='variable', ylabel='value'>"
      ]
     },
     "execution_count": 21,
     "metadata": {},
     "output_type": "execute_result"
    },
    {
     "data": {
      "image/png": "[encoded data removed]",
      "text/plain": [
       "<Figure size 2160x576 with 1 Axes>"
      ]
     },
     "metadata": {},
     "output_type": "display_data"
    }
   ],
   "source": [
    "agegrp=df.groupby('Age Group').mean().drop(columns='Year')\n",
    "agegrp['Age_grp']=agegrp.index\n",
    "agegrp=agegrp.melt(id_vars='Age_grp')\n",
    "agegrp\n",
    "plt.figure(figsize=(30,8))\n",
    "sns.barplot(x='variable',y='value',data=agegrp,hue='Age_grp')"
   ]
  },
  {
   "cell_type": "markdown",
   "id": "151fee91",
   "metadata": {},
   "source": [
    "#### 13-15 age group is more into Fighting and bullying rather than other activities and have more suicide attempts"
   ]
  },
  {
   "cell_type": "code",
   "execution_count": 22,
   "id": "21108b3a",
   "metadata": {},
   "outputs": [
    {
     "data": {
      "text/plain": [
       "<matplotlib.legend.Legend at 0x7ff96a2e8ac0>"
      ]
     },
     "execution_count": 22,
     "metadata": {},
     "output_type": "execute_result"
    },
    {
     "data": {
      "image/png": "[encoded data removed]",
      "text/plain": [
       "<Figure size 1080x576 with 1 Axes>"
      ]
     },
     "metadata": {},
     "output_type": "display_data"
    }
   ],
   "source": [
    "plt.figure(figsize=(15,8))\n",
    "g=sns.kdeplot(df.Had_fights,color='Brown')\n",
    "g=sns.kdeplot(df.Got_Seriously_injured,color='Green')\n",
    "g=sns.kdeplot(df.Use_Marijuana,color='Black')\n",
    "g=sns.kdeplot(df.Really_Get_Drunk,color='Black')\n",
    "g=sns.kdeplot(df.Had_sexual_relation,color='Black')\n",
    "g=sns.kdeplot(df.Missed_classes_without_permssion,color='Orange')\n",
    "g=sns.kdeplot(df.Attempted_suicide,fill=True,color='Red')\n",
    "\n",
    "g.set_xlabel('Values')\n",
    "g.set_ylabel('Density')\n",
    "g.legend(['Had_fights','Got_Seriously_injured','Use_Marijuana','Really_Get_Drunk','Had_sexual_relation','Missed_classes_without_permssion','Attempted_suicide'])"
   ]
  },
  {
   "cell_type": "markdown",
   "id": "391d4314",
   "metadata": {},
   "source": [
    "#### From above distribution we can assume that Usage of marijuana, Getting drunk and having sexual relations lead to more Suicide attempts"
   ]
  },
  {
   "cell_type": "code",
   "execution_count": 28,
   "id": "6fcae15a",
   "metadata": {},
   "outputs": [
    {
     "data": {
      "text/plain": [
       "<matplotlib.legend.Legend at 0x7ff96b2fc2b0>"
      ]
     },
     "execution_count": 28,
     "metadata": {},
     "output_type": "execute_result"
    },
    {
     "data": {
      "image/png": "[encoded data removed]",
      "text/plain": [
       "<Figure size 432x288 with 1 Axes>"
      ]
     },
     "metadata": {},
     "output_type": "display_data"
    }
   ],
   "source": [
    "a=sns.kdeplot(df.Have_Understanding_Parents)\n",
    "a=sns.kdeplot(df.Attempted_suicide,fill=True)\n",
    "a=sns.kdeplot(df.No_close_friends)\n",
    "\n",
    "a.legend(['Have_Understanding_Parents','No_close_friends','Attempted_suicide'])"
   ]
  },
  {
   "cell_type": "markdown",
   "id": "a56259aa",
   "metadata": {},
   "source": [
    "#### Above plot confirms that having understanding parents helps to avoid childern from suicide attempts. On other hand having no close friends falls under attempting suicides."
   ]
  },
  {
   "cell_type": "markdown",
   "id": "e4af355e",
   "metadata": {},
   "source": [
    "## Conclusion:\n",
    " #####   1. Year over year childern are getting access to junk addictions which holds major portion of suicide attempts.\n",
    " #####   2. Having understanding parents helps child to avoid from suicides.\n",
    "#####    3. Majority of attempts happened due to use of marijuana, drinking and having sexual relations.\n",
    "#####    4. 13-15 age group is more leaned towards bullying and fights which might be the cause of suicide attempts. \n",
    "#####        16-17 age group is more leaned towards junk habbits/addiction which is major cause of suicide attempts.\n",
    "#####    5. Missing classes without permission causes children to get into fights,bullying and having serious \n",
    " #####       injuries also smoking habbits develops there as per data.\n",
    " #####   6. Male are more involved into junk habbits than female but female suicide count is more which signifies\n",
    "  #####      more parameters needs to be added for better understanding of this cause.\n",
    "  ##### 7. Having close friends do help with avoiding suicide attempts."
   ]
  },
  {
   "cell_type": "code",
   "execution_count": 24,
   "id": "bb2f1794",
   "metadata": {},
   "outputs": [],
   "source": [
    "meaned=df.groupby('Country').mean()\n",
    "suicides_by_country=meaned['Attempted_suicide']"
   ]
  },
  {
   "cell_type": "code",
   "execution_count": 25,
   "id": "a4b790d0",
   "metadata": {},
   "outputs": [
    {
     "data": {
      "text/html": [
       "        <script type=\"text/javascript\">\n",
       "        window.PlotlyConfig = {MathJaxConfig: 'local'};\n",
       "        if (window.MathJax && window.MathJax.Hub && window.MathJax.Hub.Config) {window.MathJax.Hub.Config({SVG: {font: \"STIX-Web\"}});}\n",
       "        if (typeof require !== 'undefined') {\n",
       "        require.undef(\"plotly\");\n",
       "        requirejs.config({\n",
       "            paths: {\n",
       "                'plotly': ['https://cdn.plot.ly/plotly-2.14.0.min']\n",
       "            }\n",
       "        });\n",
       "        require(['plotly'], function(Plotly) {\n",
       "            window._Plotly = Plotly;\n",
       "        });\n",
       "        }\n",
       "        </script>\n",
       "        "
      ]
     },
     "metadata": {},
     "output_type": "display_data"
    }
   ],
   "source": [
    "import plotly.graph_objs as go \n",
    "from plotly.offline import init_notebook_mode,iplot\n",
    "init_notebook_mode(connected=True)\n",
    "data = dict(\n",
    "        type = 'choropleth',\n",
    "        colorscale = 'Viridis',\n",
    "        locations = meaned.index,\n",
    "        locationmode = \"country names\",\n",
    "        z = suicides_by_country,\n",
    "        text = meaned.index,\n",
    "        colorbar = {'title' : 'Suicide attempts'},\n",
    "      )"
   ]
  },
  {
   "cell_type": "code",
   "execution_count": 26,
   "id": "2ae791d1",
   "metadata": {},
   "outputs": [],
   "source": [
    "layout = dict(title = 'Overall Suicide attempts by Country',\n",
    "              geo = dict(projection = {'type':'mercator'})\n",
    "             )"
   ]
  },
  {
   "cell_type": "code",
   "execution_count": 27,
   "id": "e980af9e",
   "metadata": {},
   "outputs": [
    {
     "data": {
      "application/vnd.plotly.v1+json": {
       "config": {
        "linkText": "Export to plot.ly",
        "plotlyServerURL": "https://plot.ly",
        "showLink": false
       },
       "data": [
        {
         "colorbar": {
          "title": {
           "text": "Suicide attempts"
          }
         },
         "colorscale": [
          [
           0,
           "#440154"
          ],
          [
           0.1111111111111111,
           "#482878"
          ],
          [
           0.2222222222222222,
           "#3e4989"
          ],
          [
           0.3333333333333333,
           "#31688e"
          ],
          [
           0.4444444444444444,
           "#26828e"
          ],
          [
           0.5555555555555556,
           "#1f9e89"
          ],
          [
           0.6666666666666666,
           "#35b779"
          ],
          [
           0.7777777777777778,
           "#6ece58"
          ],
          [
           0.8888888888888888,
           "#b5de2b"
          ],
          [
           1,
           "#fde725"
          ]
         ],
         "locationmode": "country names",
         "locations": [
          "Argentina",
          "Barabados",
          "Benin",
          "Bhutan",
          "Brunei Darussalam ",
          "Dominican Republic ",
          "Fiji Islands",
          "Indonesia",
          "Jamaica",
          "Kiribati",
          "Laos",
          "Malaysia",
          "Mauritus",
          "Mongolia",
          "Namibia",
          "Nepal",
          "Peru",
          "Samoa",
          "Seychelles",
          "Suriname",
          "Thailand",
          "Timor-Leste ",
          "Trinidad and Tobago ",
          "Tuvalu ",
          "Uruguay ",
          "Vanuatu ",
          "Wallis and Futuna "
         ],
         "text": [
          "Argentina",
          "Barabados",
          "Benin",
          "Bhutan",
          "Brunei Darussalam ",
          "Dominican Republic ",
          "Fiji Islands",
          "Indonesia",
          "Jamaica",
          "Kiribati",
          "Laos",
          "Malaysia",
          "Mauritus",
          "Mongolia",
          "Namibia",
          "Nepal",
          "Peru",
          "Samoa",
          "Seychelles",
          "Suriname",
          "Thailand",
          "Timor-Leste ",
          "Trinidad and Tobago ",
          "Tuvalu ",
          "Uruguay ",
          "Vanuatu ",
          "Wallis and Futuna "
         ],
         "type": "choropleth",
         "z": [
          15.116666666666665,
          12.9,
          12.875,
          11.225,
          6.125,
          17.200000000000003,
          10.9,
          3.6,
          18.533333333333335,
          30.65,
          5.275,
          6.6,
          12.075,
          9.25,
          25.825,
          9.725,
          17,
          34.38333333333333,
          18,
          13.425,
          12.7,
          8.775,
          14.5,
          9.950000000000001,
          9.100000000000001,
          22.75,
          14.2
         ]
        }
       ],
       "layout": {
        "geo": {
         "projection": {
          "type": "mercator"
         }
        },
        "template": {
         "data": {
          "bar": [
           {
            "error_x": {
             "color": "#2a3f5f"
            },
            "error_y": {
             "color": "#2a3f5f"
            },
            "marker": {
             "line": {
              "color": "#E5ECF6",
              "width": 0.5
             },
             "pattern": {
              "fillmode": "overlay",
              "size": 10,
              "solidity": 0.2
             }
            },
            "type": "bar"
           }
          ],
          "barpolar": [
           {
            "marker": {
             "line": {
              "color": "#E5ECF6",
              "width": 0.5
             },
             "pattern": {
              "fillmode": "overlay",
              "size": 10,
              "solidity": 0.2
             }
            },
            "type": "barpolar"
           }
          ],
          "carpet": [
           {
            "aaxis": {
             "endlinecolor": "#2a3f5f",
             "gridcolor": "white",
             "linecolor": "white",
             "minorgridcolor": "white",
             "startlinecolor": "#2a3f5f"
            },
            "baxis": {
             "endlinecolor": "#2a3f5f",
             "gridcolor": "white",
             "linecolor": "white",
             "minorgridcolor": "white",
             "startlinecolor": "#2a3f5f"
            },
            "type": "carpet"
           }
          ],
          "choropleth": [
           {
            "colorbar": {
             "outlinewidth": 0,
             "ticks": ""
            },
            "type": "choropleth"
           }
          ],
          "contour": [
           {
            "colorbar": {
             "outlinewidth": 0,
             "ticks": ""
            },
            "colorscale": [
             [
              0,
              "#0d0887"
             ],
             [
              0.1111111111111111,
              "#46039f"
             ],
             [
              0.2222222222222222,
              "#7201a8"
             ],
             [
              0.3333333333333333,
              "#9c179e"
             ],
             [
              0.4444444444444444,
              "#bd3786"
             ],
             [
              0.5555555555555556,
              "#d8576b"
             ],
             [
              0.6666666666666666,
              "#ed7953"
             ],
             [
              0.7777777777777778,
              "#fb9f3a"
             ],
             [
              0.8888888888888888,
              "#fdca26"
             ],
             [
              1,
              "#f0f921"
             ]
            ],
            "type": "contour"
           }
          ],
          "contourcarpet": [
           {
            "colorbar": {
             "outlinewidth": 0,
             "ticks": ""
            },
            "type": "contourcarpet"
           }
          ],
          "heatmap": [
           {
            "colorbar": {
             "outlinewidth": 0,
             "ticks": ""
            },
            "colorscale": [
             [
              0,
              "#0d0887"
             ],
             [
              0.1111111111111111,
              "#46039f"
             ],
             [
              0.2222222222222222,
              "#7201a8"
             ],
             [
              0.3333333333333333,
              "#9c179e"
             ],
             [
              0.4444444444444444,
              "#bd3786"
             ],
             [
              0.5555555555555556,
              "#d8576b"
             ],
             [
              0.6666666666666666,
              "#ed7953"
             ],
             [
              0.7777777777777778,
              "#fb9f3a"
             ],
             [
              0.8888888888888888,
              "#fdca26"
             ],
             [
              1,
              "#f0f921"
             ]
            ],
            "type": "heatmap"
           }
          ],
          "heatmapgl": [
           {
            "colorbar": {
             "outlinewidth": 0,
             "ticks": ""
            },
            "colorscale": [
             [
              0,
              "#0d0887"
             ],
             [
              0.1111111111111111,
              "#46039f"
             ],
             [
              0.2222222222222222,
              "#7201a8"
             ],
             [
              0.3333333333333333,
              "#9c179e"
             ],
             [
              0.4444444444444444,
              "#bd3786"
             ],
             [
              0.5555555555555556,
              "#d8576b"
             ],
             [
              0.6666666666666666,
              "#ed7953"
             ],
             [
              0.7777777777777778,
              "#fb9f3a"
             ],
             [
              0.8888888888888888,
              "#fdca26"
             ],
             [
              1,
              "#f0f921"
             ]
            ],
            "type": "heatmapgl"
           }
          ],
          "histogram": [
           {
            "marker": {
             "pattern": {
              "fillmode": "overlay",
              "size": 10,
              "solidity": 0.2
             }
            },
            "type": "histogram"
           }
          ],
          "histogram2d": [
           {
            "colorbar": {
             "outlinewidth": 0,
             "ticks": ""
            },
            "colorscale": [
             [
              0,
              "#0d0887"
             ],
             [
              0.1111111111111111,
              "#46039f"
             ],
             [
              0.2222222222222222,
              "#7201a8"
             ],
             [
              0.3333333333333333,
              "#9c179e"
             ],
             [
              0.4444444444444444,
              "#bd3786"
             ],
             [
              0.5555555555555556,
              "#d8576b"
             ],
             [
              0.6666666666666666,
              "#ed7953"
             ],
             [
              0.7777777777777778,
              "#fb9f3a"
             ],
             [
              0.8888888888888888,
              "#fdca26"
             ],
             [
              1,
              "#f0f921"
             ]
            ],
            "type": "histogram2d"
           }
          ],
          "histogram2dcontour": [
           {
            "colorbar": {
             "outlinewidth": 0,
             "ticks": ""
            },
            "colorscale": [
             [
              0,
              "#0d0887"
             ],
             [
              0.1111111111111111,
              "#46039f"
             ],
             [
              0.2222222222222222,
              "#7201a8"
             ],
             [
              0.3333333333333333,
              "#9c179e"
             ],
             [
              0.4444444444444444,
              "#bd3786"
             ],
             [
              0.5555555555555556,
              "#d8576b"
             ],
             [
              0.6666666666666666,
              "#ed7953"
             ],
             [
              0.7777777777777778,
              "#fb9f3a"
             ],
             [
              0.8888888888888888,
              "#fdca26"
             ],
             [
              1,
              "#f0f921"
             ]
            ],
            "type": "histogram2dcontour"
           }
          ],
          "mesh3d": [
           {
            "colorbar": {
             "outlinewidth": 0,
             "ticks": ""
            },
            "type": "mesh3d"
           }
          ],
          "parcoords": [
           {
            "line": {
             "colorbar": {
              "outlinewidth": 0,
              "ticks": ""
             }
            },
            "type": "parcoords"
           }
          ],
          "pie": [
           {
            "automargin": true,
            "type": "pie"
           }
          ],
          "scatter": [
           {
            "fillpattern": {
             "fillmode": "overlay",
             "size": 10,
             "solidity": 0.2
            },
            "type": "scatter"
           }
          ],
          "scatter3d": [
           {
            "line": {
             "colorbar": {
              "outlinewidth": 0,
              "ticks": ""
             }
            },
            "marker": {
             "colorbar": {
              "outlinewidth": 0,
              "ticks": ""
             }
            },
            "type": "scatter3d"
           }
          ],
          "scattercarpet": [
           {
            "marker": {
             "colorbar": {
              "outlinewidth": 0,
              "ticks": ""
             }
            },
            "type": "scattercarpet"
           }
          ],
          "scattergeo": [
           {
            "marker": {
             "colorbar": {
              "outlinewidth": 0,
              "ticks": ""
             }
            },
            "type": "scattergeo"
           }
          ],
          "scattergl": [
           {
            "marker": {
             "colorbar": {
              "outlinewidth": 0,
              "ticks": ""
             }
            },
            "type": "scattergl"
           }
          ],
          "scattermapbox": [
           {
            "marker": {
             "colorbar": {
              "outlinewidth": 0,
              "ticks": ""
             }
            },
            "type": "scattermapbox"
           }
          ],
          "scatterpolar": [
           {
            "marker": {
             "colorbar": {
              "outlinewidth": 0,
              "ticks": ""
             }
            },
            "type": "scatterpolar"
           }
          ],
          "scatterpolargl": [
           {
            "marker": {
             "colorbar": {
              "outlinewidth": 0,
              "ticks": ""
             }
            },
            "type": "scatterpolargl"
           }
          ],
          "scatterternary": [
           {
            "marker": {
             "colorbar": {
              "outlinewidth": 0,
              "ticks": ""
             }
            },
            "type": "scatterternary"
           }
          ],
          "surface": [
           {
            "colorbar": {
             "outlinewidth": 0,
             "ticks": ""
            },
            "colorscale": [
             [
              0,
              "#0d0887"
             ],
             [
              0.1111111111111111,
              "#46039f"
             ],
             [
              0.2222222222222222,
              "#7201a8"
             ],
             [
              0.3333333333333333,
              "#9c179e"
             ],
             [
              0.4444444444444444,
              "#bd3786"
             ],
             [
              0.5555555555555556,
              "#d8576b"
             ],
             [
              0.6666666666666666,
              "#ed7953"
             ],
             [
              0.7777777777777778,
              "#fb9f3a"
             ],
             [
              0.8888888888888888,
              "#fdca26"
             ],
             [
              1,
              "#f0f921"
             ]
            ],
            "type": "surface"
           }
          ],
          "table": [
           {
            "cells": {
             "fill": {
              "color": "#EBF0F8"
             },
             "line": {
              "color": "white"
             }
            },
            "header": {
             "fill": {
              "color": "#C8D4E3"
             },
             "line": {
              "color": "white"
             }
            },
            "type": "table"
           }
          ]
         },
         "layout": {
          "annotationdefaults": {
           "arrowcolor": "#2a3f5f",
           "arrowhead": 0,
           "arrowwidth": 1
          },
          "autotypenumbers": "strict",
          "coloraxis": {
           "colorbar": {
            "outlinewidth": 0,
            "ticks": ""
           }
          },
          "colorscale": {
           "diverging": [
            [
             0,
             "#8e0152"
            ],
            [
             0.1,
             "#c51b7d"
            ],
            [
             0.2,
             "#de77ae"
            ],
            [
             0.3,
             "#f1b6da"
            ],
            [
             0.4,
             "#fde0ef"
            ],
            [
             0.5,
             "#f7f7f7"
            ],
            [
             0.6,
             "#e6f5d0"
            ],
            [
             0.7,
             "#b8e186"
            ],
            [
             0.8,
             "#7fbc41"
            ],
            [
             0.9,
             "#4d9221"
            ],
            [
             1,
             "#276419"
            ]
           ],
           "sequential": [
            [
             0,
             "#0d0887"
            ],
            [
             0.1111111111111111,
             "#46039f"
            ],
            [
             0.2222222222222222,
             "#7201a8"
            ],
            [
             0.3333333333333333,
             "#9c179e"
            ],
            [
             0.4444444444444444,
             "#bd3786"
            ],
            [
             0.5555555555555556,
             "#d8576b"
            ],
            [
             0.6666666666666666,
             "#ed7953"
            ],
            [
             0.7777777777777778,
             "#fb9f3a"
            ],
            [
             0.8888888888888888,
             "#fdca26"
            ],
            [
             1,
             "#f0f921"
            ]
           ],
           "sequentialminus": [
            [
             0,
             "#0d0887"
            ],
            [
             0.1111111111111111,
             "#46039f"
            ],
            [
             0.2222222222222222,
             "#7201a8"
            ],
            [
             0.3333333333333333,
             "#9c179e"
            ],
            [
             0.4444444444444444,
             "#bd3786"
            ],
            [
             0.5555555555555556,
             "#d8576b"
            ],
            [
             0.6666666666666666,
             "#ed7953"
            ],
            [
             0.7777777777777778,
             "#fb9f3a"
            ],
            [
             0.8888888888888888,
             "#fdca26"
            ],
            [
             1,
             "#f0f921"
            ]
           ]
          },
          "colorway": [
           "#636efa",
           "#EF553B",
           "#00cc96",
           "#ab63fa",
           "#FFA15A",
           "#19d3f3",
           "#FF6692",
           "#B6E880",
           "#FF97FF",
           "#FECB52"
          ],
          "font": {
           "color": "#2a3f5f"
          },
          "geo": {
           "bgcolor": "white",
           "lakecolor": "white",
           "landcolor": "#E5ECF6",
           "showlakes": true,
           "showland": true,
           "subunitcolor": "white"
          },
          "hoverlabel": {
           "align": "left"
          },
          "hovermode": "closest",
          "mapbox": {
           "style": "light"
          },
          "paper_bgcolor": "white",
          "plot_bgcolor": "#E5ECF6",
          "polar": {
           "angularaxis": {
            "gridcolor": "white",
            "linecolor": "white",
            "ticks": ""
           },
           "bgcolor": "#E5ECF6",
           "radialaxis": {
            "gridcolor": "white",
            "linecolor": "white",
            "ticks": ""
           }
          },
          "scene": {
           "xaxis": {
            "backgroundcolor": "#E5ECF6",
            "gridcolor": "white",
            "gridwidth": 2,
            "linecolor": "white",
            "showbackground": true,
            "ticks": "",
            "zerolinecolor": "white"
           },
           "yaxis": {
            "backgroundcolor": "#E5ECF6",
            "gridcolor": "white",
            "gridwidth": 2,
            "linecolor": "white",
            "showbackground": true,
            "ticks": "",
            "zerolinecolor": "white"
           },
           "zaxis": {
            "backgroundcolor": "#E5ECF6",
            "gridcolor": "white",
            "gridwidth": 2,
            "linecolor": "white",
            "showbackground": true,
            "ticks": "",
            "zerolinecolor": "white"
           }
          },
          "shapedefaults": {
           "line": {
            "color": "#2a3f5f"
           }
          },
          "ternary": {
           "aaxis": {
            "gridcolor": "white",
            "linecolor": "white",
            "ticks": ""
           },
           "baxis": {
            "gridcolor": "white",
            "linecolor": "white",
            "ticks": ""
           },
           "bgcolor": "#E5ECF6",
           "caxis": {
            "gridcolor": "white",
            "linecolor": "white",
            "ticks": ""
           }
          },
          "title": {
           "x": 0.05
          },
          "xaxis": {
           "automargin": true,
           "gridcolor": "white",
           "linecolor": "white",
           "ticks": "",
           "title": {
            "standoff": 15
           },
           "zerolinecolor": "white",
           "zerolinewidth": 2
          },
          "yaxis": {
           "automargin": true,
           "gridcolor": "white",
           "linecolor": "white",
           "ticks": "",
           "title": {
            "standoff": 15
           },
           "zerolinecolor": "white",
           "zerolinewidth": 2
          }
         }
        },
        "title": {
         "text": "Overall Suicide attempts by Country"
        }
       }
      },
      "text/html": [
       "<div>                            <div id=\"961562a7-b705-4397-8369-50dcaa1e647e\" class=\"plotly-graph-div\" style=\"height:525px; width:100%;\"></div>            <script type=\"text/javascript\">                require([\"plotly\"], function(Plotly) {                    window.PLOTLYENV=window.PLOTLYENV || {};                                    if (document.getElementById(\"961562a7-b705-4397-8369-50dcaa1e647e\")) {                    Plotly.newPlot(                        \"961562a7-b705-4397-8369-50dcaa1e647e\",                        [{\"colorbar\":{\"title\":{\"text\":\"Suicide attempts\"}},\"colorscale\":[[0.0,\"#440154\"],[0.1111111111111111,\"#482878\"],[0.2222222222222222,\"#3e4989\"],[0.3333333333333333,\"#31688e\"],[0.4444444444444444,\"#26828e\"],[0.5555555555555556,\"#1f9e89\"],[0.6666666666666666,\"#35b779\"],[0.7777777777777778,\"#6ece58\"],[0.8888888888888888,\"#b5de2b\"],[1.0,\"#fde725\"]],\"locationmode\":\"country names\",\"locations\":[\"Argentina\",\"Barabados\",\"Benin\",\"Bhutan\",\"Brunei Darussalam \",\"Dominican Republic \",\"Fiji Islands\",\"Indonesia\",\"Jamaica\",\"Kiribati\",\"Laos\",\"Malaysia\",\"Mauritus\",\"Mongolia\",\"Namibia\",\"Nepal\",\"Peru\",\"Samoa\",\"Seychelles\",\"Suriname\",\"Thailand\",\"Timor-Leste \",\"Trinidad and Tobago \",\"Tuvalu \",\"Uruguay \",\"Vanuatu \",\"Wallis and Futuna \"],\"text\":[\"Argentina\",\"Barabados\",\"Benin\",\"Bhutan\",\"Brunei Darussalam \",\"Dominican Republic \",\"Fiji Islands\",\"Indonesia\",\"Jamaica\",\"Kiribati\",\"Laos\",\"Malaysia\",\"Mauritus\",\"Mongolia\",\"Namibia\",\"Nepal\",\"Peru\",\"Samoa\",\"Seychelles\",\"Suriname\",\"Thailand\",\"Timor-Leste \",\"Trinidad and Tobago \",\"Tuvalu \",\"Uruguay \",\"Vanuatu \",\"Wallis and Futuna \"],\"z\":[15.116666666666665,12.9,12.875,11.225,6.125,17.200000000000003,10.9,3.6,18.533333333333335,30.65,5.275,6.6,12.075,9.25,25.825,9.725,17.0,34.38333333333333,18.0,13.425,12.7,8.775,14.5,9.950000000000001,9.100000000000001,22.75,14.2],\"type\":\"choropleth\"}],                        {\"geo\":{\"projection\":{\"type\":\"mercator\"}},\"title\":{\"text\":\"Overall Suicide attempts by Country\"},\"template\":{\"data\":{\"histogram2dcontour\":[{\"type\":\"histogram2dcontour\",\"colorbar\":{\"outlinewidth\":0,\"ticks\":\"\"},\"colorscale\":[[0.0,\"#0d0887\"],[0.1111111111111111,\"#46039f\"],[0.2222222222222222,\"#7201a8\"],[0.3333333333333333,\"#9c179e\"],[0.4444444444444444,\"#bd3786\"],[0.5555555555555556,\"#d8576b\"],[0.6666666666666666,\"#ed7953\"],[0.7777777777777778,\"#fb9f3a\"],[0.8888888888888888,\"#fdca26\"],[1.0,\"#f0f921\"]]}],\"choropleth\":[{\"type\":\"choropleth\",\"colorbar\":{\"outlinewidth\":0,\"ticks\":\"\"}}],\"histogram2d\":[{\"type\":\"histogram2d\",\"colorbar\":{\"outlinewidth\":0,\"ticks\":\"\"},\"colorscale\":[[0.0,\"#0d0887\"],[0.1111111111111111,\"#46039f\"],[0.2222222222222222,\"#7201a8\"],[0.3333333333333333,\"#9c179e\"],[0.4444444444444444,\"#bd3786\"],[0.5555555555555556,\"#d8576b\"],[0.6666666666666666,\"#ed7953\"],[0.7777777777777778,\"#fb9f3a\"],[0.8888888888888888,\"#fdca26\"],[1.0,\"#f0f921\"]]}],\"heatmap\":[{\"type\":\"heatmap\",\"colorbar\":{\"outlinewidth\":0,\"ticks\":\"\"},\"colorscale\":[[0.0,\"#0d0887\"],[0.1111111111111111,\"#46039f\"],[0.2222222222222222,\"#7201a8\"],[0.3333333333333333,\"#9c179e\"],[0.4444444444444444,\"#bd3786\"],[0.5555555555555556,\"#d8576b\"],[0.6666666666666666,\"#ed7953\"],[0.7777777777777778,\"#fb9f3a\"],[0.8888888888888888,\"#fdca26\"],[1.0,\"#f0f921\"]]}],\"heatmapgl\":[{\"type\":\"heatmapgl\",\"colorbar\":{\"outlinewidth\":0,\"ticks\":\"\"},\"colorscale\":[[0.0,\"#0d0887\"],[0.1111111111111111,\"#46039f\"],[0.2222222222222222,\"#7201a8\"],[0.3333333333333333,\"#9c179e\"],[0.4444444444444444,\"#bd3786\"],[0.5555555555555556,\"#d8576b\"],[0.6666666666666666,\"#ed7953\"],[0.7777777777777778,\"#fb9f3a\"],[0.8888888888888888,\"#fdca26\"],[1.0,\"#f0f921\"]]}],\"contourcarpet\":[{\"type\":\"contourcarpet\",\"colorbar\":{\"outlinewidth\":0,\"ticks\":\"\"}}],\"contour\":[{\"type\":\"contour\",\"colorbar\":{\"outlinewidth\":0,\"ticks\":\"\"},\"colorscale\":[[0.0,\"#0d0887\"],[0.1111111111111111,\"#46039f\"],[0.2222222222222222,\"#7201a8\"],[0.3333333333333333,\"#9c179e\"],[0.4444444444444444,\"#bd3786\"],[0.5555555555555556,\"#d8576b\"],[0.6666666666666666,\"#ed7953\"],[0.7777777777777778,\"#fb9f3a\"],[0.8888888888888888,\"#fdca26\"],[1.0,\"#f0f921\"]]}],\"surface\":[{\"type\":\"surface\",\"colorbar\":{\"outlinewidth\":0,\"ticks\":\"\"},\"colorscale\":[[0.0,\"#0d0887\"],[0.1111111111111111,\"#46039f\"],[0.2222222222222222,\"#7201a8\"],[0.3333333333333333,\"#9c179e\"],[0.4444444444444444,\"#bd3786\"],[0.5555555555555556,\"#d8576b\"],[0.6666666666666666,\"#ed7953\"],[0.7777777777777778,\"#fb9f3a\"],[0.8888888888888888,\"#fdca26\"],[1.0,\"#f0f921\"]]}],\"mesh3d\":[{\"type\":\"mesh3d\",\"colorbar\":{\"outlinewidth\":0,\"ticks\":\"\"}}],\"scatter\":[{\"fillpattern\":{\"fillmode\":\"overlay\",\"size\":10,\"solidity\":0.2},\"type\":\"scatter\"}],\"parcoords\":[{\"type\":\"parcoords\",\"line\":{\"colorbar\":{\"outlinewidth\":0,\"ticks\":\"\"}}}],\"scatterpolargl\":[{\"type\":\"scatterpolargl\",\"marker\":{\"colorbar\":{\"outlinewidth\":0,\"ticks\":\"\"}}}],\"bar\":[{\"error_x\":{\"color\":\"#2a3f5f\"},\"error_y\":{\"color\":\"#2a3f5f\"},\"marker\":{\"line\":{\"color\":\"#E5ECF6\",\"width\":0.5},\"pattern\":{\"fillmode\":\"overlay\",\"size\":10,\"solidity\":0.2}},\"type\":\"bar\"}],\"scattergeo\":[{\"type\":\"scattergeo\",\"marker\":{\"colorbar\":{\"outlinewidth\":0,\"ticks\":\"\"}}}],\"scatterpolar\":[{\"type\":\"scatterpolar\",\"marker\":{\"colorbar\":{\"outlinewidth\":0,\"ticks\":\"\"}}}],\"histogram\":[{\"marker\":{\"pattern\":{\"fillmode\":\"overlay\",\"size\":10,\"solidity\":0.2}},\"type\":\"histogram\"}],\"scattergl\":[{\"type\":\"scattergl\",\"marker\":{\"colorbar\":{\"outlinewidth\":0,\"ticks\":\"\"}}}],\"scatter3d\":[{\"type\":\"scatter3d\",\"line\":{\"colorbar\":{\"outlinewidth\":0,\"ticks\":\"\"}},\"marker\":{\"colorbar\":{\"outlinewidth\":0,\"ticks\":\"\"}}}],\"scattermapbox\":[{\"type\":\"scattermapbox\",\"marker\":{\"colorbar\":{\"outlinewidth\":0,\"ticks\":\"\"}}}],\"scatterternary\":[{\"type\":\"scatterternary\",\"marker\":{\"colorbar\":{\"outlinewidth\":0,\"ticks\":\"\"}}}],\"scattercarpet\":[{\"type\":\"scattercarpet\",\"marker\":{\"colorbar\":{\"outlinewidth\":0,\"ticks\":\"\"}}}],\"carpet\":[{\"aaxis\":{\"endlinecolor\":\"#2a3f5f\",\"gridcolor\":\"white\",\"linecolor\":\"white\",\"minorgridcolor\":\"white\",\"startlinecolor\":\"#2a3f5f\"},\"baxis\":{\"endlinecolor\":\"#2a3f5f\",\"gridcolor\":\"white\",\"linecolor\":\"white\",\"minorgridcolor\":\"white\",\"startlinecolor\":\"#2a3f5f\"},\"type\":\"carpet\"}],\"table\":[{\"cells\":{\"fill\":{\"color\":\"#EBF0F8\"},\"line\":{\"color\":\"white\"}},\"header\":{\"fill\":{\"color\":\"#C8D4E3\"},\"line\":{\"color\":\"white\"}},\"type\":\"table\"}],\"barpolar\":[{\"marker\":{\"line\":{\"color\":\"#E5ECF6\",\"width\":0.5},\"pattern\":{\"fillmode\":\"overlay\",\"size\":10,\"solidity\":0.2}},\"type\":\"barpolar\"}],\"pie\":[{\"automargin\":true,\"type\":\"pie\"}]},\"layout\":{\"autotypenumbers\":\"strict\",\"colorway\":[\"#636efa\",\"#EF553B\",\"#00cc96\",\"#ab63fa\",\"#FFA15A\",\"#19d3f3\",\"#FF6692\",\"#B6E880\",\"#FF97FF\",\"#FECB52\"],\"font\":{\"color\":\"#2a3f5f\"},\"hovermode\":\"closest\",\"hoverlabel\":{\"align\":\"left\"},\"paper_bgcolor\":\"white\",\"plot_bgcolor\":\"#E5ECF6\",\"polar\":{\"bgcolor\":\"#E5ECF6\",\"angularaxis\":{\"gridcolor\":\"white\",\"linecolor\":\"white\",\"ticks\":\"\"},\"radialaxis\":{\"gridcolor\":\"white\",\"linecolor\":\"white\",\"ticks\":\"\"}},\"ternary\":{\"bgcolor\":\"#E5ECF6\",\"aaxis\":{\"gridcolor\":\"white\",\"linecolor\":\"white\",\"ticks\":\"\"},\"baxis\":{\"gridcolor\":\"white\",\"linecolor\":\"white\",\"ticks\":\"\"},\"caxis\":{\"gridcolor\":\"white\",\"linecolor\":\"white\",\"ticks\":\"\"}},\"coloraxis\":{\"colorbar\":{\"outlinewidth\":0,\"ticks\":\"\"}},\"colorscale\":{\"sequential\":[[0.0,\"#0d0887\"],[0.1111111111111111,\"#46039f\"],[0.2222222222222222,\"#7201a8\"],[0.3333333333333333,\"#9c179e\"],[0.4444444444444444,\"#bd3786\"],[0.5555555555555556,\"#d8576b\"],[0.6666666666666666,\"#ed7953\"],[0.7777777777777778,\"#fb9f3a\"],[0.8888888888888888,\"#fdca26\"],[1.0,\"#f0f921\"]],\"sequentialminus\":[[0.0,\"#0d0887\"],[0.1111111111111111,\"#46039f\"],[0.2222222222222222,\"#7201a8\"],[0.3333333333333333,\"#9c179e\"],[0.4444444444444444,\"#bd3786\"],[0.5555555555555556,\"#d8576b\"],[0.6666666666666666,\"#ed7953\"],[0.7777777777777778,\"#fb9f3a\"],[0.8888888888888888,\"#fdca26\"],[1.0,\"#f0f921\"]],\"diverging\":[[0,\"#8e0152\"],[0.1,\"#c51b7d\"],[0.2,\"#de77ae\"],[0.3,\"#f1b6da\"],[0.4,\"#fde0ef\"],[0.5,\"#f7f7f7\"],[0.6,\"#e6f5d0\"],[0.7,\"#b8e186\"],[0.8,\"#7fbc41\"],[0.9,\"#4d9221\"],[1,\"#276419\"]]},\"xaxis\":{\"gridcolor\":\"white\",\"linecolor\":\"white\",\"ticks\":\"\",\"title\":{\"standoff\":15},\"zerolinecolor\":\"white\",\"automargin\":true,\"zerolinewidth\":2},\"yaxis\":{\"gridcolor\":\"white\",\"linecolor\":\"white\",\"ticks\":\"\",\"title\":{\"standoff\":15},\"zerolinecolor\":\"white\",\"automargin\":true,\"zerolinewidth\":2},\"scene\":{\"xaxis\":{\"backgroundcolor\":\"#E5ECF6\",\"gridcolor\":\"white\",\"linecolor\":\"white\",\"showbackground\":true,\"ticks\":\"\",\"zerolinecolor\":\"white\",\"gridwidth\":2},\"yaxis\":{\"backgroundcolor\":\"#E5ECF6\",\"gridcolor\":\"white\",\"linecolor\":\"white\",\"showbackground\":true,\"ticks\":\"\",\"zerolinecolor\":\"white\",\"gridwidth\":2},\"zaxis\":{\"backgroundcolor\":\"#E5ECF6\",\"gridcolor\":\"white\",\"linecolor\":\"white\",\"showbackground\":true,\"ticks\":\"\",\"zerolinecolor\":\"white\",\"gridwidth\":2}},\"shapedefaults\":{\"line\":{\"color\":\"#2a3f5f\"}},\"annotationdefaults\":{\"arrowcolor\":\"#2a3f5f\",\"arrowhead\":0,\"arrowwidth\":1},\"geo\":{\"bgcolor\":\"white\",\"landcolor\":\"#E5ECF6\",\"subunitcolor\":\"white\",\"showland\":true,\"showlakes\":true,\"lakecolor\":\"white\"},\"title\":{\"x\":0.05},\"mapbox\":{\"style\":\"light\"}}}},                        {\"responsive\": true}                    ).then(function(){\n",
       "                            \n",
       "var gd = document.getElementById('961562a7-b705-4397-8369-50dcaa1e647e');\n",
       "var x = new MutationObserver(function (mutations, observer) {{\n",
       "        var display = window.getComputedStyle(gd).display;\n",
       "        if (!display || display === 'none') {{\n",
       "            console.log([gd, 'removed!']);\n",
       "            Plotly.purge(gd);\n",
       "            observer.disconnect();\n",
       "        }}\n",
       "}});\n",
       "\n",
       "// Listen for the removal of the full notebook cells\n",
       "var notebookContainer = gd.closest('#notebook-container');\n",
       "if (notebookContainer) {{\n",
       "    x.observe(notebookContainer, {childList: true});\n",
       "}}\n",
       "\n",
       "// Listen for the clearing of the current output cell\n",
       "var outputEl = gd.closest('.output');\n",
       "if (outputEl) {{\n",
       "    x.observe(outputEl, {childList: true});\n",
       "}}\n",
       "\n",
       "                        })                };                });            </script>        </div>"
      ]
     },
     "metadata": {},
     "output_type": "display_data"
    }
   ],
   "source": [
    "choromap = go.Figure(data = [data],layout = layout)\n",
    "iplot(choromap,validate=False)"
   ]
  },
  {
   "cell_type": "markdown",
   "id": "ebfd5d3c",
   "metadata": {},
   "source": [
    "#### Overall Suicide attempts mean data mapped per country"
   ]
  },
  {
   "attachments": {
    "newplot.png": {
     "image/png": "[encoded data removed]"
    }
   },
   "cell_type": "markdown",
   "id": "130c39c3",
   "metadata": {},
   "source": [
    "![newplot.png](attachment:newplot.png)"
   ]
  },
  {
   "cell_type": "code",
   "execution_count": null,
   "id": "8bc48de0",
   "metadata": {},
   "outputs": [],
   "source": []
  }
 ],
 "metadata": {
  "kernelspec": {
   "display_name": "Python 3 (ipykernel)",
   "language": "python",
   "name": "python3"
  },
  "language_info": {
   "codemirror_mode": {
    "name": "ipython",
    "version": 3
   },
   "file_extension": ".py",
   "mimetype": "text/x-python",
   "name": "python",
   "nbconvert_exporter": "python",
   "pygments_lexer": "ipython3",
   "version": "3.9.7"
  }
 },
 "nbformat": 4,
 "nbformat_minor": 5
}
