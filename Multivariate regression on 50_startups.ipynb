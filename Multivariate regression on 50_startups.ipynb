{
 "cells": [
  {
   "cell_type": "code",
   "execution_count": 1,
   "id": "30a9cbfe",
   "metadata": {},
   "outputs": [],
   "source": [
    "import pandas as pd\n",
    "from sklearn.linear_model import LinearRegression\n",
    "import matplotlib.pyplot as plt\n",
    "from sklearn.model_selection import train_test_split as tts\n",
    "from sklearn.metrics import r2_score\n",
    "import seaborn as sns\n",
    "import numpy as np\n",
    "from sklearn.preprocessing import MinMaxScaler,StandardScaler\n",
    "from scipy.stats import boxcox\n",
    "sns.set(style='white')"
   ]
  },
  {
   "cell_type": "markdown",
   "id": "66c25384",
   "metadata": {},
   "source": [
    "## Import data and EDA"
   ]
  },
  {
   "cell_type": "code",
   "execution_count": 2,
   "id": "7714399c",
   "metadata": {},
   "outputs": [],
   "source": [
    "df=pd.read_csv('50_Startups.csv')"
   ]
  },
  {
   "cell_type": "code",
   "execution_count": 3,
   "id": "9ebde0cb",
   "metadata": {
    "scrolled": true
   },
   "outputs": [],
   "source": [
    "df=df.drop(df[df['R&D Spend']==0].index)"
   ]
  },
  {
   "cell_type": "code",
   "execution_count": 4,
   "id": "5670d899",
   "metadata": {
    "scrolled": true
   },
   "outputs": [
    {
     "data": {
      "text/html": [
       "<div>\n",
       "<style scoped>\n",
       "    .dataframe tbody tr th:only-of-type {\n",
       "        vertical-align: middle;\n",
       "    }\n",
       "\n",
       "    .dataframe tbody tr th {\n",
       "        vertical-align: top;\n",
       "    }\n",
       "\n",
       "    .dataframe thead th {\n",
       "        text-align: right;\n",
       "    }\n",
       "</style>\n",
       "<table border=\"1\" class=\"dataframe\">\n",
       "  <thead>\n",
       "    <tr style=\"text-align: right;\">\n",
       "      <th></th>\n",
       "      <th>R&amp;D Spend</th>\n",
       "      <th>Administration</th>\n",
       "      <th>Marketing Spend</th>\n",
       "      <th>State</th>\n",
       "      <th>Profit</th>\n",
       "    </tr>\n",
       "  </thead>\n",
       "  <tbody>\n",
       "    <tr>\n",
       "      <th>0</th>\n",
       "      <td>165349.20</td>\n",
       "      <td>136897.80</td>\n",
       "      <td>471784.10</td>\n",
       "      <td>New York</td>\n",
       "      <td>192261.83</td>\n",
       "    </tr>\n",
       "    <tr>\n",
       "      <th>1</th>\n",
       "      <td>162597.70</td>\n",
       "      <td>151377.59</td>\n",
       "      <td>443898.53</td>\n",
       "      <td>California</td>\n",
       "      <td>191792.06</td>\n",
       "    </tr>\n",
       "    <tr>\n",
       "      <th>2</th>\n",
       "      <td>153441.51</td>\n",
       "      <td>101145.55</td>\n",
       "      <td>407934.54</td>\n",
       "      <td>Florida</td>\n",
       "      <td>191050.39</td>\n",
       "    </tr>\n",
       "    <tr>\n",
       "      <th>3</th>\n",
       "      <td>144372.41</td>\n",
       "      <td>118671.85</td>\n",
       "      <td>383199.62</td>\n",
       "      <td>New York</td>\n",
       "      <td>182901.99</td>\n",
       "    </tr>\n",
       "    <tr>\n",
       "      <th>4</th>\n",
       "      <td>142107.34</td>\n",
       "      <td>91391.77</td>\n",
       "      <td>366168.42</td>\n",
       "      <td>Florida</td>\n",
       "      <td>166187.94</td>\n",
       "    </tr>\n",
       "    <tr>\n",
       "      <th>5</th>\n",
       "      <td>131876.90</td>\n",
       "      <td>99814.71</td>\n",
       "      <td>362861.36</td>\n",
       "      <td>New York</td>\n",
       "      <td>156991.12</td>\n",
       "    </tr>\n",
       "    <tr>\n",
       "      <th>6</th>\n",
       "      <td>134615.46</td>\n",
       "      <td>147198.87</td>\n",
       "      <td>127716.82</td>\n",
       "      <td>California</td>\n",
       "      <td>156122.51</td>\n",
       "    </tr>\n",
       "    <tr>\n",
       "      <th>7</th>\n",
       "      <td>130298.13</td>\n",
       "      <td>145530.06</td>\n",
       "      <td>323876.68</td>\n",
       "      <td>Florida</td>\n",
       "      <td>155752.60</td>\n",
       "    </tr>\n",
       "    <tr>\n",
       "      <th>8</th>\n",
       "      <td>120542.52</td>\n",
       "      <td>148718.95</td>\n",
       "      <td>311613.29</td>\n",
       "      <td>New York</td>\n",
       "      <td>152211.77</td>\n",
       "    </tr>\n",
       "    <tr>\n",
       "      <th>9</th>\n",
       "      <td>123334.88</td>\n",
       "      <td>108679.17</td>\n",
       "      <td>304981.62</td>\n",
       "      <td>California</td>\n",
       "      <td>149759.96</td>\n",
       "    </tr>\n",
       "    <tr>\n",
       "      <th>10</th>\n",
       "      <td>101913.08</td>\n",
       "      <td>110594.11</td>\n",
       "      <td>229160.95</td>\n",
       "      <td>Florida</td>\n",
       "      <td>146121.95</td>\n",
       "    </tr>\n",
       "    <tr>\n",
       "      <th>11</th>\n",
       "      <td>100671.96</td>\n",
       "      <td>91790.61</td>\n",
       "      <td>249744.55</td>\n",
       "      <td>California</td>\n",
       "      <td>144259.40</td>\n",
       "    </tr>\n",
       "    <tr>\n",
       "      <th>12</th>\n",
       "      <td>93863.75</td>\n",
       "      <td>127320.38</td>\n",
       "      <td>249839.44</td>\n",
       "      <td>Florida</td>\n",
       "      <td>141585.52</td>\n",
       "    </tr>\n",
       "    <tr>\n",
       "      <th>13</th>\n",
       "      <td>91992.39</td>\n",
       "      <td>135495.07</td>\n",
       "      <td>252664.93</td>\n",
       "      <td>California</td>\n",
       "      <td>134307.35</td>\n",
       "    </tr>\n",
       "    <tr>\n",
       "      <th>14</th>\n",
       "      <td>119943.24</td>\n",
       "      <td>156547.42</td>\n",
       "      <td>256512.92</td>\n",
       "      <td>Florida</td>\n",
       "      <td>132602.65</td>\n",
       "    </tr>\n",
       "    <tr>\n",
       "      <th>15</th>\n",
       "      <td>114523.61</td>\n",
       "      <td>122616.84</td>\n",
       "      <td>261776.23</td>\n",
       "      <td>New York</td>\n",
       "      <td>129917.04</td>\n",
       "    </tr>\n",
       "    <tr>\n",
       "      <th>16</th>\n",
       "      <td>78013.11</td>\n",
       "      <td>121597.55</td>\n",
       "      <td>264346.06</td>\n",
       "      <td>California</td>\n",
       "      <td>126992.93</td>\n",
       "    </tr>\n",
       "    <tr>\n",
       "      <th>17</th>\n",
       "      <td>94657.16</td>\n",
       "      <td>145077.58</td>\n",
       "      <td>282574.31</td>\n",
       "      <td>New York</td>\n",
       "      <td>125370.37</td>\n",
       "    </tr>\n",
       "    <tr>\n",
       "      <th>18</th>\n",
       "      <td>91749.16</td>\n",
       "      <td>114175.79</td>\n",
       "      <td>294919.57</td>\n",
       "      <td>Florida</td>\n",
       "      <td>124266.90</td>\n",
       "    </tr>\n",
       "    <tr>\n",
       "      <th>19</th>\n",
       "      <td>86419.70</td>\n",
       "      <td>153514.11</td>\n",
       "      <td>0.00</td>\n",
       "      <td>New York</td>\n",
       "      <td>122776.86</td>\n",
       "    </tr>\n",
       "    <tr>\n",
       "      <th>20</th>\n",
       "      <td>76253.86</td>\n",
       "      <td>113867.30</td>\n",
       "      <td>298664.47</td>\n",
       "      <td>California</td>\n",
       "      <td>118474.03</td>\n",
       "    </tr>\n",
       "    <tr>\n",
       "      <th>21</th>\n",
       "      <td>78389.47</td>\n",
       "      <td>153773.43</td>\n",
       "      <td>299737.29</td>\n",
       "      <td>New York</td>\n",
       "      <td>111313.02</td>\n",
       "    </tr>\n",
       "    <tr>\n",
       "      <th>22</th>\n",
       "      <td>73994.56</td>\n",
       "      <td>122782.75</td>\n",
       "      <td>303319.26</td>\n",
       "      <td>Florida</td>\n",
       "      <td>110352.25</td>\n",
       "    </tr>\n",
       "    <tr>\n",
       "      <th>23</th>\n",
       "      <td>67532.53</td>\n",
       "      <td>105751.03</td>\n",
       "      <td>304768.73</td>\n",
       "      <td>Florida</td>\n",
       "      <td>108733.99</td>\n",
       "    </tr>\n",
       "    <tr>\n",
       "      <th>24</th>\n",
       "      <td>77044.01</td>\n",
       "      <td>99281.34</td>\n",
       "      <td>140574.81</td>\n",
       "      <td>New York</td>\n",
       "      <td>108552.04</td>\n",
       "    </tr>\n",
       "    <tr>\n",
       "      <th>25</th>\n",
       "      <td>64664.71</td>\n",
       "      <td>139553.16</td>\n",
       "      <td>137962.62</td>\n",
       "      <td>California</td>\n",
       "      <td>107404.34</td>\n",
       "    </tr>\n",
       "    <tr>\n",
       "      <th>26</th>\n",
       "      <td>75328.87</td>\n",
       "      <td>144135.98</td>\n",
       "      <td>134050.07</td>\n",
       "      <td>Florida</td>\n",
       "      <td>105733.54</td>\n",
       "    </tr>\n",
       "    <tr>\n",
       "      <th>27</th>\n",
       "      <td>72107.60</td>\n",
       "      <td>127864.55</td>\n",
       "      <td>353183.81</td>\n",
       "      <td>New York</td>\n",
       "      <td>105008.31</td>\n",
       "    </tr>\n",
       "    <tr>\n",
       "      <th>28</th>\n",
       "      <td>66051.52</td>\n",
       "      <td>182645.56</td>\n",
       "      <td>118148.20</td>\n",
       "      <td>Florida</td>\n",
       "      <td>103282.38</td>\n",
       "    </tr>\n",
       "    <tr>\n",
       "      <th>29</th>\n",
       "      <td>65605.48</td>\n",
       "      <td>153032.06</td>\n",
       "      <td>107138.38</td>\n",
       "      <td>New York</td>\n",
       "      <td>101004.64</td>\n",
       "    </tr>\n",
       "    <tr>\n",
       "      <th>30</th>\n",
       "      <td>61994.48</td>\n",
       "      <td>115641.28</td>\n",
       "      <td>91131.24</td>\n",
       "      <td>Florida</td>\n",
       "      <td>99937.59</td>\n",
       "    </tr>\n",
       "    <tr>\n",
       "      <th>31</th>\n",
       "      <td>61136.38</td>\n",
       "      <td>152701.92</td>\n",
       "      <td>88218.23</td>\n",
       "      <td>New York</td>\n",
       "      <td>97483.56</td>\n",
       "    </tr>\n",
       "    <tr>\n",
       "      <th>32</th>\n",
       "      <td>63408.86</td>\n",
       "      <td>129219.61</td>\n",
       "      <td>46085.25</td>\n",
       "      <td>California</td>\n",
       "      <td>97427.84</td>\n",
       "    </tr>\n",
       "    <tr>\n",
       "      <th>33</th>\n",
       "      <td>55493.95</td>\n",
       "      <td>103057.49</td>\n",
       "      <td>214634.81</td>\n",
       "      <td>Florida</td>\n",
       "      <td>96778.92</td>\n",
       "    </tr>\n",
       "    <tr>\n",
       "      <th>34</th>\n",
       "      <td>46426.07</td>\n",
       "      <td>157693.92</td>\n",
       "      <td>210797.67</td>\n",
       "      <td>California</td>\n",
       "      <td>96712.80</td>\n",
       "    </tr>\n",
       "    <tr>\n",
       "      <th>35</th>\n",
       "      <td>46014.02</td>\n",
       "      <td>85047.44</td>\n",
       "      <td>205517.64</td>\n",
       "      <td>New York</td>\n",
       "      <td>96479.51</td>\n",
       "    </tr>\n",
       "    <tr>\n",
       "      <th>36</th>\n",
       "      <td>28663.76</td>\n",
       "      <td>127056.21</td>\n",
       "      <td>201126.82</td>\n",
       "      <td>Florida</td>\n",
       "      <td>90708.19</td>\n",
       "    </tr>\n",
       "    <tr>\n",
       "      <th>37</th>\n",
       "      <td>44069.95</td>\n",
       "      <td>51283.14</td>\n",
       "      <td>197029.42</td>\n",
       "      <td>California</td>\n",
       "      <td>89949.14</td>\n",
       "    </tr>\n",
       "    <tr>\n",
       "      <th>38</th>\n",
       "      <td>20229.59</td>\n",
       "      <td>65947.93</td>\n",
       "      <td>185265.10</td>\n",
       "      <td>New York</td>\n",
       "      <td>81229.06</td>\n",
       "    </tr>\n",
       "    <tr>\n",
       "      <th>39</th>\n",
       "      <td>38558.51</td>\n",
       "      <td>82982.09</td>\n",
       "      <td>174999.30</td>\n",
       "      <td>California</td>\n",
       "      <td>81005.76</td>\n",
       "    </tr>\n",
       "    <tr>\n",
       "      <th>40</th>\n",
       "      <td>28754.33</td>\n",
       "      <td>118546.05</td>\n",
       "      <td>172795.67</td>\n",
       "      <td>California</td>\n",
       "      <td>78239.91</td>\n",
       "    </tr>\n",
       "    <tr>\n",
       "      <th>41</th>\n",
       "      <td>27892.92</td>\n",
       "      <td>84710.77</td>\n",
       "      <td>164470.71</td>\n",
       "      <td>Florida</td>\n",
       "      <td>77798.83</td>\n",
       "    </tr>\n",
       "    <tr>\n",
       "      <th>42</th>\n",
       "      <td>23640.93</td>\n",
       "      <td>96189.63</td>\n",
       "      <td>148001.11</td>\n",
       "      <td>California</td>\n",
       "      <td>71498.49</td>\n",
       "    </tr>\n",
       "    <tr>\n",
       "      <th>43</th>\n",
       "      <td>15505.73</td>\n",
       "      <td>127382.30</td>\n",
       "      <td>35534.17</td>\n",
       "      <td>New York</td>\n",
       "      <td>69758.98</td>\n",
       "    </tr>\n",
       "    <tr>\n",
       "      <th>44</th>\n",
       "      <td>22177.74</td>\n",
       "      <td>154806.14</td>\n",
       "      <td>28334.72</td>\n",
       "      <td>California</td>\n",
       "      <td>65200.33</td>\n",
       "    </tr>\n",
       "    <tr>\n",
       "      <th>45</th>\n",
       "      <td>1000.23</td>\n",
       "      <td>124153.04</td>\n",
       "      <td>1903.93</td>\n",
       "      <td>New York</td>\n",
       "      <td>64926.08</td>\n",
       "    </tr>\n",
       "    <tr>\n",
       "      <th>46</th>\n",
       "      <td>1315.46</td>\n",
       "      <td>115816.21</td>\n",
       "      <td>297114.46</td>\n",
       "      <td>Florida</td>\n",
       "      <td>49490.75</td>\n",
       "    </tr>\n",
       "    <tr>\n",
       "      <th>48</th>\n",
       "      <td>542.05</td>\n",
       "      <td>51743.15</td>\n",
       "      <td>0.00</td>\n",
       "      <td>New York</td>\n",
       "      <td>35673.41</td>\n",
       "    </tr>\n",
       "  </tbody>\n",
       "</table>\n",
       "</div>"
      ],
      "text/plain": [
       "    R&D Spend  Administration  Marketing Spend       State     Profit\n",
       "0   165349.20       136897.80        471784.10    New York  192261.83\n",
       "1   162597.70       151377.59        443898.53  California  191792.06\n",
       "2   153441.51       101145.55        407934.54     Florida  191050.39\n",
       "3   144372.41       118671.85        383199.62    New York  182901.99\n",
       "4   142107.34        91391.77        366168.42     Florida  166187.94\n",
       "5   131876.90        99814.71        362861.36    New York  156991.12\n",
       "6   134615.46       147198.87        127716.82  California  156122.51\n",
       "7   130298.13       145530.06        323876.68     Florida  155752.60\n",
       "8   120542.52       148718.95        311613.29    New York  152211.77\n",
       "9   123334.88       108679.17        304981.62  California  149759.96\n",
       "10  101913.08       110594.11        229160.95     Florida  146121.95\n",
       "11  100671.96        91790.61        249744.55  California  144259.40\n",
       "12   93863.75       127320.38        249839.44     Florida  141585.52\n",
       "13   91992.39       135495.07        252664.93  California  134307.35\n",
       "14  119943.24       156547.42        256512.92     Florida  132602.65\n",
       "15  114523.61       122616.84        261776.23    New York  129917.04\n",
       "16   78013.11       121597.55        264346.06  California  126992.93\n",
       "17   94657.16       145077.58        282574.31    New York  125370.37\n",
       "18   91749.16       114175.79        294919.57     Florida  124266.90\n",
       "19   86419.70       153514.11             0.00    New York  122776.86\n",
       "20   76253.86       113867.30        298664.47  California  118474.03\n",
       "21   78389.47       153773.43        299737.29    New York  111313.02\n",
       "22   73994.56       122782.75        303319.26     Florida  110352.25\n",
       "23   67532.53       105751.03        304768.73     Florida  108733.99\n",
       "24   77044.01        99281.34        140574.81    New York  108552.04\n",
       "25   64664.71       139553.16        137962.62  California  107404.34\n",
       "26   75328.87       144135.98        134050.07     Florida  105733.54\n",
       "27   72107.60       127864.55        353183.81    New York  105008.31\n",
       "28   66051.52       182645.56        118148.20     Florida  103282.38\n",
       "29   65605.48       153032.06        107138.38    New York  101004.64\n",
       "30   61994.48       115641.28         91131.24     Florida   99937.59\n",
       "31   61136.38       152701.92         88218.23    New York   97483.56\n",
       "32   63408.86       129219.61         46085.25  California   97427.84\n",
       "33   55493.95       103057.49        214634.81     Florida   96778.92\n",
       "34   46426.07       157693.92        210797.67  California   96712.80\n",
       "35   46014.02        85047.44        205517.64    New York   96479.51\n",
       "36   28663.76       127056.21        201126.82     Florida   90708.19\n",
       "37   44069.95        51283.14        197029.42  California   89949.14\n",
       "38   20229.59        65947.93        185265.10    New York   81229.06\n",
       "39   38558.51        82982.09        174999.30  California   81005.76\n",
       "40   28754.33       118546.05        172795.67  California   78239.91\n",
       "41   27892.92        84710.77        164470.71     Florida   77798.83\n",
       "42   23640.93        96189.63        148001.11  California   71498.49\n",
       "43   15505.73       127382.30         35534.17    New York   69758.98\n",
       "44   22177.74       154806.14         28334.72  California   65200.33\n",
       "45    1000.23       124153.04          1903.93    New York   64926.08\n",
       "46    1315.46       115816.21        297114.46     Florida   49490.75\n",
       "48     542.05        51743.15             0.00    New York   35673.41"
      ]
     },
     "execution_count": 4,
     "metadata": {},
     "output_type": "execute_result"
    }
   ],
   "source": [
    "df"
   ]
  },
  {
   "cell_type": "code",
   "execution_count": 5,
   "id": "17439de7",
   "metadata": {},
   "outputs": [
    {
     "name": "stdout",
     "output_type": "stream",
     "text": [
      "<class 'pandas.core.frame.DataFrame'>\n",
      "Int64Index: 48 entries, 0 to 48\n",
      "Data columns (total 5 columns):\n",
      " #   Column           Non-Null Count  Dtype  \n",
      "---  ------           --------------  -----  \n",
      " 0   R&D Spend        48 non-null     float64\n",
      " 1   Administration   48 non-null     float64\n",
      " 2   Marketing Spend  48 non-null     float64\n",
      " 3   State            48 non-null     object \n",
      " 4   Profit           48 non-null     float64\n",
      "dtypes: float64(4), object(1)\n",
      "memory usage: 2.2+ KB\n"
     ]
    }
   ],
   "source": [
    "df.info()"
   ]
  },
  {
   "cell_type": "code",
   "execution_count": 6,
   "id": "1f0c1035",
   "metadata": {
    "scrolled": true
   },
   "outputs": [
    {
     "data": {
      "text/html": [
       "<div>\n",
       "<style scoped>\n",
       "    .dataframe tbody tr th:only-of-type {\n",
       "        vertical-align: middle;\n",
       "    }\n",
       "\n",
       "    .dataframe tbody tr th {\n",
       "        vertical-align: top;\n",
       "    }\n",
       "\n",
       "    .dataframe thead th {\n",
       "        text-align: right;\n",
       "    }\n",
       "</style>\n",
       "<table border=\"1\" class=\"dataframe\">\n",
       "  <thead>\n",
       "    <tr style=\"text-align: right;\">\n",
       "      <th></th>\n",
       "      <th>R&amp;D Spend</th>\n",
       "      <th>Administration</th>\n",
       "      <th>Marketing Spend</th>\n",
       "      <th>Profit</th>\n",
       "    </tr>\n",
       "  </thead>\n",
       "  <tbody>\n",
       "    <tr>\n",
       "      <th>count</th>\n",
       "      <td>48.000000</td>\n",
       "      <td>48.000000</td>\n",
       "      <td>48.000000</td>\n",
       "      <td>48.000000</td>\n",
       "    </tr>\n",
       "    <tr>\n",
       "      <th>mean</th>\n",
       "      <td>76793.349583</td>\n",
       "      <td>121142.109583</td>\n",
       "      <td>218876.704792</td>\n",
       "      <td>115487.308958</td>\n",
       "    </tr>\n",
       "    <tr>\n",
       "      <th>std</th>\n",
       "      <td>44224.086236</td>\n",
       "      <td>28526.050007</td>\n",
       "      <td>118303.028079</td>\n",
       "      <td>37110.594903</td>\n",
       "    </tr>\n",
       "    <tr>\n",
       "      <th>min</th>\n",
       "      <td>542.050000</td>\n",
       "      <td>51283.140000</td>\n",
       "      <td>0.000000</td>\n",
       "      <td>35673.410000</td>\n",
       "    </tr>\n",
       "    <tr>\n",
       "      <th>25%</th>\n",
       "      <td>45528.002500</td>\n",
       "      <td>102579.505000</td>\n",
       "      <td>136984.482500</td>\n",
       "      <td>95036.680000</td>\n",
       "    </tr>\n",
       "    <tr>\n",
       "      <th>50%</th>\n",
       "      <td>74661.715000</td>\n",
       "      <td>122699.795000</td>\n",
       "      <td>221897.880000</td>\n",
       "      <td>108643.015000</td>\n",
       "    </tr>\n",
       "    <tr>\n",
       "      <th>75%</th>\n",
       "      <td>105065.712500</td>\n",
       "      <td>145190.700000</td>\n",
       "      <td>300632.782500</td>\n",
       "      <td>142253.990000</td>\n",
       "    </tr>\n",
       "    <tr>\n",
       "      <th>max</th>\n",
       "      <td>165349.200000</td>\n",
       "      <td>182645.560000</td>\n",
       "      <td>471784.100000</td>\n",
       "      <td>192261.830000</td>\n",
       "    </tr>\n",
       "  </tbody>\n",
       "</table>\n",
       "</div>"
      ],
      "text/plain": [
       "           R&D Spend  Administration  Marketing Spend         Profit\n",
       "count      48.000000       48.000000        48.000000      48.000000\n",
       "mean    76793.349583   121142.109583    218876.704792  115487.308958\n",
       "std     44224.086236    28526.050007    118303.028079   37110.594903\n",
       "min       542.050000    51283.140000         0.000000   35673.410000\n",
       "25%     45528.002500   102579.505000    136984.482500   95036.680000\n",
       "50%     74661.715000   122699.795000    221897.880000  108643.015000\n",
       "75%    105065.712500   145190.700000    300632.782500  142253.990000\n",
       "max    165349.200000   182645.560000    471784.100000  192261.830000"
      ]
     },
     "execution_count": 6,
     "metadata": {},
     "output_type": "execute_result"
    }
   ],
   "source": [
    "df.describe()"
   ]
  },
  {
   "cell_type": "markdown",
   "id": "40f4bded",
   "metadata": {},
   "source": [
    "### Multicollinearity Check:"
   ]
  },
  {
   "cell_type": "code",
   "execution_count": 7,
   "id": "a624f5e5",
   "metadata": {},
   "outputs": [
    {
     "data": {
      "text/plain": [
       "<AxesSubplot:>"
      ]
     },
     "execution_count": 7,
     "metadata": {},
     "output_type": "execute_result"
    },
    {
     "data": {
      "image/png": "[encoded data removed]",
      "text/plain": [
       "<Figure size 432x288 with 2 Axes>"
      ]
     },
     "metadata": {},
     "output_type": "display_data"
    }
   ],
   "source": [
    "sns.heatmap(df.corr())"
   ]
  },
  {
   "cell_type": "markdown",
   "id": "34c04aa8",
   "metadata": {},
   "source": [
    "#### From above we can conclude that there no perfect non-multicollinearity present in Data as we have some categorical features which deviates away from regression assumptions"
   ]
  },
  {
   "cell_type": "code",
   "execution_count": 8,
   "id": "3d97e2b0",
   "metadata": {
    "scrolled": true
   },
   "outputs": [
    {
     "data": {
      "image/png": "[encoded data removed]",
      "text/plain": [
       "<Figure size 432x288 with 1 Axes>"
      ]
     },
     "metadata": {},
     "output_type": "display_data"
    }
   ],
   "source": [
    "plt.boxplot(df.drop('State',axis=1))\n",
    "plt.show()\n",
    "#sns.boxplot(df.drop('State',axis=1))"
   ]
  },
  {
   "cell_type": "code",
   "execution_count": 9,
   "id": "0a540dd1",
   "metadata": {
    "scrolled": false
   },
   "outputs": [
    {
     "data": {
      "text/plain": [
       "<seaborn.axisgrid.PairGrid at 0x7fbcde5fbee0>"
      ]
     },
     "execution_count": 9,
     "metadata": {},
     "output_type": "execute_result"
    },
    {
     "data": {
      "image/png": "[encoded data removed]",
      "text/plain": [
       "<Figure size 720x720 with 20 Axes>"
      ]
     },
     "metadata": {},
     "output_type": "display_data"
    }
   ],
   "source": [
    "sns.pairplot(df)"
   ]
  },
  {
   "cell_type": "markdown",
   "id": "5f6a25db",
   "metadata": {},
   "source": [
    "### Linearity Check:"
   ]
  },
  {
   "cell_type": "code",
   "execution_count": 10,
   "id": "ac676216",
   "metadata": {},
   "outputs": [
    {
     "data": {
      "text/plain": [
       "<AxesSubplot:xlabel='Marketing Spend', ylabel='Profit'>"
      ]
     },
     "execution_count": 10,
     "metadata": {},
     "output_type": "execute_result"
    },
    {
     "data": {
      "image/png": "[encoded data removed]",
      "text/plain": [
       "<Figure size 1512x504 with 3 Axes>"
      ]
     },
     "metadata": {},
     "output_type": "display_data"
    }
   ],
   "source": [
    "_=sns.pairplot(data=df,x_vars=['R&D Spend','Administration','Marketing Spend'],y_vars='Profit',height=7)\n",
    "sns.lineplot(x=[0,450000],y=[40000,200000],color='red')"
   ]
  },
  {
   "cell_type": "markdown",
   "id": "49d3534a",
   "metadata": {},
   "source": [
    "#### QQ plots to see Linearity"
   ]
  },
  {
   "cell_type": "code",
   "execution_count": 11,
   "id": "2d122ac6",
   "metadata": {},
   "outputs": [
    {
     "data": {
      "text/plain": [
       "<AxesSubplot:xlabel='R&D Spend', ylabel='Profit'>"
      ]
     },
     "execution_count": 11,
     "metadata": {},
     "output_type": "execute_result"
    },
    {
     "data": {
      "image/png": "[encoded data removed]",
      "text/plain": [
       "<Figure size 504x504 with 1 Axes>"
      ]
     },
     "metadata": {},
     "output_type": "display_data"
    }
   ],
   "source": [
    "from seaborn_qqplot import pplot\n",
    "pplot(df,x='R&D Spend',y='Profit',kind='qq',height=7)\n",
    "sns.lineplot(x=[0,17000],y=[4000,20000],color='red')"
   ]
  },
  {
   "cell_type": "markdown",
   "id": "816c83e7",
   "metadata": {},
   "source": [
    "#### From above we can see that data is not Homoscadascous."
   ]
  },
  {
   "cell_type": "markdown",
   "id": "515bf091",
   "metadata": {},
   "source": [
    "### Checking the normality of data using Shapiro and making data normal using Boxcox transformation"
   ]
  },
  {
   "cell_type": "code",
   "execution_count": 12,
   "id": "19ed26b9",
   "metadata": {},
   "outputs": [
    {
     "data": {
      "text/plain": [
       "ShapiroResult(statistic=0.9777237772941589, pvalue=0.487731009721756)"
      ]
     },
     "execution_count": 12,
     "metadata": {},
     "output_type": "execute_result"
    }
   ],
   "source": [
    "from scipy.stats import shapiro\n",
    "shapiro(df.Profit)"
   ]
  },
  {
   "cell_type": "code",
   "execution_count": 13,
   "id": "3f22bc5e",
   "metadata": {},
   "outputs": [
    {
     "data": {
      "text/plain": [
       "ShapiroResult(statistic=0.9846063256263733, pvalue=0.7750201225280762)"
      ]
     },
     "execution_count": 13,
     "metadata": {},
     "output_type": "execute_result"
    }
   ],
   "source": [
    "prf_df,_=boxcox(df.Profit)\n",
    "shapiro(prf_df)"
   ]
  },
  {
   "cell_type": "code",
   "execution_count": 14,
   "id": "dcde6268",
   "metadata": {},
   "outputs": [],
   "source": [
    "df.Profit=prf_df"
   ]
  },
  {
   "cell_type": "code",
   "execution_count": 15,
   "id": "e0a99614",
   "metadata": {},
   "outputs": [
    {
     "data": {
      "text/plain": [
       "ShapiroResult(statistic=0.9699163436889648, pvalue=0.2514325976371765)"
      ]
     },
     "execution_count": 15,
     "metadata": {},
     "output_type": "execute_result"
    }
   ],
   "source": [
    "shapiro(df['Administration'])"
   ]
  },
  {
   "cell_type": "code",
   "execution_count": 16,
   "id": "9767e84c",
   "metadata": {},
   "outputs": [
    {
     "data": {
      "text/plain": [
       "ShapiroResult(statistic=0.980928897857666, pvalue=0.6178129315376282)"
      ]
     },
     "execution_count": 16,
     "metadata": {},
     "output_type": "execute_result"
    }
   ],
   "source": [
    "adm_df,_=boxcox(df.Administration)\n",
    "shapiro(adm_df)"
   ]
  },
  {
   "cell_type": "code",
   "execution_count": 17,
   "id": "78246f92",
   "metadata": {},
   "outputs": [],
   "source": [
    "df.Administration=adm_df"
   ]
  },
  {
   "cell_type": "code",
   "execution_count": 18,
   "id": "0659202a",
   "metadata": {},
   "outputs": [
    {
     "data": {
      "text/plain": [
       "ShapiroResult(statistic=0.9805382490158081, pvalue=0.6012575626373291)"
      ]
     },
     "execution_count": 18,
     "metadata": {},
     "output_type": "execute_result"
    }
   ],
   "source": [
    "shapiro(df['Marketing Spend'])"
   ]
  },
  {
   "cell_type": "code",
   "execution_count": 19,
   "id": "ad7435c5",
   "metadata": {},
   "outputs": [
    {
     "data": {
      "text/plain": [
       "ShapiroResult(statistic=0.9727425575256348, pvalue=0.3227234482765198)"
      ]
     },
     "execution_count": 19,
     "metadata": {},
     "output_type": "execute_result"
    }
   ],
   "source": [
    "shapiro(df['R&D Spend'])"
   ]
  },
  {
   "cell_type": "code",
   "execution_count": 20,
   "id": "d670feb9",
   "metadata": {},
   "outputs": [
    {
     "data": {
      "text/plain": [
       "ShapiroResult(statistic=0.9733019471168518, pvalue=0.33871030807495117)"
      ]
     },
     "execution_count": 20,
     "metadata": {},
     "output_type": "execute_result"
    }
   ],
   "source": [
    "rd_df,_=boxcox(df['R&D Spend'])\n",
    "shapiro(rd_df)"
   ]
  },
  {
   "cell_type": "code",
   "execution_count": 21,
   "id": "f23e7d86",
   "metadata": {},
   "outputs": [],
   "source": [
    "df['R&D Spend']=rd_df"
   ]
  },
  {
   "cell_type": "code",
   "execution_count": 22,
   "id": "97617476",
   "metadata": {
    "scrolled": true
   },
   "outputs": [
    {
     "data": {
      "text/html": [
       "<div>\n",
       "<style scoped>\n",
       "    .dataframe tbody tr th:only-of-type {\n",
       "        vertical-align: middle;\n",
       "    }\n",
       "\n",
       "    .dataframe tbody tr th {\n",
       "        vertical-align: top;\n",
       "    }\n",
       "\n",
       "    .dataframe thead th {\n",
       "        text-align: right;\n",
       "    }\n",
       "</style>\n",
       "<table border=\"1\" class=\"dataframe\">\n",
       "  <thead>\n",
       "    <tr style=\"text-align: right;\">\n",
       "      <th></th>\n",
       "      <th>R&amp;D Spend</th>\n",
       "      <th>Administration</th>\n",
       "      <th>Marketing Spend</th>\n",
       "      <th>State</th>\n",
       "      <th>Profit</th>\n",
       "    </tr>\n",
       "  </thead>\n",
       "  <tbody>\n",
       "    <tr>\n",
       "      <th>0</th>\n",
       "      <td>6727.280793</td>\n",
       "      <td>8.665412e+07</td>\n",
       "      <td>471784.10</td>\n",
       "      <td>New York</td>\n",
       "      <td>4736.738938</td>\n",
       "    </tr>\n",
       "    <tr>\n",
       "      <th>1</th>\n",
       "      <td>6648.216520</td>\n",
       "      <td>1.016174e+08</td>\n",
       "      <td>443898.53</td>\n",
       "      <td>California</td>\n",
       "      <td>4729.075200</td>\n",
       "    </tr>\n",
       "    <tr>\n",
       "      <th>2</th>\n",
       "      <td>6382.208154</td>\n",
       "      <td>5.364541e+07</td>\n",
       "      <td>407934.54</td>\n",
       "      <td>Florida</td>\n",
       "      <td>4716.962796</td>\n",
       "    </tr>\n",
       "    <tr>\n",
       "      <th>3</th>\n",
       "      <td>6114.061157</td>\n",
       "      <td>6.910109e+07</td>\n",
       "      <td>383199.62</td>\n",
       "      <td>New York</td>\n",
       "      <td>4582.822418</td>\n",
       "    </tr>\n",
       "    <tr>\n",
       "      <th>4</th>\n",
       "      <td>6046.320734</td>\n",
       "      <td>4.568358e+07</td>\n",
       "      <td>366168.42</td>\n",
       "      <td>Florida</td>\n",
       "      <td>4301.154724</td>\n",
       "    </tr>\n",
       "    <tr>\n",
       "      <th>5</th>\n",
       "      <td>5736.276832</td>\n",
       "      <td>5.253143e+07</td>\n",
       "      <td>362861.36</td>\n",
       "      <td>New York</td>\n",
       "      <td>4142.089232</td>\n",
       "    </tr>\n",
       "    <tr>\n",
       "      <th>6</th>\n",
       "      <td>5819.947821</td>\n",
       "      <td>9.720924e+07</td>\n",
       "      <td>127716.82</td>\n",
       "      <td>California</td>\n",
       "      <td>4126.905250</td>\n",
       "    </tr>\n",
       "    <tr>\n",
       "      <th>7</th>\n",
       "      <td>5687.807554</td>\n",
       "      <td>9.546901e+07</td>\n",
       "      <td>323876.68</td>\n",
       "      <td>Florida</td>\n",
       "      <td>4120.430260</td>\n",
       "    </tr>\n",
       "    <tr>\n",
       "      <th>8</th>\n",
       "      <td>5384.336678</td>\n",
       "      <td>9.880444e+07</td>\n",
       "      <td>311613.29</td>\n",
       "      <td>New York</td>\n",
       "      <td>4058.184983</td>\n",
       "    </tr>\n",
       "    <tr>\n",
       "      <th>9</th>\n",
       "      <td>5471.917704</td>\n",
       "      <td>6.011214e+07</td>\n",
       "      <td>304981.62</td>\n",
       "      <td>California</td>\n",
       "      <td>4014.796625</td>\n",
       "    </tr>\n",
       "    <tr>\n",
       "      <th>10</th>\n",
       "      <td>4783.670375</td>\n",
       "      <td>6.179883e+07</td>\n",
       "      <td>229160.95</td>\n",
       "      <td>Florida</td>\n",
       "      <td>3949.971037</td>\n",
       "    </tr>\n",
       "    <tr>\n",
       "      <th>11</th>\n",
       "      <td>4742.549136</td>\n",
       "      <td>4.599984e+07</td>\n",
       "      <td>249744.55</td>\n",
       "      <td>California</td>\n",
       "      <td>3916.571220</td>\n",
       "    </tr>\n",
       "    <tr>\n",
       "      <th>12</th>\n",
       "      <td>4514.239852</td>\n",
       "      <td>7.724775e+07</td>\n",
       "      <td>249839.44</td>\n",
       "      <td>Florida</td>\n",
       "      <td>3868.366113</td>\n",
       "    </tr>\n",
       "    <tr>\n",
       "      <th>13</th>\n",
       "      <td>4450.636982</td>\n",
       "      <td>8.525162e+07</td>\n",
       "      <td>252664.93</td>\n",
       "      <td>California</td>\n",
       "      <td>3735.565535</td>\n",
       "    </tr>\n",
       "    <tr>\n",
       "      <th>14</th>\n",
       "      <td>5365.462721</td>\n",
       "      <td>1.071702e+08</td>\n",
       "      <td>256512.92</td>\n",
       "      <td>Florida</td>\n",
       "      <td>3704.112124</td>\n",
       "    </tr>\n",
       "    <tr>\n",
       "      <th>15</th>\n",
       "      <td>5193.485225</td>\n",
       "      <td>7.277562e+07</td>\n",
       "      <td>261776.23</td>\n",
       "      <td>New York</td>\n",
       "      <td>3654.280882</td>\n",
       "    </tr>\n",
       "    <tr>\n",
       "      <th>16</th>\n",
       "      <td>3962.621194</td>\n",
       "      <td>7.181949e+07</td>\n",
       "      <td>264346.06</td>\n",
       "      <td>California</td>\n",
       "      <td>3599.626247</td>\n",
       "    </tr>\n",
       "    <tr>\n",
       "      <th>17</th>\n",
       "      <td>4541.092494</td>\n",
       "      <td>9.499917e+07</td>\n",
       "      <td>282574.31</td>\n",
       "      <td>New York</td>\n",
       "      <td>3569.115367</td>\n",
       "    </tr>\n",
       "    <tr>\n",
       "      <th>18</th>\n",
       "      <td>4442.342241</td>\n",
       "      <td>6.499953e+07</td>\n",
       "      <td>294919.57</td>\n",
       "      <td>Florida</td>\n",
       "      <td>3548.289191</td>\n",
       "    </tr>\n",
       "    <tr>\n",
       "      <th>19</th>\n",
       "      <td>4258.921786</td>\n",
       "      <td>1.038990e+08</td>\n",
       "      <td>0.00</td>\n",
       "      <td>New York</td>\n",
       "      <td>3520.067572</td>\n",
       "    </tr>\n",
       "    <tr>\n",
       "      <th>20</th>\n",
       "      <td>3899.443386</td>\n",
       "      <td>6.472152e+07</td>\n",
       "      <td>298664.47</td>\n",
       "      <td>California</td>\n",
       "      <td>3437.912618</td>\n",
       "    </tr>\n",
       "    <tr>\n",
       "      <th>21</th>\n",
       "      <td>3976.082025</td>\n",
       "      <td>1.041772e+08</td>\n",
       "      <td>299737.29</td>\n",
       "      <td>New York</td>\n",
       "      <td>3298.908267</td>\n",
       "    </tr>\n",
       "    <tr>\n",
       "      <th>22</th>\n",
       "      <td>3817.671829</td>\n",
       "      <td>7.293169e+07</td>\n",
       "      <td>303319.26</td>\n",
       "      <td>Florida</td>\n",
       "      <td>3280.031418</td>\n",
       "    </tr>\n",
       "    <tr>\n",
       "      <th>23</th>\n",
       "      <td>3579.590000</td>\n",
       "      <td>5.756647e+07</td>\n",
       "      <td>304768.73</td>\n",
       "      <td>Florida</td>\n",
       "      <td>3248.110231</td>\n",
       "    </tr>\n",
       "    <tr>\n",
       "      <th>24</th>\n",
       "      <td>3927.871806</td>\n",
       "      <td>5.208740e+07</td>\n",
       "      <td>140574.81</td>\n",
       "      <td>New York</td>\n",
       "      <td>3244.511136</td>\n",
       "    </tr>\n",
       "    <tr>\n",
       "      <th>25</th>\n",
       "      <td>3471.789739</td>\n",
       "      <td>8.933207e+07</td>\n",
       "      <td>137962.62</td>\n",
       "      <td>California</td>\n",
       "      <td>3221.761607</td>\n",
       "    </tr>\n",
       "    <tr>\n",
       "      <th>26</th>\n",
       "      <td>3866.052723</td>\n",
       "      <td>9.402418e+07</td>\n",
       "      <td>134050.07</td>\n",
       "      <td>Florida</td>\n",
       "      <td>3188.495666</td>\n",
       "    </tr>\n",
       "    <tr>\n",
       "      <th>27</th>\n",
       "      <td>3748.809428</td>\n",
       "      <td>7.777147e+07</td>\n",
       "      <td>353183.81</td>\n",
       "      <td>New York</td>\n",
       "      <td>3174.000922</td>\n",
       "    </tr>\n",
       "    <tr>\n",
       "      <th>28</th>\n",
       "      <td>3524.092111</td>\n",
       "      <td>1.368247e+08</td>\n",
       "      <td>118148.20</td>\n",
       "      <td>Florida</td>\n",
       "      <td>3139.368824</td>\n",
       "    </tr>\n",
       "    <tr>\n",
       "      <th>29</th>\n",
       "      <td>3507.305821</td>\n",
       "      <td>1.033826e+08</td>\n",
       "      <td>107138.38</td>\n",
       "      <td>New York</td>\n",
       "      <td>3093.362950</td>\n",
       "    </tr>\n",
       "    <tr>\n",
       "      <th>30</th>\n",
       "      <td>3370.139087</td>\n",
       "      <td>6.632626e+07</td>\n",
       "      <td>91131.24</td>\n",
       "      <td>Florida</td>\n",
       "      <td>3071.690085</td>\n",
       "    </tr>\n",
       "    <tr>\n",
       "      <th>31</th>\n",
       "      <td>3337.199692</td>\n",
       "      <td>1.030295e+08</td>\n",
       "      <td>88218.23</td>\n",
       "      <td>New York</td>\n",
       "      <td>3021.546775</td>\n",
       "    </tr>\n",
       "    <tr>\n",
       "      <th>32</th>\n",
       "      <td>3424.139631</td>\n",
       "      <td>7.908129e+07</td>\n",
       "      <td>46085.25</td>\n",
       "      <td>California</td>\n",
       "      <td>3020.403320</td>\n",
       "    </tr>\n",
       "    <tr>\n",
       "      <th>33</th>\n",
       "      <td>3117.073897</td>\n",
       "      <td>5.526082e+07</td>\n",
       "      <td>214634.81</td>\n",
       "      <td>Florida</td>\n",
       "      <td>3007.070207</td>\n",
       "    </tr>\n",
       "    <tr>\n",
       "      <th>34</th>\n",
       "      <td>2748.796742</td>\n",
       "      <td>1.084164e+08</td>\n",
       "      <td>210797.67</td>\n",
       "      <td>California</td>\n",
       "      <td>3005.709969</td>\n",
       "    </tr>\n",
       "    <tr>\n",
       "      <th>35</th>\n",
       "      <td>2731.580694</td>\n",
       "      <td>4.076216e+07</td>\n",
       "      <td>205517.64</td>\n",
       "      <td>New York</td>\n",
       "      <td>3000.908151</td>\n",
       "    </tr>\n",
       "    <tr>\n",
       "      <th>36</th>\n",
       "      <td>1956.745988</td>\n",
       "      <td>7.699397e+07</td>\n",
       "      <td>201126.82</td>\n",
       "      <td>Florida</td>\n",
       "      <td>2880.832481</td>\n",
       "    </tr>\n",
       "    <tr>\n",
       "      <th>37</th>\n",
       "      <td>2649.729966</td>\n",
       "      <td>1.828968e+07</td>\n",
       "      <td>197029.42</td>\n",
       "      <td>California</td>\n",
       "      <td>2864.850262</td>\n",
       "    </tr>\n",
       "    <tr>\n",
       "      <th>38</th>\n",
       "      <td>1530.529210</td>\n",
       "      <td>2.724297e+07</td>\n",
       "      <td>185265.10</td>\n",
       "      <td>New York</td>\n",
       "      <td>2677.829119</td>\n",
       "    </tr>\n",
       "    <tr>\n",
       "      <th>39</th>\n",
       "      <td>2411.620107</td>\n",
       "      <td>3.920502e+07</td>\n",
       "      <td>174999.30</td>\n",
       "      <td>California</td>\n",
       "      <td>2672.953181</td>\n",
       "    </tr>\n",
       "    <tr>\n",
       "      <th>40</th>\n",
       "      <td>1961.102160</td>\n",
       "      <td>6.898508e+07</td>\n",
       "      <td>172795.67</td>\n",
       "      <td>California</td>\n",
       "      <td>2612.176043</td>\n",
       "    </tr>\n",
       "    <tr>\n",
       "      <th>41</th>\n",
       "      <td>1919.504182</td>\n",
       "      <td>4.050681e+07</td>\n",
       "      <td>164470.71</td>\n",
       "      <td>Florida</td>\n",
       "      <td>2602.416972</td>\n",
       "    </tr>\n",
       "    <tr>\n",
       "      <th>42</th>\n",
       "      <td>1708.260745</td>\n",
       "      <td>4.954106e+07</td>\n",
       "      <td>148001.11</td>\n",
       "      <td>California</td>\n",
       "      <td>2460.902045</td>\n",
       "    </tr>\n",
       "    <tr>\n",
       "      <th>43</th>\n",
       "      <td>1268.838500</td>\n",
       "      <td>7.730728e+07</td>\n",
       "      <td>35534.17</td>\n",
       "      <td>New York</td>\n",
       "      <td>2421.096362</td>\n",
       "    </tr>\n",
       "    <tr>\n",
       "      <th>44</th>\n",
       "      <td>1633.025342</td>\n",
       "      <td>1.052878e+08</td>\n",
       "      <td>28334.72</td>\n",
       "      <td>California</td>\n",
       "      <td>2315.149430</td>\n",
       "    </tr>\n",
       "    <tr>\n",
       "      <th>45</th>\n",
       "      <td>182.828578</td>\n",
       "      <td>7.422541e+07</td>\n",
       "      <td>1903.93</td>\n",
       "      <td>New York</td>\n",
       "      <td>2308.697056</td>\n",
       "    </tr>\n",
       "    <tr>\n",
       "      <th>46</th>\n",
       "      <td>222.045035</td>\n",
       "      <td>6.648529e+07</td>\n",
       "      <td>297114.46</td>\n",
       "      <td>Florida</td>\n",
       "      <td>1928.864166</td>\n",
       "    </tr>\n",
       "    <tr>\n",
       "      <th>48</th>\n",
       "      <td>118.253176</td>\n",
       "      <td>1.855028e+07</td>\n",
       "      <td>0.00</td>\n",
       "      <td>New York</td>\n",
       "      <td>1552.892733</td>\n",
       "    </tr>\n",
       "  </tbody>\n",
       "</table>\n",
       "</div>"
      ],
      "text/plain": [
       "      R&D Spend  Administration  Marketing Spend       State       Profit\n",
       "0   6727.280793    8.665412e+07        471784.10    New York  4736.738938\n",
       "1   6648.216520    1.016174e+08        443898.53  California  4729.075200\n",
       "2   6382.208154    5.364541e+07        407934.54     Florida  4716.962796\n",
       "3   6114.061157    6.910109e+07        383199.62    New York  4582.822418\n",
       "4   6046.320734    4.568358e+07        366168.42     Florida  4301.154724\n",
       "5   5736.276832    5.253143e+07        362861.36    New York  4142.089232\n",
       "6   5819.947821    9.720924e+07        127716.82  California  4126.905250\n",
       "7   5687.807554    9.546901e+07        323876.68     Florida  4120.430260\n",
       "8   5384.336678    9.880444e+07        311613.29    New York  4058.184983\n",
       "9   5471.917704    6.011214e+07        304981.62  California  4014.796625\n",
       "10  4783.670375    6.179883e+07        229160.95     Florida  3949.971037\n",
       "11  4742.549136    4.599984e+07        249744.55  California  3916.571220\n",
       "12  4514.239852    7.724775e+07        249839.44     Florida  3868.366113\n",
       "13  4450.636982    8.525162e+07        252664.93  California  3735.565535\n",
       "14  5365.462721    1.071702e+08        256512.92     Florida  3704.112124\n",
       "15  5193.485225    7.277562e+07        261776.23    New York  3654.280882\n",
       "16  3962.621194    7.181949e+07        264346.06  California  3599.626247\n",
       "17  4541.092494    9.499917e+07        282574.31    New York  3569.115367\n",
       "18  4442.342241    6.499953e+07        294919.57     Florida  3548.289191\n",
       "19  4258.921786    1.038990e+08             0.00    New York  3520.067572\n",
       "20  3899.443386    6.472152e+07        298664.47  California  3437.912618\n",
       "21  3976.082025    1.041772e+08        299737.29    New York  3298.908267\n",
       "22  3817.671829    7.293169e+07        303319.26     Florida  3280.031418\n",
       "23  3579.590000    5.756647e+07        304768.73     Florida  3248.110231\n",
       "24  3927.871806    5.208740e+07        140574.81    New York  3244.511136\n",
       "25  3471.789739    8.933207e+07        137962.62  California  3221.761607\n",
       "26  3866.052723    9.402418e+07        134050.07     Florida  3188.495666\n",
       "27  3748.809428    7.777147e+07        353183.81    New York  3174.000922\n",
       "28  3524.092111    1.368247e+08        118148.20     Florida  3139.368824\n",
       "29  3507.305821    1.033826e+08        107138.38    New York  3093.362950\n",
       "30  3370.139087    6.632626e+07         91131.24     Florida  3071.690085\n",
       "31  3337.199692    1.030295e+08         88218.23    New York  3021.546775\n",
       "32  3424.139631    7.908129e+07         46085.25  California  3020.403320\n",
       "33  3117.073897    5.526082e+07        214634.81     Florida  3007.070207\n",
       "34  2748.796742    1.084164e+08        210797.67  California  3005.709969\n",
       "35  2731.580694    4.076216e+07        205517.64    New York  3000.908151\n",
       "36  1956.745988    7.699397e+07        201126.82     Florida  2880.832481\n",
       "37  2649.729966    1.828968e+07        197029.42  California  2864.850262\n",
       "38  1530.529210    2.724297e+07        185265.10    New York  2677.829119\n",
       "39  2411.620107    3.920502e+07        174999.30  California  2672.953181\n",
       "40  1961.102160    6.898508e+07        172795.67  California  2612.176043\n",
       "41  1919.504182    4.050681e+07        164470.71     Florida  2602.416972\n",
       "42  1708.260745    4.954106e+07        148001.11  California  2460.902045\n",
       "43  1268.838500    7.730728e+07         35534.17    New York  2421.096362\n",
       "44  1633.025342    1.052878e+08         28334.72  California  2315.149430\n",
       "45   182.828578    7.422541e+07          1903.93    New York  2308.697056\n",
       "46   222.045035    6.648529e+07        297114.46     Florida  1928.864166\n",
       "48   118.253176    1.855028e+07             0.00    New York  1552.892733"
      ]
     },
     "execution_count": 22,
     "metadata": {},
     "output_type": "execute_result"
    }
   ],
   "source": [
    "df"
   ]
  },
  {
   "cell_type": "markdown",
   "id": "aea4e594",
   "metadata": {},
   "source": [
    "### After transforming non normal data to normal distribution using Boxcox"
   ]
  },
  {
   "cell_type": "code",
   "execution_count": 23,
   "id": "86d2b215",
   "metadata": {},
   "outputs": [],
   "source": [
    "df=pd.get_dummies(df,columns=['State'])"
   ]
  },
  {
   "cell_type": "code",
   "execution_count": 24,
   "id": "ca89865d",
   "metadata": {
    "scrolled": true
   },
   "outputs": [
    {
     "data": {
      "text/html": [
       "<div>\n",
       "<style scoped>\n",
       "    .dataframe tbody tr th:only-of-type {\n",
       "        vertical-align: middle;\n",
       "    }\n",
       "\n",
       "    .dataframe tbody tr th {\n",
       "        vertical-align: top;\n",
       "    }\n",
       "\n",
       "    .dataframe thead th {\n",
       "        text-align: right;\n",
       "    }\n",
       "</style>\n",
       "<table border=\"1\" class=\"dataframe\">\n",
       "  <thead>\n",
       "    <tr style=\"text-align: right;\">\n",
       "      <th></th>\n",
       "      <th>R&amp;D Spend</th>\n",
       "      <th>Administration</th>\n",
       "      <th>Marketing Spend</th>\n",
       "      <th>Profit</th>\n",
       "      <th>State_California</th>\n",
       "      <th>State_Florida</th>\n",
       "      <th>State_New York</th>\n",
       "    </tr>\n",
       "  </thead>\n",
       "  <tbody>\n",
       "    <tr>\n",
       "      <th>0</th>\n",
       "      <td>6727.280793</td>\n",
       "      <td>8.665412e+07</td>\n",
       "      <td>471784.10</td>\n",
       "      <td>4736.738938</td>\n",
       "      <td>0</td>\n",
       "      <td>0</td>\n",
       "      <td>1</td>\n",
       "    </tr>\n",
       "    <tr>\n",
       "      <th>1</th>\n",
       "      <td>6648.216520</td>\n",
       "      <td>1.016174e+08</td>\n",
       "      <td>443898.53</td>\n",
       "      <td>4729.075200</td>\n",
       "      <td>1</td>\n",
       "      <td>0</td>\n",
       "      <td>0</td>\n",
       "    </tr>\n",
       "    <tr>\n",
       "      <th>2</th>\n",
       "      <td>6382.208154</td>\n",
       "      <td>5.364541e+07</td>\n",
       "      <td>407934.54</td>\n",
       "      <td>4716.962796</td>\n",
       "      <td>0</td>\n",
       "      <td>1</td>\n",
       "      <td>0</td>\n",
       "    </tr>\n",
       "    <tr>\n",
       "      <th>3</th>\n",
       "      <td>6114.061157</td>\n",
       "      <td>6.910109e+07</td>\n",
       "      <td>383199.62</td>\n",
       "      <td>4582.822418</td>\n",
       "      <td>0</td>\n",
       "      <td>0</td>\n",
       "      <td>1</td>\n",
       "    </tr>\n",
       "    <tr>\n",
       "      <th>4</th>\n",
       "      <td>6046.320734</td>\n",
       "      <td>4.568358e+07</td>\n",
       "      <td>366168.42</td>\n",
       "      <td>4301.154724</td>\n",
       "      <td>0</td>\n",
       "      <td>1</td>\n",
       "      <td>0</td>\n",
       "    </tr>\n",
       "    <tr>\n",
       "      <th>5</th>\n",
       "      <td>5736.276832</td>\n",
       "      <td>5.253143e+07</td>\n",
       "      <td>362861.36</td>\n",
       "      <td>4142.089232</td>\n",
       "      <td>0</td>\n",
       "      <td>0</td>\n",
       "      <td>1</td>\n",
       "    </tr>\n",
       "    <tr>\n",
       "      <th>6</th>\n",
       "      <td>5819.947821</td>\n",
       "      <td>9.720924e+07</td>\n",
       "      <td>127716.82</td>\n",
       "      <td>4126.905250</td>\n",
       "      <td>1</td>\n",
       "      <td>0</td>\n",
       "      <td>0</td>\n",
       "    </tr>\n",
       "    <tr>\n",
       "      <th>7</th>\n",
       "      <td>5687.807554</td>\n",
       "      <td>9.546901e+07</td>\n",
       "      <td>323876.68</td>\n",
       "      <td>4120.430260</td>\n",
       "      <td>0</td>\n",
       "      <td>1</td>\n",
       "      <td>0</td>\n",
       "    </tr>\n",
       "    <tr>\n",
       "      <th>8</th>\n",
       "      <td>5384.336678</td>\n",
       "      <td>9.880444e+07</td>\n",
       "      <td>311613.29</td>\n",
       "      <td>4058.184983</td>\n",
       "      <td>0</td>\n",
       "      <td>0</td>\n",
       "      <td>1</td>\n",
       "    </tr>\n",
       "    <tr>\n",
       "      <th>9</th>\n",
       "      <td>5471.917704</td>\n",
       "      <td>6.011214e+07</td>\n",
       "      <td>304981.62</td>\n",
       "      <td>4014.796625</td>\n",
       "      <td>1</td>\n",
       "      <td>0</td>\n",
       "      <td>0</td>\n",
       "    </tr>\n",
       "    <tr>\n",
       "      <th>10</th>\n",
       "      <td>4783.670375</td>\n",
       "      <td>6.179883e+07</td>\n",
       "      <td>229160.95</td>\n",
       "      <td>3949.971037</td>\n",
       "      <td>0</td>\n",
       "      <td>1</td>\n",
       "      <td>0</td>\n",
       "    </tr>\n",
       "    <tr>\n",
       "      <th>11</th>\n",
       "      <td>4742.549136</td>\n",
       "      <td>4.599984e+07</td>\n",
       "      <td>249744.55</td>\n",
       "      <td>3916.571220</td>\n",
       "      <td>1</td>\n",
       "      <td>0</td>\n",
       "      <td>0</td>\n",
       "    </tr>\n",
       "    <tr>\n",
       "      <th>12</th>\n",
       "      <td>4514.239852</td>\n",
       "      <td>7.724775e+07</td>\n",
       "      <td>249839.44</td>\n",
       "      <td>3868.366113</td>\n",
       "      <td>0</td>\n",
       "      <td>1</td>\n",
       "      <td>0</td>\n",
       "    </tr>\n",
       "    <tr>\n",
       "      <th>13</th>\n",
       "      <td>4450.636982</td>\n",
       "      <td>8.525162e+07</td>\n",
       "      <td>252664.93</td>\n",
       "      <td>3735.565535</td>\n",
       "      <td>1</td>\n",
       "      <td>0</td>\n",
       "      <td>0</td>\n",
       "    </tr>\n",
       "    <tr>\n",
       "      <th>14</th>\n",
       "      <td>5365.462721</td>\n",
       "      <td>1.071702e+08</td>\n",
       "      <td>256512.92</td>\n",
       "      <td>3704.112124</td>\n",
       "      <td>0</td>\n",
       "      <td>1</td>\n",
       "      <td>0</td>\n",
       "    </tr>\n",
       "    <tr>\n",
       "      <th>15</th>\n",
       "      <td>5193.485225</td>\n",
       "      <td>7.277562e+07</td>\n",
       "      <td>261776.23</td>\n",
       "      <td>3654.280882</td>\n",
       "      <td>0</td>\n",
       "      <td>0</td>\n",
       "      <td>1</td>\n",
       "    </tr>\n",
       "    <tr>\n",
       "      <th>16</th>\n",
       "      <td>3962.621194</td>\n",
       "      <td>7.181949e+07</td>\n",
       "      <td>264346.06</td>\n",
       "      <td>3599.626247</td>\n",
       "      <td>1</td>\n",
       "      <td>0</td>\n",
       "      <td>0</td>\n",
       "    </tr>\n",
       "    <tr>\n",
       "      <th>17</th>\n",
       "      <td>4541.092494</td>\n",
       "      <td>9.499917e+07</td>\n",
       "      <td>282574.31</td>\n",
       "      <td>3569.115367</td>\n",
       "      <td>0</td>\n",
       "      <td>0</td>\n",
       "      <td>1</td>\n",
       "    </tr>\n",
       "    <tr>\n",
       "      <th>18</th>\n",
       "      <td>4442.342241</td>\n",
       "      <td>6.499953e+07</td>\n",
       "      <td>294919.57</td>\n",
       "      <td>3548.289191</td>\n",
       "      <td>0</td>\n",
       "      <td>1</td>\n",
       "      <td>0</td>\n",
       "    </tr>\n",
       "    <tr>\n",
       "      <th>19</th>\n",
       "      <td>4258.921786</td>\n",
       "      <td>1.038990e+08</td>\n",
       "      <td>0.00</td>\n",
       "      <td>3520.067572</td>\n",
       "      <td>0</td>\n",
       "      <td>0</td>\n",
       "      <td>1</td>\n",
       "    </tr>\n",
       "    <tr>\n",
       "      <th>20</th>\n",
       "      <td>3899.443386</td>\n",
       "      <td>6.472152e+07</td>\n",
       "      <td>298664.47</td>\n",
       "      <td>3437.912618</td>\n",
       "      <td>1</td>\n",
       "      <td>0</td>\n",
       "      <td>0</td>\n",
       "    </tr>\n",
       "    <tr>\n",
       "      <th>21</th>\n",
       "      <td>3976.082025</td>\n",
       "      <td>1.041772e+08</td>\n",
       "      <td>299737.29</td>\n",
       "      <td>3298.908267</td>\n",
       "      <td>0</td>\n",
       "      <td>0</td>\n",
       "      <td>1</td>\n",
       "    </tr>\n",
       "    <tr>\n",
       "      <th>22</th>\n",
       "      <td>3817.671829</td>\n",
       "      <td>7.293169e+07</td>\n",
       "      <td>303319.26</td>\n",
       "      <td>3280.031418</td>\n",
       "      <td>0</td>\n",
       "      <td>1</td>\n",
       "      <td>0</td>\n",
       "    </tr>\n",
       "    <tr>\n",
       "      <th>23</th>\n",
       "      <td>3579.590000</td>\n",
       "      <td>5.756647e+07</td>\n",
       "      <td>304768.73</td>\n",
       "      <td>3248.110231</td>\n",
       "      <td>0</td>\n",
       "      <td>1</td>\n",
       "      <td>0</td>\n",
       "    </tr>\n",
       "    <tr>\n",
       "      <th>24</th>\n",
       "      <td>3927.871806</td>\n",
       "      <td>5.208740e+07</td>\n",
       "      <td>140574.81</td>\n",
       "      <td>3244.511136</td>\n",
       "      <td>0</td>\n",
       "      <td>0</td>\n",
       "      <td>1</td>\n",
       "    </tr>\n",
       "    <tr>\n",
       "      <th>25</th>\n",
       "      <td>3471.789739</td>\n",
       "      <td>8.933207e+07</td>\n",
       "      <td>137962.62</td>\n",
       "      <td>3221.761607</td>\n",
       "      <td>1</td>\n",
       "      <td>0</td>\n",
       "      <td>0</td>\n",
       "    </tr>\n",
       "    <tr>\n",
       "      <th>26</th>\n",
       "      <td>3866.052723</td>\n",
       "      <td>9.402418e+07</td>\n",
       "      <td>134050.07</td>\n",
       "      <td>3188.495666</td>\n",
       "      <td>0</td>\n",
       "      <td>1</td>\n",
       "      <td>0</td>\n",
       "    </tr>\n",
       "    <tr>\n",
       "      <th>27</th>\n",
       "      <td>3748.809428</td>\n",
       "      <td>7.777147e+07</td>\n",
       "      <td>353183.81</td>\n",
       "      <td>3174.000922</td>\n",
       "      <td>0</td>\n",
       "      <td>0</td>\n",
       "      <td>1</td>\n",
       "    </tr>\n",
       "    <tr>\n",
       "      <th>28</th>\n",
       "      <td>3524.092111</td>\n",
       "      <td>1.368247e+08</td>\n",
       "      <td>118148.20</td>\n",
       "      <td>3139.368824</td>\n",
       "      <td>0</td>\n",
       "      <td>1</td>\n",
       "      <td>0</td>\n",
       "    </tr>\n",
       "    <tr>\n",
       "      <th>29</th>\n",
       "      <td>3507.305821</td>\n",
       "      <td>1.033826e+08</td>\n",
       "      <td>107138.38</td>\n",
       "      <td>3093.362950</td>\n",
       "      <td>0</td>\n",
       "      <td>0</td>\n",
       "      <td>1</td>\n",
       "    </tr>\n",
       "    <tr>\n",
       "      <th>30</th>\n",
       "      <td>3370.139087</td>\n",
       "      <td>6.632626e+07</td>\n",
       "      <td>91131.24</td>\n",
       "      <td>3071.690085</td>\n",
       "      <td>0</td>\n",
       "      <td>1</td>\n",
       "      <td>0</td>\n",
       "    </tr>\n",
       "    <tr>\n",
       "      <th>31</th>\n",
       "      <td>3337.199692</td>\n",
       "      <td>1.030295e+08</td>\n",
       "      <td>88218.23</td>\n",
       "      <td>3021.546775</td>\n",
       "      <td>0</td>\n",
       "      <td>0</td>\n",
       "      <td>1</td>\n",
       "    </tr>\n",
       "    <tr>\n",
       "      <th>32</th>\n",
       "      <td>3424.139631</td>\n",
       "      <td>7.908129e+07</td>\n",
       "      <td>46085.25</td>\n",
       "      <td>3020.403320</td>\n",
       "      <td>1</td>\n",
       "      <td>0</td>\n",
       "      <td>0</td>\n",
       "    </tr>\n",
       "    <tr>\n",
       "      <th>33</th>\n",
       "      <td>3117.073897</td>\n",
       "      <td>5.526082e+07</td>\n",
       "      <td>214634.81</td>\n",
       "      <td>3007.070207</td>\n",
       "      <td>0</td>\n",
       "      <td>1</td>\n",
       "      <td>0</td>\n",
       "    </tr>\n",
       "    <tr>\n",
       "      <th>34</th>\n",
       "      <td>2748.796742</td>\n",
       "      <td>1.084164e+08</td>\n",
       "      <td>210797.67</td>\n",
       "      <td>3005.709969</td>\n",
       "      <td>1</td>\n",
       "      <td>0</td>\n",
       "      <td>0</td>\n",
       "    </tr>\n",
       "    <tr>\n",
       "      <th>35</th>\n",
       "      <td>2731.580694</td>\n",
       "      <td>4.076216e+07</td>\n",
       "      <td>205517.64</td>\n",
       "      <td>3000.908151</td>\n",
       "      <td>0</td>\n",
       "      <td>0</td>\n",
       "      <td>1</td>\n",
       "    </tr>\n",
       "    <tr>\n",
       "      <th>36</th>\n",
       "      <td>1956.745988</td>\n",
       "      <td>7.699397e+07</td>\n",
       "      <td>201126.82</td>\n",
       "      <td>2880.832481</td>\n",
       "      <td>0</td>\n",
       "      <td>1</td>\n",
       "      <td>0</td>\n",
       "    </tr>\n",
       "    <tr>\n",
       "      <th>37</th>\n",
       "      <td>2649.729966</td>\n",
       "      <td>1.828968e+07</td>\n",
       "      <td>197029.42</td>\n",
       "      <td>2864.850262</td>\n",
       "      <td>1</td>\n",
       "      <td>0</td>\n",
       "      <td>0</td>\n",
       "    </tr>\n",
       "    <tr>\n",
       "      <th>38</th>\n",
       "      <td>1530.529210</td>\n",
       "      <td>2.724297e+07</td>\n",
       "      <td>185265.10</td>\n",
       "      <td>2677.829119</td>\n",
       "      <td>0</td>\n",
       "      <td>0</td>\n",
       "      <td>1</td>\n",
       "    </tr>\n",
       "    <tr>\n",
       "      <th>39</th>\n",
       "      <td>2411.620107</td>\n",
       "      <td>3.920502e+07</td>\n",
       "      <td>174999.30</td>\n",
       "      <td>2672.953181</td>\n",
       "      <td>1</td>\n",
       "      <td>0</td>\n",
       "      <td>0</td>\n",
       "    </tr>\n",
       "    <tr>\n",
       "      <th>40</th>\n",
       "      <td>1961.102160</td>\n",
       "      <td>6.898508e+07</td>\n",
       "      <td>172795.67</td>\n",
       "      <td>2612.176043</td>\n",
       "      <td>1</td>\n",
       "      <td>0</td>\n",
       "      <td>0</td>\n",
       "    </tr>\n",
       "    <tr>\n",
       "      <th>41</th>\n",
       "      <td>1919.504182</td>\n",
       "      <td>4.050681e+07</td>\n",
       "      <td>164470.71</td>\n",
       "      <td>2602.416972</td>\n",
       "      <td>0</td>\n",
       "      <td>1</td>\n",
       "      <td>0</td>\n",
       "    </tr>\n",
       "    <tr>\n",
       "      <th>42</th>\n",
       "      <td>1708.260745</td>\n",
       "      <td>4.954106e+07</td>\n",
       "      <td>148001.11</td>\n",
       "      <td>2460.902045</td>\n",
       "      <td>1</td>\n",
       "      <td>0</td>\n",
       "      <td>0</td>\n",
       "    </tr>\n",
       "    <tr>\n",
       "      <th>43</th>\n",
       "      <td>1268.838500</td>\n",
       "      <td>7.730728e+07</td>\n",
       "      <td>35534.17</td>\n",
       "      <td>2421.096362</td>\n",
       "      <td>0</td>\n",
       "      <td>0</td>\n",
       "      <td>1</td>\n",
       "    </tr>\n",
       "    <tr>\n",
       "      <th>44</th>\n",
       "      <td>1633.025342</td>\n",
       "      <td>1.052878e+08</td>\n",
       "      <td>28334.72</td>\n",
       "      <td>2315.149430</td>\n",
       "      <td>1</td>\n",
       "      <td>0</td>\n",
       "      <td>0</td>\n",
       "    </tr>\n",
       "    <tr>\n",
       "      <th>45</th>\n",
       "      <td>182.828578</td>\n",
       "      <td>7.422541e+07</td>\n",
       "      <td>1903.93</td>\n",
       "      <td>2308.697056</td>\n",
       "      <td>0</td>\n",
       "      <td>0</td>\n",
       "      <td>1</td>\n",
       "    </tr>\n",
       "    <tr>\n",
       "      <th>46</th>\n",
       "      <td>222.045035</td>\n",
       "      <td>6.648529e+07</td>\n",
       "      <td>297114.46</td>\n",
       "      <td>1928.864166</td>\n",
       "      <td>0</td>\n",
       "      <td>1</td>\n",
       "      <td>0</td>\n",
       "    </tr>\n",
       "    <tr>\n",
       "      <th>48</th>\n",
       "      <td>118.253176</td>\n",
       "      <td>1.855028e+07</td>\n",
       "      <td>0.00</td>\n",
       "      <td>1552.892733</td>\n",
       "      <td>0</td>\n",
       "      <td>0</td>\n",
       "      <td>1</td>\n",
       "    </tr>\n",
       "  </tbody>\n",
       "</table>\n",
       "</div>"
      ],
      "text/plain": [
       "      R&D Spend  Administration  Marketing Spend       Profit  \\\n",
       "0   6727.280793    8.665412e+07        471784.10  4736.738938   \n",
       "1   6648.216520    1.016174e+08        443898.53  4729.075200   \n",
       "2   6382.208154    5.364541e+07        407934.54  4716.962796   \n",
       "3   6114.061157    6.910109e+07        383199.62  4582.822418   \n",
       "4   6046.320734    4.568358e+07        366168.42  4301.154724   \n",
       "5   5736.276832    5.253143e+07        362861.36  4142.089232   \n",
       "6   5819.947821    9.720924e+07        127716.82  4126.905250   \n",
       "7   5687.807554    9.546901e+07        323876.68  4120.430260   \n",
       "8   5384.336678    9.880444e+07        311613.29  4058.184983   \n",
       "9   5471.917704    6.011214e+07        304981.62  4014.796625   \n",
       "10  4783.670375    6.179883e+07        229160.95  3949.971037   \n",
       "11  4742.549136    4.599984e+07        249744.55  3916.571220   \n",
       "12  4514.239852    7.724775e+07        249839.44  3868.366113   \n",
       "13  4450.636982    8.525162e+07        252664.93  3735.565535   \n",
       "14  5365.462721    1.071702e+08        256512.92  3704.112124   \n",
       "15  5193.485225    7.277562e+07        261776.23  3654.280882   \n",
       "16  3962.621194    7.181949e+07        264346.06  3599.626247   \n",
       "17  4541.092494    9.499917e+07        282574.31  3569.115367   \n",
       "18  4442.342241    6.499953e+07        294919.57  3548.289191   \n",
       "19  4258.921786    1.038990e+08             0.00  3520.067572   \n",
       "20  3899.443386    6.472152e+07        298664.47  3437.912618   \n",
       "21  3976.082025    1.041772e+08        299737.29  3298.908267   \n",
       "22  3817.671829    7.293169e+07        303319.26  3280.031418   \n",
       "23  3579.590000    5.756647e+07        304768.73  3248.110231   \n",
       "24  3927.871806    5.208740e+07        140574.81  3244.511136   \n",
       "25  3471.789739    8.933207e+07        137962.62  3221.761607   \n",
       "26  3866.052723    9.402418e+07        134050.07  3188.495666   \n",
       "27  3748.809428    7.777147e+07        353183.81  3174.000922   \n",
       "28  3524.092111    1.368247e+08        118148.20  3139.368824   \n",
       "29  3507.305821    1.033826e+08        107138.38  3093.362950   \n",
       "30  3370.139087    6.632626e+07         91131.24  3071.690085   \n",
       "31  3337.199692    1.030295e+08         88218.23  3021.546775   \n",
       "32  3424.139631    7.908129e+07         46085.25  3020.403320   \n",
       "33  3117.073897    5.526082e+07        214634.81  3007.070207   \n",
       "34  2748.796742    1.084164e+08        210797.67  3005.709969   \n",
       "35  2731.580694    4.076216e+07        205517.64  3000.908151   \n",
       "36  1956.745988    7.699397e+07        201126.82  2880.832481   \n",
       "37  2649.729966    1.828968e+07        197029.42  2864.850262   \n",
       "38  1530.529210    2.724297e+07        185265.10  2677.829119   \n",
       "39  2411.620107    3.920502e+07        174999.30  2672.953181   \n",
       "40  1961.102160    6.898508e+07        172795.67  2612.176043   \n",
       "41  1919.504182    4.050681e+07        164470.71  2602.416972   \n",
       "42  1708.260745    4.954106e+07        148001.11  2460.902045   \n",
       "43  1268.838500    7.730728e+07         35534.17  2421.096362   \n",
       "44  1633.025342    1.052878e+08         28334.72  2315.149430   \n",
       "45   182.828578    7.422541e+07          1903.93  2308.697056   \n",
       "46   222.045035    6.648529e+07        297114.46  1928.864166   \n",
       "48   118.253176    1.855028e+07             0.00  1552.892733   \n",
       "\n",
       "    State_California  State_Florida  State_New York  \n",
       "0                  0              0               1  \n",
       "1                  1              0               0  \n",
       "2                  0              1               0  \n",
       "3                  0              0               1  \n",
       "4                  0              1               0  \n",
       "5                  0              0               1  \n",
       "6                  1              0               0  \n",
       "7                  0              1               0  \n",
       "8                  0              0               1  \n",
       "9                  1              0               0  \n",
       "10                 0              1               0  \n",
       "11                 1              0               0  \n",
       "12                 0              1               0  \n",
       "13                 1              0               0  \n",
       "14                 0              1               0  \n",
       "15                 0              0               1  \n",
       "16                 1              0               0  \n",
       "17                 0              0               1  \n",
       "18                 0              1               0  \n",
       "19                 0              0               1  \n",
       "20                 1              0               0  \n",
       "21                 0              0               1  \n",
       "22                 0              1               0  \n",
       "23                 0              1               0  \n",
       "24                 0              0               1  \n",
       "25                 1              0               0  \n",
       "26                 0              1               0  \n",
       "27                 0              0               1  \n",
       "28                 0              1               0  \n",
       "29                 0              0               1  \n",
       "30                 0              1               0  \n",
       "31                 0              0               1  \n",
       "32                 1              0               0  \n",
       "33                 0              1               0  \n",
       "34                 1              0               0  \n",
       "35                 0              0               1  \n",
       "36                 0              1               0  \n",
       "37                 1              0               0  \n",
       "38                 0              0               1  \n",
       "39                 1              0               0  \n",
       "40                 1              0               0  \n",
       "41                 0              1               0  \n",
       "42                 1              0               0  \n",
       "43                 0              0               1  \n",
       "44                 1              0               0  \n",
       "45                 0              0               1  \n",
       "46                 0              1               0  \n",
       "48                 0              0               1  "
      ]
     },
     "execution_count": 24,
     "metadata": {},
     "output_type": "execute_result"
    }
   ],
   "source": [
    "df"
   ]
  },
  {
   "cell_type": "markdown",
   "id": "eb378213",
   "metadata": {},
   "source": [
    "### Data normality check"
   ]
  },
  {
   "cell_type": "code",
   "execution_count": 25,
   "id": "40c4a6e8",
   "metadata": {},
   "outputs": [
    {
     "data": {
      "text/plain": [
       "<seaborn.axisgrid.FacetGrid at 0x7fbcdc242d00>"
      ]
     },
     "execution_count": 25,
     "metadata": {},
     "output_type": "execute_result"
    },
    {
     "data": {
      "image/png": "[encoded data removed]",
      "text/plain": [
       "<Figure size 360x360 with 1 Axes>"
      ]
     },
     "metadata": {},
     "output_type": "display_data"
    }
   ],
   "source": [
    "sns.displot(df['R&D Spend'],kde=True)"
   ]
  },
  {
   "cell_type": "code",
   "execution_count": 26,
   "id": "474282c7",
   "metadata": {},
   "outputs": [
    {
     "data": {
      "text/plain": [
       "<seaborn.axisgrid.FacetGrid at 0x7fbcdc108fa0>"
      ]
     },
     "execution_count": 26,
     "metadata": {},
     "output_type": "execute_result"
    },
    {
     "data": {
      "image/png": "[encoded data removed]",
      "text/plain": [
       "<Figure size 360x360 with 1 Axes>"
      ]
     },
     "metadata": {},
     "output_type": "display_data"
    },
    {
     "data": {
      "image/png": "[encoded data removed]",
      "text/plain": [
       "<Figure size 360x360 with 1 Axes>"
      ]
     },
     "metadata": {},
     "output_type": "display_data"
    }
   ],
   "source": [
    "sns.displot(df.Administration,kde=True)\n",
    "sns.displot(df['Marketing Spend'],kde=True)"
   ]
  },
  {
   "cell_type": "markdown",
   "id": "da0dec1a",
   "metadata": {},
   "source": [
    "#### Data looks quite Normal"
   ]
  },
  {
   "cell_type": "markdown",
   "id": "9befe0ae",
   "metadata": {},
   "source": [
    "### Scaling the Data"
   ]
  },
  {
   "cell_type": "code",
   "execution_count": 27,
   "id": "7a084c93",
   "metadata": {
    "scrolled": true
   },
   "outputs": [],
   "source": [
    "mmc=MinMaxScaler()\n",
    "sc=StandardScaler()\n",
    "mmc_df=mmc.fit_transform(df)"
   ]
  },
  {
   "cell_type": "code",
   "execution_count": 28,
   "id": "e236a79e",
   "metadata": {
    "scrolled": true
   },
   "outputs": [],
   "source": [
    "mmc_df=pd.DataFrame(mmc_df,columns=[df.columns])"
   ]
  },
  {
   "cell_type": "code",
   "execution_count": 29,
   "id": "04d1143d",
   "metadata": {},
   "outputs": [
    {
     "data": {
      "image/png": "[encoded data removed]",
      "text/plain": [
       "<Figure size 432x288 with 1 Axes>"
      ]
     },
     "metadata": {},
     "output_type": "display_data"
    }
   ],
   "source": [
    "plt.boxplot(mmc_df)\n",
    "plt.show()"
   ]
  },
  {
   "cell_type": "markdown",
   "id": "4f1a6f87",
   "metadata": {},
   "source": [
    "### Dataframe split and fitting"
   ]
  },
  {
   "cell_type": "code",
   "execution_count": 30,
   "id": "78a3eb8a",
   "metadata": {},
   "outputs": [],
   "source": [
    "X_train, X_test, y_train, y_test= tts(df.drop('Profit',axis=1),df.Profit,random_state=42)"
   ]
  },
  {
   "cell_type": "code",
   "execution_count": 31,
   "id": "d6253305",
   "metadata": {},
   "outputs": [
    {
     "data": {
      "text/plain": [
       "LinearRegression()"
      ]
     },
     "execution_count": 31,
     "metadata": {},
     "output_type": "execute_result"
    }
   ],
   "source": [
    "model=LinearRegression()\n",
    "model.fit(X_train,y_train)"
   ]
  },
  {
   "cell_type": "code",
   "execution_count": 32,
   "id": "d1bd1748",
   "metadata": {},
   "outputs": [
    {
     "data": {
      "text/plain": [
       "0.9419129852558271"
      ]
     },
     "execution_count": 32,
     "metadata": {},
     "output_type": "execute_result"
    }
   ],
   "source": [
    "model.score(X_test,y_test)"
   ]
  },
  {
   "cell_type": "code",
   "execution_count": 33,
   "id": "c52fdbe6",
   "metadata": {},
   "outputs": [
    {
     "data": {
      "text/plain": [
       "0.9419129852558271"
      ]
     },
     "execution_count": 33,
     "metadata": {},
     "output_type": "execute_result"
    }
   ],
   "source": [
    "r2_score(y_test,model.predict(X_test))"
   ]
  },
  {
   "cell_type": "code",
   "execution_count": 34,
   "id": "93ad0835",
   "metadata": {},
   "outputs": [
    {
     "name": "stderr",
     "output_type": "stream",
     "text": [
      "/home/vikrant/anaconda3/lib/python3.9/site-packages/pandas/core/generic.py:4150: PerformanceWarning: dropping on a non-lexsorted multi-index without a level parameter may impact performance.\n",
      "  obj = obj._drop_axis(labels, axis, level=level, errors=errors)\n"
     ]
    }
   ],
   "source": [
    "X_train, X_test, y_train, y_test= tts(mmc_df.drop('Profit',axis=1),mmc_df.Profit,random_state=42)"
   ]
  },
  {
   "cell_type": "code",
   "execution_count": 35,
   "id": "c307dc2b",
   "metadata": {},
   "outputs": [
    {
     "data": {
      "text/plain": [
       "LinearRegression()"
      ]
     },
     "execution_count": 35,
     "metadata": {},
     "output_type": "execute_result"
    }
   ],
   "source": [
    "model=LinearRegression()\n",
    "model.fit(X_train,y_train)"
   ]
  },
  {
   "cell_type": "code",
   "execution_count": 36,
   "id": "2acdddcb",
   "metadata": {},
   "outputs": [
    {
     "data": {
      "text/plain": [
       "0.941912985255829"
      ]
     },
     "execution_count": 36,
     "metadata": {},
     "output_type": "execute_result"
    }
   ],
   "source": [
    "model.score(X_test,y_test)"
   ]
  },
  {
   "cell_type": "code",
   "execution_count": 37,
   "id": "0bf0e9ff",
   "metadata": {},
   "outputs": [
    {
     "data": {
      "text/plain": [
       "array([ 0.78349244, -0.02248834,  0.11617225,  0.00961103, -0.0053015 ,\n",
       "       -0.00430953])"
      ]
     },
     "execution_count": 37,
     "metadata": {},
     "output_type": "execute_result"
    }
   ],
   "source": [
    "model.coef_[0]"
   ]
  },
  {
   "cell_type": "markdown",
   "id": "d621add9",
   "metadata": {},
   "source": [
    "### Dominant features = R&D Spend"
   ]
  },
  {
   "cell_type": "code",
   "execution_count": 38,
   "id": "a209f79f",
   "metadata": {
    "scrolled": true
   },
   "outputs": [
    {
     "data": {
      "text/plain": [
       "<BarContainer object of 6 artists>"
      ]
     },
     "execution_count": 38,
     "metadata": {},
     "output_type": "execute_result"
    },
    {
     "data": {
      "image/png": "[encoded data removed]",
      "text/plain": [
       "<Figure size 432x288 with 1 Axes>"
      ]
     },
     "metadata": {},
     "output_type": "display_data"
    }
   ],
   "source": [
    "plt.bar(range(len(model.coef_[0])),model.coef_[0])"
   ]
  },
  {
   "cell_type": "markdown",
   "id": "8797d945",
   "metadata": {},
   "source": [
    "### Residuals plot"
   ]
  },
  {
   "cell_type": "code",
   "execution_count": 39,
   "id": "047e93bb",
   "metadata": {},
   "outputs": [
    {
     "data": {
      "text/plain": [
       "<AxesSubplot:>"
      ]
     },
     "execution_count": 39,
     "metadata": {},
     "output_type": "execute_result"
    },
    {
     "data": {
      "image/png": "[encoded data removed]",
      "text/plain": [
       "<Figure size 432x288 with 1 Axes>"
      ]
     },
     "metadata": {},
     "output_type": "display_data"
    }
   ],
   "source": [
    "preds=model.predict(X_test)\n",
    "residuals=preds-y_test\n",
    "sns.scatterplot(y=np.array(residuals.Profit).reshape(12,),x=np.array(preds).flatten())\n",
    "sns.lineplot(x=[0,1],y=[0,0],color='red')"
   ]
  },
  {
   "cell_type": "markdown",
   "id": "17bc8103",
   "metadata": {},
   "source": [
    "### Residual's normality"
   ]
  },
  {
   "cell_type": "code",
   "execution_count": 40,
   "id": "9797497e",
   "metadata": {},
   "outputs": [
    {
     "data": {
      "text/plain": [
       "<seaborn.axisgrid.FacetGrid at 0x7fbcd7813520>"
      ]
     },
     "execution_count": 40,
     "metadata": {},
     "output_type": "execute_result"
    },
    {
     "data": {
      "image/png": "[encoded data removed]",
      "text/plain": [
       "<Figure size 428.6x360 with 1 Axes>"
      ]
     },
     "metadata": {},
     "output_type": "display_data"
    }
   ],
   "source": [
    "sns.displot(residuals,kde=True)"
   ]
  },
  {
   "cell_type": "code",
   "execution_count": 41,
   "id": "706ade43",
   "metadata": {},
   "outputs": [
    {
     "data": {
      "text/plain": [
       "<AxesSubplot:>"
      ]
     },
     "execution_count": 41,
     "metadata": {},
     "output_type": "execute_result"
    },
    {
     "data": {
      "image/png": "[encoded data removed]",
      "text/plain": [
       "<Figure size 432x288 with 1 Axes>"
      ]
     },
     "metadata": {},
     "output_type": "display_data"
    }
   ],
   "source": [
    "sns.lineplot(y=np.array(residuals.Profit).reshape(12,),x=np.array(preds).flatten())\n",
    "sns.lineplot(x=[0,1],y=[0,0],color='red')"
   ]
  },
  {
   "cell_type": "code",
   "execution_count": 42,
   "id": "3fda0fd2",
   "metadata": {},
   "outputs": [
    {
     "data": {
      "image/png": "[encoded data removed]",
      "text/plain": [
       "<Figure size 432x288 with 1 Axes>"
      ]
     },
     "metadata": {},
     "output_type": "display_data"
    }
   ],
   "source": [
    "import statsmodels.api as sm\n",
    "\n",
    "_=sm.graphics.tsa.plot_acf(residuals, lags=11)"
   ]
  },
  {
   "cell_type": "markdown",
   "id": "8ced23b2",
   "metadata": {},
   "source": [
    "#### No autocorrelation in predictions hence no seasonality"
   ]
  }
 ],
 "metadata": {
  "kernelspec": {
   "display_name": "Python 3 (ipykernel)",
   "language": "python",
   "name": "python3"
  },
  "language_info": {
   "codemirror_mode": {
    "name": "ipython",
    "version": 3
   },
   "file_extension": ".py",
   "mimetype": "text/x-python",
   "name": "python",
   "nbconvert_exporter": "python",
   "pygments_lexer": "ipython3",
   "version": "3.9.7"
  }
 },
 "nbformat": 4,
 "nbformat_minor": 5
}
